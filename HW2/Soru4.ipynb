{
 "cells": [
  {
   "cell_type": "markdown",
   "id": "3e224a65",
   "metadata": {},
   "source": [
    "# ndim(N,S): N-boyutlu çember için, S adet rastgele nokta veren fonksiyon.\n",
    "### Bilinmesi gerekenler: Matrislerin satır uzunlukları sample sayılarını, satır sayıları ise boyut sayısını verecek şekilde ayarlanmıştır. \n",
    "### 1. Kısım: \n",
    "#### -Burada öncelikle sayıların $x_1^2+\\cdots+x_n^2=1$ şartını sağlayabilmesi için, belirlenmiş boyut ve örnek sayısına uygun olacak şekilde, sayıların karelerinin atanacağı bir 0'lar matris(mtrx_sqrt_trivial) tanımlanıştır. Bu matris, N+1 boyutlu olarak tanımlanmış ve ilk satırı (daha sonra matristen silineceği göz önüne alınarak), 2. Kısımda kullanılmak üzere 1'lerden oluşan bir vektör ile değiştirilmiştir. \n",
    "\n",
    "#### -Bu kısımda 1'lerden oluşan r_1 vektörü, 2. kısımda yapılacak işlemler için atanmıştır. Bunun amacı, en üst satırdan, alttaki satırların toplamlarının çıkarılması yöntemi ile   $x_1^2+\\cdots+x_n^2=1$ şartının sağlanabilmesidir.\n",
    "\n",
    "### 2. Kısım:\n",
    "#### -İlk loopta bulunan *q* değişkeni N boyutu temsil ederken, *i* değişkeni ise sample sayısını temsil etmektedir. İlk olarak ikinci döngünün içerisinde kullanılmak üzere boş bir vektör oluşturulmuştur. Bu q ile ilişkili for döngüsü içerisine alınarak, her seferinde tekrar içinin boşaltılması sağlanmıştır. r_1 vektörü, q ile ilişkili for döngüsü N kere çalıştığında, $x_1^2+x_2+..+x_N^2$ toplamını verecek şekilde ayarlanmıştır. İkinci döngü ise, S adet $x_1^2$  $y_1^2$ vs  rastgele değerler oluşturmaktadır. Bu rastgele değerleri, r_2 vektörünün i. vektörünün maksimum değeri olarak ayarlamaktadır. Son olarak yeni elde edilen rastgele değerler (mtrx_sqrt_trivial)'nin q+1. satırına yazılmıştır. Bu sayede, $x_1^2+x_2+..+x_N^2$  ve $y_1^2+y_2+..+y_N^2$ vb toplamının 1'den büyük olamayacağı ayarlanmıştır.\n",
    "\n",
    "### 3. Kısım:\n",
    "#### -Burada mtrx_sqrt_trivial matrisinin son satırı, matrisin 1. indexinden(0. index 1'ler) N-1'i indexine kadar olan satırların toplamının, 0. index'ten çıkarılması ile, $x_1^2+x_2+..+x_N^2 = 1$ koşulu sağlanmıştır. Ardıdan 0. index matristen atılmıştır. Bu sayede, sayıların karelerinin oluşturduğu matris elde edilmiştir.\n",
    "#### -Daha sonra $x_1$, $y_1$, $x_2$ , $y_2$ vs gibi değerlerin kendisinin atanacağı bir matris(mtrx) oluşturulmuştur. Kareler matrisinin karekökü bu matrise atanmıştır. \n",
    "\n",
    "### 4. Kısım: \n",
    "#### -Son olarak gelen noktaların uniform olması için, negatif ya da pozitif değerler alabilmesi mümkün olmalıdır. Bu sebeple içerisinde sadece -1 ya da +1 bulunan ve her seferinde tamamen \"rastgele\" olarak belirlenen, S uzunluklu bir vektör ataması yapılmış, bu atama döngü içerisine konarak noktaların koordinatlarını veren matris ile for döngüsü içerisinde çarpılmıştır. Bu sayede uniformluk şartı sağlanmıştır."
   ]
  },
  {
   "cell_type": "code",
   "execution_count": 3,
   "id": "8095b74f",
   "metadata": {},
   "outputs": [],
   "source": [
    "import numpy as np\n",
    "import random"
   ]
  },
  {
   "cell_type": "code",
   "execution_count": 1,
   "id": "b6f30f1a",
   "metadata": {},
   "outputs": [],
   "source": [
    "def ndim(n,sample):\n",
    "    #-----------------1. Kısım Baslangic--------------------\n",
    "    mtrx_sqrt_trivial = np.zeros((n+1, sample)) \n",
    "    mtrx_sqrt_trivial[0] = np.ones((1,sample))\n",
    "    r_1 = np.zeros((1,sample))\n",
    "    #-----------------1. Kısım Sonu--------------------\n",
    "       \n",
    "    \n",
    "    #-----------------2. Kısım Baslangic--------------------\n",
    "    for q in range(n-1):\n",
    "        srt=np.array([])\n",
    "        r_2 = mtrx_sqrt_trivial[0] - r_1\n",
    "        for i in range(sample): #burada range n olacak\n",
    "            tek = random.uniform(0, r_2[0][i])\n",
    "            srt = np.append(srt,tek)\n",
    "        mtrx_sqrt_trivial[q+1] = srt\n",
    "        r_1 = srt + r_1\n",
    "    #-----------------2. Kısım Sonu--------------------\n",
    "\n",
    "    \n",
    "    \n",
    "    #-----------------3. Kısım Baslangic--------------------\n",
    "    mtrx_sqrt_trivial[n] = 1 - r_1\n",
    "    mtrx_sqrt = np.delete(mtrx_sqrt_trivial,0,0)\n",
    "    \n",
    "    mtrx = np.zeros((n,sample)) \n",
    "    mtrx = np.sqrt(mtrx_sqrt)\n",
    "    \n",
    "    #-----------------3. Kısım Sonu--------------------\n",
    "\n",
    "    \n",
    "    #-----------------4. Kısım Baslangic--------------------\n",
    "    for u in range(n):\n",
    "        arr = [(np.random.randint(0,2)*2-1) for i in range(sample)]\n",
    "        mtrx[u] = mtrx[u] * arr\n",
    "    #-----------------4. Kısım Sonu--------------------\n",
    "\n",
    "    \n",
    "    return mtrx"
   ]
  },
  {
   "cell_type": "code",
   "execution_count": null,
   "id": "0af1e9cb",
   "metadata": {},
   "outputs": [],
   "source": []
  }
 ],
 "metadata": {
  "kernelspec": {
   "display_name": "Python 3",
   "language": "python",
   "name": "python3"
  },
  "language_info": {
   "codemirror_mode": {
    "name": "ipython",
    "version": 3
   },
   "file_extension": ".py",
   "mimetype": "text/x-python",
   "name": "python",
   "nbconvert_exporter": "python",
   "pygments_lexer": "ipython3",
   "version": "3.8.8"
  }
 },
 "nbformat": 4,
 "nbformat_minor": 5
}
