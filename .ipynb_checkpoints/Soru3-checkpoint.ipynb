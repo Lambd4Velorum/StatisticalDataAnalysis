{
 "cells": [
  {
   "cell_type": "markdown",
   "id": "e3bf0d55",
   "metadata": {},
   "source": [
    "# sample3d(): \n",
    "## 3 boyutlu çember üzerinde, n tane noktayı veren ve çizdiren fonksiyon\n",
    "\n",
    "#### $^1$ İlk olarak gelen dataları çizdirmek için bir fonksiyon tanımladım. \n",
    "#### $^2$ Öncelikle $x_1^2$, $x_2^2$ ... $x_n^2$ değerlerini içerecek bir vektör oluşturdum. Ardından içerisinde $x^2$, $y^2$, $z^2$ değerlerinin tutulacağı, 3 satırlı ve n uzunluklu bir matris oluşturdum. Aynı zamanda  $x$, $y$, $z$ değerlerinin de saklanabilmesi için aynı boyutta bir matris daha oluşturdum. \n",
    "#### $^3$ 2. boyutu temsil eden $y$ ifadesinin karesinin alabileceği maksimum değerleri belirlemek için r1 isimli bir array oluşturdum. \n",
    "#### $^4$ Ardından bir for döngüsü içerisinde, n'in her değeri için rastgele atanmış $y_n^2$ değerleri buldum. Burada  $y_n^2$'nin alabileceği maksimum noktalar r1[n] ile sınırlandırılmıştır. \n",
    "#### $^5$ Sonrasında $1 - x^2+y^2$ değerlerini , bir vektöre atadım ve burada $z^2$ değerlerini içeren vektörü elde ettim. \n",
    "#### $^6$ Ardıdan seçilen noktaların uniform olabilmesi için içerisinde sadece -1 ya da +1 değerinin bulunacağı, n uzunluklu iki farklı rastgele vektör tanımladım. \n",
    "#### $^7$ Son olarak $x^2$ ve $y^2$ değerlerini içeren vektörlerin kareköklerini alıp, başka iki vektöre atadım ve bunları uniformluk getiren negatif-pozitif vektörler ile çarptım. Ardından bunları bir matrise atayarak üç satırlı ve n sütunlu bir matris elde ettim ve bu matrisi başlangıçta yazdığım draw fonksiyonunun bir parametresi olarak göndererek çizim yaptırdım."
   ]
  },
  {
   "cell_type": "code",
   "execution_count": 1,
   "id": "b8b70b55",
   "metadata": {
    "scrolled": true
   },
   "outputs": [],
   "source": [
    "import numpy as np\n",
    "import random\n",
    "from mpl_toolkits.mplot3d import Axes3D\n",
    "import matplotlib.pyplot as plt"
   ]
  },
  {
   "cell_type": "code",
   "execution_count": 2,
   "id": "6a696f37",
   "metadata": {},
   "outputs": [],
   "source": [
    "def draw(x,y,z):  #1\n",
    "    ax = plt.axes(projection='3d')\n",
    "    ax.scatter3D(x, y, z);\n",
    "    ax.view_init(60, 35)\n",
    "    return plt.show()\n",
    "\n",
    "def sample3d(n):\n",
    "    xsrt = np.random.random([n])  #2\n",
    "    mtrx_sqrt = np.zeros((3, n))  #2\n",
    "    mtrx = np.zeros((3,n))        #2\n",
    "\n",
    "    r1 = 1 - xsrt                 #3\n",
    "\n",
    "    ysrt=np.array([])\n",
    "\n",
    "    for i in range(n):            #4\n",
    "        u=r1[i]\n",
    "        ytek = random.uniform(0, u)\n",
    "        ysrt = np.append(ysrt,ytek)\n",
    "    zsrt = r1 - (ysrt)            #5\n",
    "    mtrx_sqrt[0,:] = xsrt\n",
    "    mtrx_sqrt[1,:] = ysrt\n",
    "    mtrx_sqrt[2,:] = zsrt\n",
    "\n",
    "    arrx = [(np.random.randint(0,2)*2-1) for i in range(n)]        #6\n",
    "    arry = [(np.random.randint(0,2)*2-1) for i in range(n)]\n",
    "    arrz = [(np.random.randint(0,2)*2-1) for i in range(n)]\n",
    " \n",
    "    x = np.array((xsrt ** (1/2)) * arrx)                           #7\n",
    "    y = np.array((ysrt ** (1/2)) * arry)\n",
    "    z = np.array((zsrt ** (1/2)) * arrz)\n",
    "\n",
    "    mtrx[0,:] = x\n",
    "    mtrx[1,:] = y\n",
    "    mtrx[2,:] = z\n",
    "    \n",
    "    cizim=draw(x,y,z)\n",
    "    \n",
    "    return cizim"
   ]
  },
  {
   "cell_type": "code",
   "execution_count": null,
   "id": "db5e2cc4",
   "metadata": {},
   "outputs": [],
   "source": []
  }
 ],
 "metadata": {
  "kernelspec": {
   "display_name": "Python 3",
   "language": "python",
   "name": "python3"
  },
  "language_info": {
   "codemirror_mode": {
    "name": "ipython",
    "version": 3
   },
   "file_extension": ".py",
   "mimetype": "text/x-python",
   "name": "python",
   "nbconvert_exporter": "python",
   "pygments_lexer": "ipython3",
   "version": "3.8.8"
  }
 },
 "nbformat": 4,
 "nbformat_minor": 5
}
