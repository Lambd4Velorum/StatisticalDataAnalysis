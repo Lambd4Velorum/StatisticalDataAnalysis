{
 "cells": [
  {
   "cell_type": "markdown",
   "id": "59852b17",
   "metadata": {},
   "source": [
    "# Riemann()\n",
    "## Verilen aralıkta ve  N adet subintervali göz önünde bulundurarak Riemann toplamını yapan fonksiyon. \n",
    "#### Burada dikkat edilmesi gereken, Riemann fonksiyonun son parametresinin \"tek değişkenli\" bir fonksiyon olarak verilmesi gerekmektedir. \n",
    "#### $_1$İlk olarak aralığı subinterval sayısına bölerek subinterval değerini buluyorum. Daha sonra ilk sınır değerimi bir vektör içerisine atıyorum. \n",
    "#### $_2$Ardıdan içerisinde her küçük aralığın alanlarının atanacağı boş bir bir sonuc vektörü oluşturuyorum. Bu gereksiz gibi gözükebilir ancak $a<c<d<b$ gibi başka bir $c$ ve $d$ değeri için de sonucu bulmak istersek tekrar hesap yapma gereği duymadan fonksiyonu modifiye edebilme esnekliği doğurduğu için bunu tercih ettim. \n",
    "#### $_3$Daha sonra, ilk elemanı \"a\" değeri yani başlangıç sınır koşulu olan dizi vektörünün içerisine, bütün subinterval değerlerimin atamasını bir for döngüsü ile atıyorum.\n",
    "#### $_4$Bunun akabinde başka bir for döngüsü ile, artık değerleri belli olan subinterval değerlerimi fn fonksiyonuna çözdürüp, her aralığın alanını bulmak için işlem yapıyorum. Bu sonuçları yine aynı döngü içerisinde sonuc vektörüme ekleyip en son toplamlarını alıyorum."
   ]
  },
  {
   "cell_type": "code",
   "execution_count": 1,
   "id": "8925127d",
   "metadata": {},
   "outputs": [],
   "source": [
    "import numpy as np\n",
    "import sympy"
   ]
  },
  {
   "cell_type": "code",
   "execution_count": null,
   "id": "041053aa",
   "metadata": {},
   "outputs": [],
   "source": [
    "#fn = lambda x : x**2 + 2*x ve benzeri formatlarda olmalı\n",
    "\n",
    "def Riemann(a,b,N,fn):\n",
    "    subinterval = float((b - a ) / N) #1\n",
    "    sonuc = np.array([])              #2\n",
    "    dizi = np.array([a])              #3\n",
    "    \n",
    "    for i in range(N-1):              #3 ---- ilk deger a oldugu için N-1 loop\n",
    "        a = a + subinterval;                 \n",
    "        dizi = np.append(dizi, a)     \n",
    "    for q in dizi:                    #4\n",
    "            u = fn(q)\n",
    "            sonuc = np.append(sonuc,((float(u)*subinterval)))\n",
    "    return sum(sonuc)"
   ]
  },
  {
   "cell_type": "code",
   "execution_count": null,
   "id": "fdbdbc48",
   "metadata": {},
   "outputs": [],
   "source": []
  }
 ],
 "metadata": {
  "kernelspec": {
   "display_name": "Python 3",
   "language": "python",
   "name": "python3"
  },
  "language_info": {
   "codemirror_mode": {
    "name": "ipython",
    "version": 3
   },
   "file_extension": ".py",
   "mimetype": "text/x-python",
   "name": "python",
   "nbconvert_exporter": "python",
   "pygments_lexer": "ipython3",
   "version": "3.8.8"
  }
 },
 "nbformat": 4,
 "nbformat_minor": 5
}
