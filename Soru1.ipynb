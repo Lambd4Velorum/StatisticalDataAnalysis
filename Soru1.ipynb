{
 "cells": [
  {
   "cell_type": "code",
   "execution_count": 1,
   "id": "8925127d",
   "metadata": {},
   "outputs": [],
   "source": [
    "import numpy as np\n",
    "import sympy"
   ]
  },
  {
   "cell_type": "code",
   "execution_count": null,
   "id": "041053aa",
   "metadata": {},
   "outputs": [],
   "source": [
    "#burada oncelikle islemleri yapmasi icin bir hesapla fonksiyonu yazdım, bu verilen parametreler ile hesap yapmaya yarıyor\n",
    "def hesaplaaraliksayisi(a,b,N,fn):\n",
    "    subinterval = float((b - a ) / N)\n",
    "    dizi = np.array([a])\n",
    "    sonuc = np.array([])\n",
    "    sonuc2 = 0\n",
    "\n",
    "    for i in range(N-1):\n",
    "        a = a + subinterval;\n",
    "        c = a;\n",
    "        dizi = np.append(dizi, c)\n",
    "    for q in dizi:\n",
    "            sonuc = np.append(sonuc,((float(fn.subs({'x': q}).evalf()))*subinterval))\n",
    "    return sum(sonuc)\n",
    "\n",
    "\n",
    "#burada ise kullanicidan alinan veriler ile hesaplanacak degerleri aldim ve hesaplanan sonucu bastirdim\n",
    "\n",
    "def Riemann():\n",
    "    s = input(\"Lutfen bilinmeyeni x olacak sekilde bir fonksiyon giriniz (ornek: x^2+3*x+5):    \")\n",
    "    fn = sympy.sympify(s)\n",
    "    a = input(\"Lutfen baslangic degerini giriniz: \")\n",
    "    a = float(a)\n",
    "    b = input(\"Lutfen bitis degerini giriniz: \")\n",
    "    b = float(b)\n",
    "    N = input(\"Lutfen subinterval sayisini giriniz: \")\n",
    "    N = int(N)\n",
    "    return hesaplaaraliksayisi(a,b,N,fn)\n",
    "Riemann()"
   ]
  },
  {
   "cell_type": "code",
   "execution_count": null,
   "id": "fdbdbc48",
   "metadata": {},
   "outputs": [],
   "source": []
  }
 ],
 "metadata": {
  "kernelspec": {
   "display_name": "Python 3",
   "language": "python",
   "name": "python3"
  },
  "language_info": {
   "codemirror_mode": {
    "name": "ipython",
    "version": 3
   },
   "file_extension": ".py",
   "mimetype": "text/x-python",
   "name": "python",
   "nbconvert_exporter": "python",
   "pygments_lexer": "ipython3",
   "version": "3.8.8"
  }
 },
 "nbformat": 4,
 "nbformat_minor": 5
}
