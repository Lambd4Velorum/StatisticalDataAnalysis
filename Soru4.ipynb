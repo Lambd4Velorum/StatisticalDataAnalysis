{
 "cells": [
  {
   "cell_type": "code",
   "execution_count": 3,
   "id": "8095b74f",
   "metadata": {},
   "outputs": [],
   "source": [
    "import numpy as np\n",
    "import random"
   ]
  },
  {
   "cell_type": "code",
   "execution_count": 34,
   "id": "b6f30f1a",
   "metadata": {},
   "outputs": [],
   "source": [
    "def ndim(n):\n",
    "    mtrx_sqrt_trivial = np.zeros((n+1, n)) #burada burada n = 5 sample sayisi, N=3 boyut, bu sqrtlerin atanacağı matrix\n",
    "    mtrx = np.zeros((n,n)) #bu ise normal degerlerin atanacagi matrix\n",
    "    mtrx_sqrt_trivial[0] = np.ones((1,n))\n",
    "    r_1 = np.zeros((1,n))\n",
    "       \n",
    "\n",
    "    for q in range(n-1):\n",
    "        srt=np.array([])\n",
    "        r_2 = mtrx_sqrt_trivial[0] - r_1\n",
    "        print(r_1)\n",
    "        for i in range(n): #burada range n olacak\n",
    "            tek = random.uniform(0, r_2[0][i])\n",
    "            srt = np.append(srt,tek)\n",
    "        mtrx_sqrt_trivial[q+1] = srt\n",
    "        r_1 = srt + r_1\n",
    "        \n",
    "    mtrx_sqrt_trivial[n] = 1 - r_1\n",
    "    mtrx_sqrt = np.delete(mtrx_sqrt_trivial,0,0)\n",
    "    \n",
    "    mtrx = np.sqrt(mtrx_sqrt)\n",
    "    \n",
    "    for u in range(n):\n",
    "        arr = [(np.random.randint(0,2)*2-1) for i in range(n)]\n",
    "        mtrx[u] = mtrx[u] * arr\n",
    "    \n",
    "    \n",
    "    return mtrx_sqrt"
   ]
  },
  {
   "cell_type": "code",
   "execution_count": 35,
   "id": "942a6c58",
   "metadata": {},
   "outputs": [
    {
     "name": "stdout",
     "output_type": "stream",
     "text": [
      "[[0. 0. 0. 0. 0.]]\n",
      "[[0.22085815 0.49703407 0.01917367 0.19965369 0.41624019]]\n",
      "[[0.74739508 0.49969366 0.07699486 0.99645334 0.95133291]]\n",
      "[[0.9412711  0.93209227 0.44752149 0.99674093 0.97214709]]\n"
     ]
    }
   ],
   "source": [
    "deneme = ndim(5)"
   ]
  },
  {
   "cell_type": "code",
   "execution_count": 36,
   "id": "63761234",
   "metadata": {},
   "outputs": [
    {
     "data": {
      "text/plain": [
       "1.0"
      ]
     },
     "execution_count": 36,
     "metadata": {},
     "output_type": "execute_result"
    }
   ],
   "source": [
    "deneme[0][1]+deneme[1][1]+deneme[2][1]+deneme[3][1]+deneme[4][1]"
   ]
  },
  {
   "cell_type": "code",
   "execution_count": 19,
   "id": "461fbc00",
   "metadata": {},
   "outputs": [
    {
     "data": {
      "text/plain": [
       "array([[0.20597083, 0.14932924, 0.88493196, 0.11579005, 0.81736115],\n",
       "       [0.30083817, 0.41585258, 0.06176838, 0.84445618, 0.04613444],\n",
       "       [0.25922719, 0.09956874, 0.01232639, 0.02487494, 0.04957423],\n",
       "       [0.15648739, 0.24579372, 0.01277256, 0.0104219 , 0.01117398],\n",
       "       [0.07747642, 0.08945573, 0.02820071, 0.00445693, 0.0757562 ]])"
      ]
     },
     "execution_count": 19,
     "metadata": {},
     "output_type": "execute_result"
    }
   ],
   "source": [
    "deneme"
   ]
  },
  {
   "cell_type": "code",
   "execution_count": null,
   "id": "4204c514",
   "metadata": {},
   "outputs": [],
   "source": []
  }
 ],
 "metadata": {
  "kernelspec": {
   "display_name": "Python 3",
   "language": "python",
   "name": "python3"
  },
  "language_info": {
   "codemirror_mode": {
    "name": "ipython",
    "version": 3
   },
   "file_extension": ".py",
   "mimetype": "text/x-python",
   "name": "python",
   "nbconvert_exporter": "python",
   "pygments_lexer": "ipython3",
   "version": "3.8.8"
  }
 },
 "nbformat": 4,
 "nbformat_minor": 5
}
