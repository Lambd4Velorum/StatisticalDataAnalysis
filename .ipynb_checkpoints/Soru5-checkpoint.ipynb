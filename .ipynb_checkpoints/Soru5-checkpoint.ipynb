{
 "cells": [
  {
   "cell_type": "code",
   "execution_count": 3,
   "id": "91a8c0be",
   "metadata": {},
   "outputs": [],
   "source": [
    "import mpl_toolkits.basemap as Basemap\n",
    "import matplotlib.pyplot as plt\n",
    "import requests\n",
    "import json\n",
    "import pandas as pd\n",
    "import numpy as np"
   ]
  },
  {
   "cell_type": "code",
   "execution_count": 4,
   "id": "b83ef475",
   "metadata": {},
   "outputs": [],
   "source": [
    "url = \"https://data.ibb.gov.tr/api/3/action/datastore_search?resource_id=d1f7c258-bbc1-406f-9ab2-7a7c1797c673&limit=6441\"\n",
    "#url2 = \"https://data.ibb.gov.tr/api/3/action/datastore_search?resource_id=ac646b83-3b6f-4ca2-afb4-9071ab44d9af&limit=34910\"\n",
    "payload = {}\n",
    "headers= {}\n",
    "\n",
    "\n",
    "response = requests.request(\"GET\", url, headers=headers, data = payload)\n",
    "#response2 = requests.request(\"GET\", url2, headers=headers, data = payload)\n",
    "\n",
    "result = json.loads(response.text)\n",
    "#result2 = json.loads(response2.text)\n",
    "\n",
    "records = result[\"result\"][\"records\"]\n",
    "veriseti = pd.DataFrame(data = records)\n",
    "df = veriseti.drop(veriseti.columns[[0,1,2,4,7,8,9,10,11,12]], axis=1)\n",
    "\n",
    "#records2 = result2[\"result\"][\"records\"]\n",
    "#veriseti2 = pd.DataFrame(data = records2)\n",
    "#df2 = veriseti2.drop(veriseti2.columns[[0,1,4,5,7,8,9,10]], axis=1)\n",
    "\n"
   ]
  },
  {
   "cell_type": "code",
   "execution_count": 8,
   "id": "7df1a086",
   "metadata": {},
   "outputs": [
    {
     "name": "stdout",
     "output_type": "stream",
     "text": [
      "<class 'pandas.core.frame.DataFrame'>\n",
      "RangeIndex: 6440 entries, 0 to 6439\n",
      "Data columns (total 3 columns):\n",
      " #   Column     Non-Null Count  Dtype \n",
      "---  ------     --------------  ----- \n",
      " 0   stop_name  6440 non-null   object\n",
      " 1   stop_lat   6440 non-null   object\n",
      " 2   stop_lon   6440 non-null   object\n",
      "dtypes: object(3)\n",
      "memory usage: 151.1+ KB\n"
     ]
    }
   ],
   "source": [
    "df.info()"
   ]
  },
  {
   "cell_type": "code",
   "execution_count": null,
   "id": "edb413e8",
   "metadata": {},
   "outputs": [],
   "source": []
  }
 ],
 "metadata": {
  "kernelspec": {
   "display_name": "Python 3",
   "language": "python",
   "name": "python3"
  },
  "language_info": {
   "codemirror_mode": {
    "name": "ipython",
    "version": 3
   },
   "file_extension": ".py",
   "mimetype": "text/x-python",
   "name": "python",
   "nbconvert_exporter": "python",
   "pygments_lexer": "ipython3",
   "version": "3.8.8"
  }
 },
 "nbformat": 4,
 "nbformat_minor": 5
}
