{
 "cells": [
  {
   "cell_type": "code",
   "execution_count": 156,
   "id": "24e68029",
   "metadata": {},
   "outputs": [],
   "source": [
    "import numpy as np\n",
    "from matplotlib import pyplot"
   ]
  },
  {
   "cell_type": "code",
   "execution_count": 157,
   "id": "1eb55f72",
   "metadata": {},
   "outputs": [],
   "source": [
    "def draw(A):\n",
    "    return matplotlib.pyplot.scatter(A[0],A[1])\n",
    "\n",
    "def sample2d(n):\n",
    "    arrx = [(np.random.randint(0,2)*2-1) for i in range(n)]\n",
    "    arry = [(np.random.randint(0,2)*2-1) for i in range(n)]\n",
    "    xsrt = np.random.random([n])\n",
    "    x = np.array((xsrt ** (1/2)) * arrx)\n",
    "    ysrt = 1 - xsrt\n",
    "    y = np.array((ysrt ** (1/2)) * arry)\n",
    "    mtrx = np.array([x,y])\n",
    "    return draw(mtrx)"
   ]
  },
  {
   "cell_type": "code",
   "execution_count": 160,
   "id": "988f2b81",
   "metadata": {},
   "outputs": [
    {
     "data": {
      "text/plain": [
       "<matplotlib.collections.PathCollection at 0x230bf46d6d0>"
      ]
     },
     "execution_count": 160,
     "metadata": {},
     "output_type": "execute_result"
    },
    {
     "data": {
      "image/png": "[encoded data removed]",
      "text/plain": [
       "<Figure size 432x288 with 1 Axes>"
      ]
     },
     "metadata": {
      "needs_background": "light"
     },
     "output_type": "display_data"
    }
   ],
   "source": [
    "sample2d(1)"
   ]
  },
  {
   "cell_type": "code",
   "execution_count": null,
   "id": "8454ff38",
   "metadata": {},
   "outputs": [],
   "source": []
  }
 ],
 "metadata": {
  "kernelspec": {
   "display_name": "Python 3",
   "language": "python",
   "name": "python3"
  },
  "language_info": {
   "codemirror_mode": {
    "name": "ipython",
    "version": 3
   },
   "file_extension": ".py",
   "mimetype": "text/x-python",
   "name": "python",
   "nbconvert_exporter": "python",
   "pygments_lexer": "ipython3",
   "version": "3.8.8"
  }
 },
 "nbformat": 4,
 "nbformat_minor": 5
}
