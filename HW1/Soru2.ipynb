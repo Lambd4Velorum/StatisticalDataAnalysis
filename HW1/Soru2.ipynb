{
 "cells": [
  {
   "cell_type": "markdown",
   "id": "e14f6387",
   "metadata": {},
   "source": [
    "# sample2d(n)\n",
    "## 2 boyutlu çember üzerinde, n tane noktayı veren ve çizdiren fonksiyon\n",
    "\n",
    "#### $^1$ İlk olarak gelen dataları çizdirmek için bir fonksiyon tanımladım. \n",
    "#### $^2$ Noktaları belirlemek için öncelikle $x_1^2 + y_1^2 = 1$, $x_2^2 + y_2^2 = 1$ .. $x_n^2 + y_n^2 = 1$ değerlerinin toplamı 1 olacak şekilde ayarlanmış, n uzunluklu iki vektör atadım. Birinci vektör $x^2$ değerlerini ikinci vektör ise $y^2$ değerlerinin içerisinde tutuyor. \n",
    "#### $^3$ Ardıdan seçilen noktaların uniform olabilmesi için içerisinde sadece -1 ya da +1 değerinin bulunacağı, n uzunluklu iki farklı rastgele vektör tanımladım. \n",
    "#### $^4$ Son olarak $x^2$ ve $y^2$ değerlerini içeren vektörlerin kareköklerini alıp, başka iki vektöre atadım ve bunları uniformluk getiren negatif-pozitif vektörler ile çarptım. Ardından bunları bir matrise atayarak iki satırlı ve n sütunlu bir matris elde ettim ve bu matrisi başlangıçta yazdığım draw fonksiyonunun bir parametresi olarak göndererek çizim yaptırdım."
   ]
  },
  {
   "cell_type": "code",
   "execution_count": 1,
   "id": "24e68029",
   "metadata": {},
   "outputs": [],
   "source": [
    "import numpy as np\n",
    "import matplotlib\n",
    "import matplotlib.pyplot as plt"
   ]
  },
  {
   "cell_type": "code",
   "execution_count": 2,
   "id": "1eb55f72",
   "metadata": {},
   "outputs": [],
   "source": [
    "def draw(A): #1\n",
    "    return matplotlib.pyplot.scatter(A[0],A[1])\n",
    "\n",
    "def sample2d(n):\n",
    "    xsrt = np.random.random([n])                              #2\n",
    "    ysrt = 1 - xsrt                                           #2\n",
    "    arrx = [(np.random.randint(0,2)*2-1) for i in range(n)]   #3\n",
    "    arry = [(np.random.randint(0,2)*2-1) for i in range(n)]   #3\n",
    "    x = np.array((xsrt ** (1/2)) * arrx)                      #4\n",
    "    y = np.array((ysrt ** (1/2)) * arry)\n",
    "    mtrx = np.array([x,y])\n",
    "    return draw(mtrx)"
   ]
  },
  {
   "cell_type": "code",
   "execution_count": null,
   "id": "8454ff38",
   "metadata": {},
   "outputs": [],
   "source": []
  }
 ],
 "metadata": {
  "kernelspec": {
   "display_name": "Python 3",
   "language": "python",
   "name": "python3"
  },
  "language_info": {
   "codemirror_mode": {
    "name": "ipython",
    "version": 3
   },
   "file_extension": ".py",
   "mimetype": "text/x-python",
   "name": "python",
   "nbconvert_exporter": "python",
   "pygments_lexer": "ipython3",
   "version": "3.8.8"
  }
 },
 "nbformat": 4,
 "nbformat_minor": 5
}
