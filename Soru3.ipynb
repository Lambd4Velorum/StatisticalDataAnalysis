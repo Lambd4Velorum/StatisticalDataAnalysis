{
 "cells": [
  {
   "cell_type": "code",
   "execution_count": 270,
   "id": "b8b70b55",
   "metadata": {
    "scrolled": true
   },
   "outputs": [],
   "source": [
    "import numpy as np\n",
    "import random\n",
    "from mpl_toolkits.mplot3d import Axes3D\n",
    "import matplotlib.pyplot as plt"
   ]
  },
  {
   "cell_type": "code",
   "execution_count": 325,
   "id": "6a696f37",
   "metadata": {},
   "outputs": [],
   "source": [
    "def draw(x,y,z):\n",
    "    ax = plt.axes(projection='3d')\n",
    "    ax.scatter3D(x, y, z);\n",
    "    ax.view_init(60, 35)\n",
    "    return plt.show()\n",
    "\n",
    "def array3d(n):\n",
    "    mtrx_sqrt = np.zeros((3, n)) #burada burada n = 5 sample sayisi, N=3 boyut, bu sqrtlerin atanacağı matrix\n",
    "    mtrx = np.zeros((3,n)) #bu ise normal degerlerin atanacagi matrix\n",
    "\n",
    "    xsrt = np.random.random([n]) #5 sampleli bir xkareler arrayi olusturdum\n",
    "\n",
    "    r1 = 1 - xsrt  #z^2 + y^2 ifadesinin kalani\n",
    "\n",
    "    ysrt=np.array([])\n",
    "\n",
    "    for i in range(n): #burada range n olacak\n",
    "        u=r1[i]\n",
    "        ytek = random.uniform(0, u)\n",
    "        ysrt = np.append(ysrt,ytek)\n",
    "    zsrt = r1 - (ysrt)\n",
    "    mtrx_sqrt[0,:] = xsrt\n",
    "    mtrx_sqrt[1,:] = ysrt\n",
    "    mtrx_sqrt[2,:] = zsrt\n",
    "\n",
    "    arrx = [(np.random.randint(0,2)*2-1) for i in range(n)]\n",
    "    arry = [(np.random.randint(0,2)*2-1) for i in range(n)]\n",
    "    arrz = [(np.random.randint(0,2)*2-1) for i in range(n)]\n",
    "\n",
    "    x = np.array((xsrt ** (1/2)) * arrx)\n",
    "    y = np.array((ysrt ** (1/2)) * arry)\n",
    "    z = np.array((zsrt ** (1/2)) * arrz)\n",
    "\n",
    "    mtrx[0,:] = x\n",
    "    mtrx[1,:] = y\n",
    "    mtrx[2,:] = z\n",
    "    \n",
    "    cizim=draw(x,y,z)\n",
    "    \n",
    "    return cizim"
   ]
  }
 ],
 "metadata": {
  "kernelspec": {
   "display_name": "Python 3",
   "language": "python",
   "name": "python3"
  },
  "language_info": {
   "codemirror_mode": {
    "name": "ipython",
    "version": 3
   },
   "file_extension": ".py",
   "mimetype": "text/x-python",
   "name": "python",
   "nbconvert_exporter": "python",
   "pygments_lexer": "ipython3",
   "version": "3.8.8"
  }
 },
 "nbformat": 4,
 "nbformat_minor": 5
}
