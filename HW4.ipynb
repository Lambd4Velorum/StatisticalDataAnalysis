{
 "cells": [
  {
   "cell_type": "code",
   "execution_count": 3,
   "id": "222a1585",
   "metadata": {
    "ExecuteTime": {
     "end_time": "2022-05-31T16:41:34.356927Z",
     "start_time": "2022-05-31T16:41:26.216426Z"
    }
   },
   "outputs": [],
   "source": [
    "import pandas as pd\n",
    "import numpy as np\n",
    "\n",
    "import matplotlib.pyplot as plt\n",
    "\n",
    "from urllib.request import urlopen\n",
    "from zipfile import ZipFile\n",
    "from io import BytesIO\n",
    "from collections import Counter\n",
    "\n",
    "import statsmodels.api as sm\n",
    "from statsmodels.formula.api import ols\n",
    "from statsmodels.formula.api import glm\n",
    "\n",
    "import matplotlib.pyplot as plt\n",
    "import seaborn as sns\n"
   ]
  },
  {
   "cell_type": "markdown",
   "id": "1e81bf4e",
   "metadata": {},
   "source": [
    "# HW 4"
   ]
  },
  {
   "cell_type": "markdown",
   "id": "f21330f9",
   "metadata": {},
   "source": [
    "# Q1\n",
    "\n",
    "For this question we are going to use [1994 Census Adult Data Set](https://archive.ics.uci.edu/ml/datasets/adult).\n",
    "\n",
    "Construct \n",
    "\n",
    "- Logistic regression\n",
    "- SVM\n",
    "- KNN\n",
    "- Decision tree\n",
    "- Gradient Boost (XGBoost)\n",
    "- Neural network\n",
    "\n",
    "models for the data. Cross-validate your models and measure the accuracies. Compare them putting the accuracies in a table."
   ]
  },
  {
   "cell_type": "markdown",
   "id": "8c0d93f7",
   "metadata": {},
   "source": [
    "### Meta data dosyasına bakarak, continuous ve discrete değişkenleri gözlemleyip. İşlemleri ona göre yapabiliriz.\n",
    "\n",
    "<strong>age: continuous. </strong>\n",
    "\n",
    "workclass: Private, Self-emp-not-inc, Self-emp-inc, Federal-gov, Local-gov, State-gov, Without-pay, Never-worked.\n",
    "\n",
    "<strong>fnlwgt: continuous.</strong>\n",
    "\n",
    "education: Bachelors, Some-college, 11th, HS-grad, Prof-school, Assoc-acdm, Assoc-voc, 9th, 7th-8th, 12th, Masters, 1st-4th, 10th, Doctorate, 5th-6th, Preschool.\n",
    "\n",
    "<strong>education-num: continuous.</strong>\n",
    "\n",
    "marital-status: Married-civ-spouse, Divorced, Never-married, Separated, Widowed, Married-spouse-absent, Married-AF-spouse.\n",
    "\n",
    "occupation: Tech-support, Craft-repair, Other-service, Sales, Exec-managerial, Prof-specialty, Handlers-cleaners, Machine-op-inspct, Adm-clerical, Farming-fishing, Transport-moving, Priv-house-serv, Protective-serv, Armed-Forces.\n",
    "\n",
    "relationship: Wife, Own-child, Husband, Not-in-family, Other-relative, Unmarried.\n",
    "\n",
    "race: White, Asian-Pac-Islander, Amer-Indian-Eskimo, Other, Black.\n",
    "\n",
    "sex: Female, Male.\n",
    "\n",
    "<strong>capital-gain: continuous.</strong>\n",
    "\n",
    "<strong>capital-loss: continuous.</strong>\n",
    "\n",
    "<strong>hours-per-week: continuous.</strong>\n",
    "\n",
    "native-country: United-States, Cambodia, England, Puerto-Rico, Canada, Germany, Outlying-US(Guam-USVI-etc), India, Japan, Greece, South, China, Cuba, Iran, Honduras, Philippines, Italy, Poland, Jamaica, Vietnam, Mexico, Portugal, Ireland, France, Dominican-Republic, Laos, Ecuador, Taiwan, Haiti, Columbia, Hungary, Guatemala, Nicaragua, Scotland, Thailand, Yugoslavia, El-Salvador, Trinadad&Tobago, Peru, Hong, Holand-Netherlands."
   ]
  },
  {
   "cell_type": "code",
   "execution_count": 4,
   "id": "976678eb",
   "metadata": {
    "ExecuteTime": {
     "end_time": "2022-05-31T16:41:39.478011Z",
     "start_time": "2022-05-31T16:41:39.456069Z"
    }
   },
   "outputs": [
    {
     "data": {
      "text/plain": [
       "15"
      ]
     },
     "execution_count": 4,
     "metadata": {},
     "output_type": "execute_result"
    }
   ],
   "source": [
    "names = [\"age\", \"workclass\", \"fnlwgt\", \"education\", \"educationnum\", \"maritalstatus\", \"occupation\", \"relationship\",\"race\", \n",
    "         \"sex\", \"capitalgain\", \"capitalloss\" , \"hoursperweek\", \"nativecountry\", \"income\"]\n",
    "len(names)"
   ]
  },
  {
   "cell_type": "code",
   "execution_count": 5,
   "id": "658454b7",
   "metadata": {
    "ExecuteTime": {
     "end_time": "2022-05-31T16:42:04.999323Z",
     "start_time": "2022-05-31T16:41:41.883876Z"
    }
   },
   "outputs": [
    {
     "data": {
      "text/html": [
       "<div>\n",
       "<style scoped>\n",
       "    .dataframe tbody tr th:only-of-type {\n",
       "        vertical-align: middle;\n",
       "    }\n",
       "\n",
       "    .dataframe tbody tr th {\n",
       "        vertical-align: top;\n",
       "    }\n",
       "\n",
       "    .dataframe thead th {\n",
       "        text-align: right;\n",
       "    }\n",
       "</style>\n",
       "<table border=\"1\" class=\"dataframe\">\n",
       "  <thead>\n",
       "    <tr style=\"text-align: right;\">\n",
       "      <th></th>\n",
       "      <th>0</th>\n",
       "      <th>1</th>\n",
       "      <th>2</th>\n",
       "      <th>3</th>\n",
       "      <th>4</th>\n",
       "      <th>5</th>\n",
       "      <th>6</th>\n",
       "      <th>7</th>\n",
       "      <th>8</th>\n",
       "      <th>9</th>\n",
       "      <th>10</th>\n",
       "      <th>11</th>\n",
       "      <th>12</th>\n",
       "      <th>13</th>\n",
       "      <th>14</th>\n",
       "    </tr>\n",
       "  </thead>\n",
       "  <tbody>\n",
       "    <tr>\n",
       "      <th>0</th>\n",
       "      <td>39</td>\n",
       "      <td>State-gov</td>\n",
       "      <td>77516</td>\n",
       "      <td>Bachelors</td>\n",
       "      <td>13</td>\n",
       "      <td>Never-married</td>\n",
       "      <td>Adm-clerical</td>\n",
       "      <td>Not-in-family</td>\n",
       "      <td>White</td>\n",
       "      <td>Male</td>\n",
       "      <td>2174</td>\n",
       "      <td>0</td>\n",
       "      <td>40</td>\n",
       "      <td>United-States</td>\n",
       "      <td>&lt;=50K</td>\n",
       "    </tr>\n",
       "    <tr>\n",
       "      <th>1</th>\n",
       "      <td>50</td>\n",
       "      <td>Self-emp-not-inc</td>\n",
       "      <td>83311</td>\n",
       "      <td>Bachelors</td>\n",
       "      <td>13</td>\n",
       "      <td>Married-civ-spouse</td>\n",
       "      <td>Exec-managerial</td>\n",
       "      <td>Husband</td>\n",
       "      <td>White</td>\n",
       "      <td>Male</td>\n",
       "      <td>0</td>\n",
       "      <td>0</td>\n",
       "      <td>13</td>\n",
       "      <td>United-States</td>\n",
       "      <td>&lt;=50K</td>\n",
       "    </tr>\n",
       "    <tr>\n",
       "      <th>2</th>\n",
       "      <td>38</td>\n",
       "      <td>Private</td>\n",
       "      <td>215646</td>\n",
       "      <td>HS-grad</td>\n",
       "      <td>9</td>\n",
       "      <td>Divorced</td>\n",
       "      <td>Handlers-cleaners</td>\n",
       "      <td>Not-in-family</td>\n",
       "      <td>White</td>\n",
       "      <td>Male</td>\n",
       "      <td>0</td>\n",
       "      <td>0</td>\n",
       "      <td>40</td>\n",
       "      <td>United-States</td>\n",
       "      <td>&lt;=50K</td>\n",
       "    </tr>\n",
       "    <tr>\n",
       "      <th>3</th>\n",
       "      <td>53</td>\n",
       "      <td>Private</td>\n",
       "      <td>234721</td>\n",
       "      <td>11th</td>\n",
       "      <td>7</td>\n",
       "      <td>Married-civ-spouse</td>\n",
       "      <td>Handlers-cleaners</td>\n",
       "      <td>Husband</td>\n",
       "      <td>Black</td>\n",
       "      <td>Male</td>\n",
       "      <td>0</td>\n",
       "      <td>0</td>\n",
       "      <td>40</td>\n",
       "      <td>United-States</td>\n",
       "      <td>&lt;=50K</td>\n",
       "    </tr>\n",
       "    <tr>\n",
       "      <th>4</th>\n",
       "      <td>28</td>\n",
       "      <td>Private</td>\n",
       "      <td>338409</td>\n",
       "      <td>Bachelors</td>\n",
       "      <td>13</td>\n",
       "      <td>Married-civ-spouse</td>\n",
       "      <td>Prof-specialty</td>\n",
       "      <td>Wife</td>\n",
       "      <td>Black</td>\n",
       "      <td>Female</td>\n",
       "      <td>0</td>\n",
       "      <td>0</td>\n",
       "      <td>40</td>\n",
       "      <td>Cuba</td>\n",
       "      <td>&lt;=50K</td>\n",
       "    </tr>\n",
       "    <tr>\n",
       "      <th>...</th>\n",
       "      <td>...</td>\n",
       "      <td>...</td>\n",
       "      <td>...</td>\n",
       "      <td>...</td>\n",
       "      <td>...</td>\n",
       "      <td>...</td>\n",
       "      <td>...</td>\n",
       "      <td>...</td>\n",
       "      <td>...</td>\n",
       "      <td>...</td>\n",
       "      <td>...</td>\n",
       "      <td>...</td>\n",
       "      <td>...</td>\n",
       "      <td>...</td>\n",
       "      <td>...</td>\n",
       "    </tr>\n",
       "    <tr>\n",
       "      <th>32556</th>\n",
       "      <td>27</td>\n",
       "      <td>Private</td>\n",
       "      <td>257302</td>\n",
       "      <td>Assoc-acdm</td>\n",
       "      <td>12</td>\n",
       "      <td>Married-civ-spouse</td>\n",
       "      <td>Tech-support</td>\n",
       "      <td>Wife</td>\n",
       "      <td>White</td>\n",
       "      <td>Female</td>\n",
       "      <td>0</td>\n",
       "      <td>0</td>\n",
       "      <td>38</td>\n",
       "      <td>United-States</td>\n",
       "      <td>&lt;=50K</td>\n",
       "    </tr>\n",
       "    <tr>\n",
       "      <th>32557</th>\n",
       "      <td>40</td>\n",
       "      <td>Private</td>\n",
       "      <td>154374</td>\n",
       "      <td>HS-grad</td>\n",
       "      <td>9</td>\n",
       "      <td>Married-civ-spouse</td>\n",
       "      <td>Machine-op-inspct</td>\n",
       "      <td>Husband</td>\n",
       "      <td>White</td>\n",
       "      <td>Male</td>\n",
       "      <td>0</td>\n",
       "      <td>0</td>\n",
       "      <td>40</td>\n",
       "      <td>United-States</td>\n",
       "      <td>&gt;50K</td>\n",
       "    </tr>\n",
       "    <tr>\n",
       "      <th>32558</th>\n",
       "      <td>58</td>\n",
       "      <td>Private</td>\n",
       "      <td>151910</td>\n",
       "      <td>HS-grad</td>\n",
       "      <td>9</td>\n",
       "      <td>Widowed</td>\n",
       "      <td>Adm-clerical</td>\n",
       "      <td>Unmarried</td>\n",
       "      <td>White</td>\n",
       "      <td>Female</td>\n",
       "      <td>0</td>\n",
       "      <td>0</td>\n",
       "      <td>40</td>\n",
       "      <td>United-States</td>\n",
       "      <td>&lt;=50K</td>\n",
       "    </tr>\n",
       "    <tr>\n",
       "      <th>32559</th>\n",
       "      <td>22</td>\n",
       "      <td>Private</td>\n",
       "      <td>201490</td>\n",
       "      <td>HS-grad</td>\n",
       "      <td>9</td>\n",
       "      <td>Never-married</td>\n",
       "      <td>Adm-clerical</td>\n",
       "      <td>Own-child</td>\n",
       "      <td>White</td>\n",
       "      <td>Male</td>\n",
       "      <td>0</td>\n",
       "      <td>0</td>\n",
       "      <td>20</td>\n",
       "      <td>United-States</td>\n",
       "      <td>&lt;=50K</td>\n",
       "    </tr>\n",
       "    <tr>\n",
       "      <th>32560</th>\n",
       "      <td>52</td>\n",
       "      <td>Self-emp-inc</td>\n",
       "      <td>287927</td>\n",
       "      <td>HS-grad</td>\n",
       "      <td>9</td>\n",
       "      <td>Married-civ-spouse</td>\n",
       "      <td>Exec-managerial</td>\n",
       "      <td>Wife</td>\n",
       "      <td>White</td>\n",
       "      <td>Female</td>\n",
       "      <td>15024</td>\n",
       "      <td>0</td>\n",
       "      <td>40</td>\n",
       "      <td>United-States</td>\n",
       "      <td>&gt;50K</td>\n",
       "    </tr>\n",
       "  </tbody>\n",
       "</table>\n",
       "<p>32561 rows × 15 columns</p>\n",
       "</div>"
      ],
      "text/plain": [
       "       0                  1       2            3   4                    5   \\\n",
       "0      39          State-gov   77516    Bachelors  13        Never-married   \n",
       "1      50   Self-emp-not-inc   83311    Bachelors  13   Married-civ-spouse   \n",
       "2      38            Private  215646      HS-grad   9             Divorced   \n",
       "3      53            Private  234721         11th   7   Married-civ-spouse   \n",
       "4      28            Private  338409    Bachelors  13   Married-civ-spouse   \n",
       "...    ..                ...     ...          ...  ..                  ...   \n",
       "32556  27            Private  257302   Assoc-acdm  12   Married-civ-spouse   \n",
       "32557  40            Private  154374      HS-grad   9   Married-civ-spouse   \n",
       "32558  58            Private  151910      HS-grad   9              Widowed   \n",
       "32559  22            Private  201490      HS-grad   9        Never-married   \n",
       "32560  52       Self-emp-inc  287927      HS-grad   9   Married-civ-spouse   \n",
       "\n",
       "                       6               7       8        9      10  11  12  \\\n",
       "0            Adm-clerical   Not-in-family   White     Male   2174   0  40   \n",
       "1         Exec-managerial         Husband   White     Male      0   0  13   \n",
       "2       Handlers-cleaners   Not-in-family   White     Male      0   0  40   \n",
       "3       Handlers-cleaners         Husband   Black     Male      0   0  40   \n",
       "4          Prof-specialty            Wife   Black   Female      0   0  40   \n",
       "...                   ...             ...     ...      ...    ...  ..  ..   \n",
       "32556        Tech-support            Wife   White   Female      0   0  38   \n",
       "32557   Machine-op-inspct         Husband   White     Male      0   0  40   \n",
       "32558        Adm-clerical       Unmarried   White   Female      0   0  40   \n",
       "32559        Adm-clerical       Own-child   White     Male      0   0  20   \n",
       "32560     Exec-managerial            Wife   White   Female  15024   0  40   \n",
       "\n",
       "                   13      14  \n",
       "0       United-States   <=50K  \n",
       "1       United-States   <=50K  \n",
       "2       United-States   <=50K  \n",
       "3       United-States   <=50K  \n",
       "4                Cuba   <=50K  \n",
       "...               ...     ...  \n",
       "32556   United-States   <=50K  \n",
       "32557   United-States    >50K  \n",
       "32558   United-States   <=50K  \n",
       "32559   United-States   <=50K  \n",
       "32560   United-States    >50K  \n",
       "\n",
       "[32561 rows x 15 columns]"
      ]
     },
     "execution_count": 5,
     "metadata": {},
     "output_type": "execute_result"
    }
   ],
   "source": [
    "data = pd.read_csv('https://archive.ics.uci.edu/ml/machine-learning-databases/adult/adult.data', header=None)\n",
    "data"
   ]
  },
  {
   "cell_type": "code",
   "execution_count": 6,
   "id": "5ed8a80a",
   "metadata": {
    "ExecuteTime": {
     "end_time": "2022-05-31T16:42:42.976029Z",
     "start_time": "2022-05-31T16:42:42.913197Z"
    },
    "scrolled": false
   },
   "outputs": [
    {
     "data": {
      "text/html": [
       "<div>\n",
       "<style scoped>\n",
       "    .dataframe tbody tr th:only-of-type {\n",
       "        vertical-align: middle;\n",
       "    }\n",
       "\n",
       "    .dataframe tbody tr th {\n",
       "        vertical-align: top;\n",
       "    }\n",
       "\n",
       "    .dataframe thead th {\n",
       "        text-align: right;\n",
       "    }\n",
       "</style>\n",
       "<table border=\"1\" class=\"dataframe\">\n",
       "  <thead>\n",
       "    <tr style=\"text-align: right;\">\n",
       "      <th></th>\n",
       "      <th>age</th>\n",
       "      <th>workclass</th>\n",
       "      <th>fnlwgt</th>\n",
       "      <th>education</th>\n",
       "      <th>educationnum</th>\n",
       "      <th>maritalstatus</th>\n",
       "      <th>occupation</th>\n",
       "      <th>relationship</th>\n",
       "      <th>race</th>\n",
       "      <th>sex</th>\n",
       "      <th>capitalgain</th>\n",
       "      <th>capitalloss</th>\n",
       "      <th>hoursperweek</th>\n",
       "      <th>nativecountry</th>\n",
       "      <th>income</th>\n",
       "    </tr>\n",
       "  </thead>\n",
       "  <tbody>\n",
       "    <tr>\n",
       "      <th>0</th>\n",
       "      <td>39</td>\n",
       "      <td>State-gov</td>\n",
       "      <td>77516</td>\n",
       "      <td>Bachelors</td>\n",
       "      <td>13</td>\n",
       "      <td>Never-married</td>\n",
       "      <td>Adm-clerical</td>\n",
       "      <td>Not-in-family</td>\n",
       "      <td>White</td>\n",
       "      <td>Male</td>\n",
       "      <td>2174</td>\n",
       "      <td>0</td>\n",
       "      <td>40</td>\n",
       "      <td>United-States</td>\n",
       "      <td>&lt;=50K</td>\n",
       "    </tr>\n",
       "    <tr>\n",
       "      <th>1</th>\n",
       "      <td>50</td>\n",
       "      <td>Self-emp-not-inc</td>\n",
       "      <td>83311</td>\n",
       "      <td>Bachelors</td>\n",
       "      <td>13</td>\n",
       "      <td>Married-civ-spouse</td>\n",
       "      <td>Exec-managerial</td>\n",
       "      <td>Husband</td>\n",
       "      <td>White</td>\n",
       "      <td>Male</td>\n",
       "      <td>0</td>\n",
       "      <td>0</td>\n",
       "      <td>13</td>\n",
       "      <td>United-States</td>\n",
       "      <td>&lt;=50K</td>\n",
       "    </tr>\n",
       "    <tr>\n",
       "      <th>2</th>\n",
       "      <td>38</td>\n",
       "      <td>Private</td>\n",
       "      <td>215646</td>\n",
       "      <td>HS-grad</td>\n",
       "      <td>9</td>\n",
       "      <td>Divorced</td>\n",
       "      <td>Handlers-cleaners</td>\n",
       "      <td>Not-in-family</td>\n",
       "      <td>White</td>\n",
       "      <td>Male</td>\n",
       "      <td>0</td>\n",
       "      <td>0</td>\n",
       "      <td>40</td>\n",
       "      <td>United-States</td>\n",
       "      <td>&lt;=50K</td>\n",
       "    </tr>\n",
       "    <tr>\n",
       "      <th>3</th>\n",
       "      <td>53</td>\n",
       "      <td>Private</td>\n",
       "      <td>234721</td>\n",
       "      <td>11th</td>\n",
       "      <td>7</td>\n",
       "      <td>Married-civ-spouse</td>\n",
       "      <td>Handlers-cleaners</td>\n",
       "      <td>Husband</td>\n",
       "      <td>Black</td>\n",
       "      <td>Male</td>\n",
       "      <td>0</td>\n",
       "      <td>0</td>\n",
       "      <td>40</td>\n",
       "      <td>United-States</td>\n",
       "      <td>&lt;=50K</td>\n",
       "    </tr>\n",
       "    <tr>\n",
       "      <th>4</th>\n",
       "      <td>28</td>\n",
       "      <td>Private</td>\n",
       "      <td>338409</td>\n",
       "      <td>Bachelors</td>\n",
       "      <td>13</td>\n",
       "      <td>Married-civ-spouse</td>\n",
       "      <td>Prof-specialty</td>\n",
       "      <td>Wife</td>\n",
       "      <td>Black</td>\n",
       "      <td>Female</td>\n",
       "      <td>0</td>\n",
       "      <td>0</td>\n",
       "      <td>40</td>\n",
       "      <td>Cuba</td>\n",
       "      <td>&lt;=50K</td>\n",
       "    </tr>\n",
       "    <tr>\n",
       "      <th>...</th>\n",
       "      <td>...</td>\n",
       "      <td>...</td>\n",
       "      <td>...</td>\n",
       "      <td>...</td>\n",
       "      <td>...</td>\n",
       "      <td>...</td>\n",
       "      <td>...</td>\n",
       "      <td>...</td>\n",
       "      <td>...</td>\n",
       "      <td>...</td>\n",
       "      <td>...</td>\n",
       "      <td>...</td>\n",
       "      <td>...</td>\n",
       "      <td>...</td>\n",
       "      <td>...</td>\n",
       "    </tr>\n",
       "    <tr>\n",
       "      <th>32556</th>\n",
       "      <td>27</td>\n",
       "      <td>Private</td>\n",
       "      <td>257302</td>\n",
       "      <td>Assoc-acdm</td>\n",
       "      <td>12</td>\n",
       "      <td>Married-civ-spouse</td>\n",
       "      <td>Tech-support</td>\n",
       "      <td>Wife</td>\n",
       "      <td>White</td>\n",
       "      <td>Female</td>\n",
       "      <td>0</td>\n",
       "      <td>0</td>\n",
       "      <td>38</td>\n",
       "      <td>United-States</td>\n",
       "      <td>&lt;=50K</td>\n",
       "    </tr>\n",
       "    <tr>\n",
       "      <th>32557</th>\n",
       "      <td>40</td>\n",
       "      <td>Private</td>\n",
       "      <td>154374</td>\n",
       "      <td>HS-grad</td>\n",
       "      <td>9</td>\n",
       "      <td>Married-civ-spouse</td>\n",
       "      <td>Machine-op-inspct</td>\n",
       "      <td>Husband</td>\n",
       "      <td>White</td>\n",
       "      <td>Male</td>\n",
       "      <td>0</td>\n",
       "      <td>0</td>\n",
       "      <td>40</td>\n",
       "      <td>United-States</td>\n",
       "      <td>&gt;50K</td>\n",
       "    </tr>\n",
       "    <tr>\n",
       "      <th>32558</th>\n",
       "      <td>58</td>\n",
       "      <td>Private</td>\n",
       "      <td>151910</td>\n",
       "      <td>HS-grad</td>\n",
       "      <td>9</td>\n",
       "      <td>Widowed</td>\n",
       "      <td>Adm-clerical</td>\n",
       "      <td>Unmarried</td>\n",
       "      <td>White</td>\n",
       "      <td>Female</td>\n",
       "      <td>0</td>\n",
       "      <td>0</td>\n",
       "      <td>40</td>\n",
       "      <td>United-States</td>\n",
       "      <td>&lt;=50K</td>\n",
       "    </tr>\n",
       "    <tr>\n",
       "      <th>32559</th>\n",
       "      <td>22</td>\n",
       "      <td>Private</td>\n",
       "      <td>201490</td>\n",
       "      <td>HS-grad</td>\n",
       "      <td>9</td>\n",
       "      <td>Never-married</td>\n",
       "      <td>Adm-clerical</td>\n",
       "      <td>Own-child</td>\n",
       "      <td>White</td>\n",
       "      <td>Male</td>\n",
       "      <td>0</td>\n",
       "      <td>0</td>\n",
       "      <td>20</td>\n",
       "      <td>United-States</td>\n",
       "      <td>&lt;=50K</td>\n",
       "    </tr>\n",
       "    <tr>\n",
       "      <th>32560</th>\n",
       "      <td>52</td>\n",
       "      <td>Self-emp-inc</td>\n",
       "      <td>287927</td>\n",
       "      <td>HS-grad</td>\n",
       "      <td>9</td>\n",
       "      <td>Married-civ-spouse</td>\n",
       "      <td>Exec-managerial</td>\n",
       "      <td>Wife</td>\n",
       "      <td>White</td>\n",
       "      <td>Female</td>\n",
       "      <td>15024</td>\n",
       "      <td>0</td>\n",
       "      <td>40</td>\n",
       "      <td>United-States</td>\n",
       "      <td>&gt;50K</td>\n",
       "    </tr>\n",
       "  </tbody>\n",
       "</table>\n",
       "<p>32561 rows × 15 columns</p>\n",
       "</div>"
      ],
      "text/plain": [
       "       age          workclass  fnlwgt    education  educationnum  \\\n",
       "0       39          State-gov   77516    Bachelors            13   \n",
       "1       50   Self-emp-not-inc   83311    Bachelors            13   \n",
       "2       38            Private  215646      HS-grad             9   \n",
       "3       53            Private  234721         11th             7   \n",
       "4       28            Private  338409    Bachelors            13   \n",
       "...    ...                ...     ...          ...           ...   \n",
       "32556   27            Private  257302   Assoc-acdm            12   \n",
       "32557   40            Private  154374      HS-grad             9   \n",
       "32558   58            Private  151910      HS-grad             9   \n",
       "32559   22            Private  201490      HS-grad             9   \n",
       "32560   52       Self-emp-inc  287927      HS-grad             9   \n",
       "\n",
       "             maritalstatus          occupation    relationship    race  \\\n",
       "0            Never-married        Adm-clerical   Not-in-family   White   \n",
       "1       Married-civ-spouse     Exec-managerial         Husband   White   \n",
       "2                 Divorced   Handlers-cleaners   Not-in-family   White   \n",
       "3       Married-civ-spouse   Handlers-cleaners         Husband   Black   \n",
       "4       Married-civ-spouse      Prof-specialty            Wife   Black   \n",
       "...                    ...                 ...             ...     ...   \n",
       "32556   Married-civ-spouse        Tech-support            Wife   White   \n",
       "32557   Married-civ-spouse   Machine-op-inspct         Husband   White   \n",
       "32558              Widowed        Adm-clerical       Unmarried   White   \n",
       "32559        Never-married        Adm-clerical       Own-child   White   \n",
       "32560   Married-civ-spouse     Exec-managerial            Wife   White   \n",
       "\n",
       "           sex  capitalgain  capitalloss  hoursperweek   nativecountry  income  \n",
       "0         Male         2174            0            40   United-States   <=50K  \n",
       "1         Male            0            0            13   United-States   <=50K  \n",
       "2         Male            0            0            40   United-States   <=50K  \n",
       "3         Male            0            0            40   United-States   <=50K  \n",
       "4       Female            0            0            40            Cuba   <=50K  \n",
       "...        ...          ...          ...           ...             ...     ...  \n",
       "32556   Female            0            0            38   United-States   <=50K  \n",
       "32557     Male            0            0            40   United-States    >50K  \n",
       "32558   Female            0            0            40   United-States   <=50K  \n",
       "32559     Male            0            0            20   United-States   <=50K  \n",
       "32560   Female        15024            0            40   United-States    >50K  \n",
       "\n",
       "[32561 rows x 15 columns]"
      ]
     },
     "execution_count": 6,
     "metadata": {},
     "output_type": "execute_result"
    }
   ],
   "source": [
    "data.columns = names\n",
    "data"
   ]
  },
  {
   "cell_type": "code",
   "execution_count": 7,
   "id": "8eaeab7d",
   "metadata": {
    "ExecuteTime": {
     "end_time": "2022-05-31T16:42:51.466230Z",
     "start_time": "2022-05-31T16:42:51.452514Z"
    }
   },
   "outputs": [],
   "source": [
    "X = data.iloc[:,0:14]"
   ]
  },
  {
   "cell_type": "code",
   "execution_count": 8,
   "id": "ff96acc7",
   "metadata": {
    "ExecuteTime": {
     "end_time": "2022-05-31T16:42:54.509709Z",
     "start_time": "2022-05-31T16:42:54.475847Z"
    }
   },
   "outputs": [],
   "source": [
    "def helper(x):\n",
    "    if ('<=' in x):\n",
    "        return 0\n",
    "    else:\n",
    "        return 1\n",
    "    \n",
    "y = [helper(x) for x in data.iloc[:,14]]"
   ]
  },
  {
   "cell_type": "code",
   "execution_count": 9,
   "id": "3daac328",
   "metadata": {
    "ExecuteTime": {
     "end_time": "2022-05-31T16:42:55.440593Z",
     "start_time": "2022-05-31T16:42:55.339846Z"
    }
   },
   "outputs": [
    {
     "data": {
      "text/html": [
       "<div>\n",
       "<style scoped>\n",
       "    .dataframe tbody tr th:only-of-type {\n",
       "        vertical-align: middle;\n",
       "    }\n",
       "\n",
       "    .dataframe tbody tr th {\n",
       "        vertical-align: top;\n",
       "    }\n",
       "\n",
       "    .dataframe thead th {\n",
       "        text-align: right;\n",
       "    }\n",
       "</style>\n",
       "<table border=\"1\" class=\"dataframe\">\n",
       "  <thead>\n",
       "    <tr style=\"text-align: right;\">\n",
       "      <th></th>\n",
       "      <th>age</th>\n",
       "      <th>workclass</th>\n",
       "      <th>fnlwgt</th>\n",
       "      <th>education</th>\n",
       "      <th>educationnum</th>\n",
       "      <th>maritalstatus</th>\n",
       "      <th>occupation</th>\n",
       "      <th>relationship</th>\n",
       "      <th>race</th>\n",
       "      <th>sex</th>\n",
       "      <th>capitalgain</th>\n",
       "      <th>capitalloss</th>\n",
       "      <th>hoursperweek</th>\n",
       "      <th>nativecountry</th>\n",
       "      <th>income</th>\n",
       "    </tr>\n",
       "  </thead>\n",
       "  <tbody>\n",
       "    <tr>\n",
       "      <th>0</th>\n",
       "      <td>39</td>\n",
       "      <td>State-gov</td>\n",
       "      <td>77516</td>\n",
       "      <td>Bachelors</td>\n",
       "      <td>13</td>\n",
       "      <td>Never-married</td>\n",
       "      <td>Adm-clerical</td>\n",
       "      <td>Not-in-family</td>\n",
       "      <td>White</td>\n",
       "      <td>Male</td>\n",
       "      <td>2174</td>\n",
       "      <td>0</td>\n",
       "      <td>40</td>\n",
       "      <td>United-States</td>\n",
       "      <td>0</td>\n",
       "    </tr>\n",
       "    <tr>\n",
       "      <th>1</th>\n",
       "      <td>50</td>\n",
       "      <td>Self-emp-not-inc</td>\n",
       "      <td>83311</td>\n",
       "      <td>Bachelors</td>\n",
       "      <td>13</td>\n",
       "      <td>Married-civ-spouse</td>\n",
       "      <td>Exec-managerial</td>\n",
       "      <td>Husband</td>\n",
       "      <td>White</td>\n",
       "      <td>Male</td>\n",
       "      <td>0</td>\n",
       "      <td>0</td>\n",
       "      <td>13</td>\n",
       "      <td>United-States</td>\n",
       "      <td>0</td>\n",
       "    </tr>\n",
       "    <tr>\n",
       "      <th>2</th>\n",
       "      <td>38</td>\n",
       "      <td>Private</td>\n",
       "      <td>215646</td>\n",
       "      <td>HS-grad</td>\n",
       "      <td>9</td>\n",
       "      <td>Divorced</td>\n",
       "      <td>Handlers-cleaners</td>\n",
       "      <td>Not-in-family</td>\n",
       "      <td>White</td>\n",
       "      <td>Male</td>\n",
       "      <td>0</td>\n",
       "      <td>0</td>\n",
       "      <td>40</td>\n",
       "      <td>United-States</td>\n",
       "      <td>0</td>\n",
       "    </tr>\n",
       "    <tr>\n",
       "      <th>3</th>\n",
       "      <td>53</td>\n",
       "      <td>Private</td>\n",
       "      <td>234721</td>\n",
       "      <td>11th</td>\n",
       "      <td>7</td>\n",
       "      <td>Married-civ-spouse</td>\n",
       "      <td>Handlers-cleaners</td>\n",
       "      <td>Husband</td>\n",
       "      <td>Black</td>\n",
       "      <td>Male</td>\n",
       "      <td>0</td>\n",
       "      <td>0</td>\n",
       "      <td>40</td>\n",
       "      <td>United-States</td>\n",
       "      <td>0</td>\n",
       "    </tr>\n",
       "    <tr>\n",
       "      <th>4</th>\n",
       "      <td>28</td>\n",
       "      <td>Private</td>\n",
       "      <td>338409</td>\n",
       "      <td>Bachelors</td>\n",
       "      <td>13</td>\n",
       "      <td>Married-civ-spouse</td>\n",
       "      <td>Prof-specialty</td>\n",
       "      <td>Wife</td>\n",
       "      <td>Black</td>\n",
       "      <td>Female</td>\n",
       "      <td>0</td>\n",
       "      <td>0</td>\n",
       "      <td>40</td>\n",
       "      <td>Cuba</td>\n",
       "      <td>0</td>\n",
       "    </tr>\n",
       "    <tr>\n",
       "      <th>...</th>\n",
       "      <td>...</td>\n",
       "      <td>...</td>\n",
       "      <td>...</td>\n",
       "      <td>...</td>\n",
       "      <td>...</td>\n",
       "      <td>...</td>\n",
       "      <td>...</td>\n",
       "      <td>...</td>\n",
       "      <td>...</td>\n",
       "      <td>...</td>\n",
       "      <td>...</td>\n",
       "      <td>...</td>\n",
       "      <td>...</td>\n",
       "      <td>...</td>\n",
       "      <td>...</td>\n",
       "    </tr>\n",
       "    <tr>\n",
       "      <th>32556</th>\n",
       "      <td>27</td>\n",
       "      <td>Private</td>\n",
       "      <td>257302</td>\n",
       "      <td>Assoc-acdm</td>\n",
       "      <td>12</td>\n",
       "      <td>Married-civ-spouse</td>\n",
       "      <td>Tech-support</td>\n",
       "      <td>Wife</td>\n",
       "      <td>White</td>\n",
       "      <td>Female</td>\n",
       "      <td>0</td>\n",
       "      <td>0</td>\n",
       "      <td>38</td>\n",
       "      <td>United-States</td>\n",
       "      <td>0</td>\n",
       "    </tr>\n",
       "    <tr>\n",
       "      <th>32557</th>\n",
       "      <td>40</td>\n",
       "      <td>Private</td>\n",
       "      <td>154374</td>\n",
       "      <td>HS-grad</td>\n",
       "      <td>9</td>\n",
       "      <td>Married-civ-spouse</td>\n",
       "      <td>Machine-op-inspct</td>\n",
       "      <td>Husband</td>\n",
       "      <td>White</td>\n",
       "      <td>Male</td>\n",
       "      <td>0</td>\n",
       "      <td>0</td>\n",
       "      <td>40</td>\n",
       "      <td>United-States</td>\n",
       "      <td>1</td>\n",
       "    </tr>\n",
       "    <tr>\n",
       "      <th>32558</th>\n",
       "      <td>58</td>\n",
       "      <td>Private</td>\n",
       "      <td>151910</td>\n",
       "      <td>HS-grad</td>\n",
       "      <td>9</td>\n",
       "      <td>Widowed</td>\n",
       "      <td>Adm-clerical</td>\n",
       "      <td>Unmarried</td>\n",
       "      <td>White</td>\n",
       "      <td>Female</td>\n",
       "      <td>0</td>\n",
       "      <td>0</td>\n",
       "      <td>40</td>\n",
       "      <td>United-States</td>\n",
       "      <td>0</td>\n",
       "    </tr>\n",
       "    <tr>\n",
       "      <th>32559</th>\n",
       "      <td>22</td>\n",
       "      <td>Private</td>\n",
       "      <td>201490</td>\n",
       "      <td>HS-grad</td>\n",
       "      <td>9</td>\n",
       "      <td>Never-married</td>\n",
       "      <td>Adm-clerical</td>\n",
       "      <td>Own-child</td>\n",
       "      <td>White</td>\n",
       "      <td>Male</td>\n",
       "      <td>0</td>\n",
       "      <td>0</td>\n",
       "      <td>20</td>\n",
       "      <td>United-States</td>\n",
       "      <td>0</td>\n",
       "    </tr>\n",
       "    <tr>\n",
       "      <th>32560</th>\n",
       "      <td>52</td>\n",
       "      <td>Self-emp-inc</td>\n",
       "      <td>287927</td>\n",
       "      <td>HS-grad</td>\n",
       "      <td>9</td>\n",
       "      <td>Married-civ-spouse</td>\n",
       "      <td>Exec-managerial</td>\n",
       "      <td>Wife</td>\n",
       "      <td>White</td>\n",
       "      <td>Female</td>\n",
       "      <td>15024</td>\n",
       "      <td>0</td>\n",
       "      <td>40</td>\n",
       "      <td>United-States</td>\n",
       "      <td>1</td>\n",
       "    </tr>\n",
       "  </tbody>\n",
       "</table>\n",
       "<p>32561 rows × 15 columns</p>\n",
       "</div>"
      ],
      "text/plain": [
       "       age          workclass  fnlwgt    education  educationnum  \\\n",
       "0       39          State-gov   77516    Bachelors            13   \n",
       "1       50   Self-emp-not-inc   83311    Bachelors            13   \n",
       "2       38            Private  215646      HS-grad             9   \n",
       "3       53            Private  234721         11th             7   \n",
       "4       28            Private  338409    Bachelors            13   \n",
       "...    ...                ...     ...          ...           ...   \n",
       "32556   27            Private  257302   Assoc-acdm            12   \n",
       "32557   40            Private  154374      HS-grad             9   \n",
       "32558   58            Private  151910      HS-grad             9   \n",
       "32559   22            Private  201490      HS-grad             9   \n",
       "32560   52       Self-emp-inc  287927      HS-grad             9   \n",
       "\n",
       "             maritalstatus          occupation    relationship    race  \\\n",
       "0            Never-married        Adm-clerical   Not-in-family   White   \n",
       "1       Married-civ-spouse     Exec-managerial         Husband   White   \n",
       "2                 Divorced   Handlers-cleaners   Not-in-family   White   \n",
       "3       Married-civ-spouse   Handlers-cleaners         Husband   Black   \n",
       "4       Married-civ-spouse      Prof-specialty            Wife   Black   \n",
       "...                    ...                 ...             ...     ...   \n",
       "32556   Married-civ-spouse        Tech-support            Wife   White   \n",
       "32557   Married-civ-spouse   Machine-op-inspct         Husband   White   \n",
       "32558              Widowed        Adm-clerical       Unmarried   White   \n",
       "32559        Never-married        Adm-clerical       Own-child   White   \n",
       "32560   Married-civ-spouse     Exec-managerial            Wife   White   \n",
       "\n",
       "           sex  capitalgain  capitalloss  hoursperweek   nativecountry  income  \n",
       "0         Male         2174            0            40   United-States       0  \n",
       "1         Male            0            0            13   United-States       0  \n",
       "2         Male            0            0            40   United-States       0  \n",
       "3         Male            0            0            40   United-States       0  \n",
       "4       Female            0            0            40            Cuba       0  \n",
       "...        ...          ...          ...           ...             ...     ...  \n",
       "32556   Female            0            0            38   United-States       0  \n",
       "32557     Male            0            0            40   United-States       1  \n",
       "32558   Female            0            0            40   United-States       0  \n",
       "32559     Male            0            0            20   United-States       0  \n",
       "32560   Female        15024            0            40   United-States       1  \n",
       "\n",
       "[32561 rows x 15 columns]"
      ]
     },
     "execution_count": 9,
     "metadata": {},
     "output_type": "execute_result"
    }
   ],
   "source": [
    "data[\"income\"] = y\n",
    "data"
   ]
  },
  {
   "cell_type": "code",
   "execution_count": 14,
   "id": "825fa8c7",
   "metadata": {
    "ExecuteTime": {
     "end_time": "2022-05-30T20:01:04.417722Z",
     "start_time": "2022-05-30T20:01:03.293802Z"
    }
   },
   "outputs": [
    {
     "data": {
      "text/html": [
       "<table class=\"simpletable\">\n",
       "<caption>OLS Regression Results</caption>\n",
       "<tr>\n",
       "  <th>Dep. Variable:</th>         <td>income</td>      <th>  R-squared:         </th> <td>   0.369</td> \n",
       "</tr>\n",
       "<tr>\n",
       "  <th>Model:</th>                   <td>OLS</td>       <th>  Adj. R-squared:    </th> <td>   0.367</td> \n",
       "</tr>\n",
       "<tr>\n",
       "  <th>Method:</th>             <td>Least Squares</td>  <th>  F-statistic:       </th> <td>   193.8</td> \n",
       "</tr>\n",
       "<tr>\n",
       "  <th>Date:</th>             <td>Mon, 30 May 2022</td> <th>  Prob (F-statistic):</th>  <td>  0.00</td>  \n",
       "</tr>\n",
       "<tr>\n",
       "  <th>Time:</th>                 <td>23:01:04</td>     <th>  Log-Likelihood:    </th> <td> -11038.</td> \n",
       "</tr>\n",
       "<tr>\n",
       "  <th>No. Observations:</th>      <td> 32561</td>      <th>  AIC:               </th> <td>2.227e+04</td>\n",
       "</tr>\n",
       "<tr>\n",
       "  <th>Df Residuals:</th>          <td> 32462</td>      <th>  BIC:               </th> <td>2.311e+04</td>\n",
       "</tr>\n",
       "<tr>\n",
       "  <th>Df Model:</th>              <td>    98</td>      <th>                     </th>     <td> </td>    \n",
       "</tr>\n",
       "<tr>\n",
       "  <th>Covariance Type:</th>      <td>nonrobust</td>    <th>                     </th>     <td> </td>    \n",
       "</tr>\n",
       "</table>\n",
       "<table class=\"simpletable\">\n",
       "<tr>\n",
       "                        <td></td>                          <th>coef</th>     <th>std err</th>      <th>t</th>      <th>P>|t|</th>  <th>[0.025</th>    <th>0.975]</th>  \n",
       "</tr>\n",
       "<tr>\n",
       "  <th>Intercept</th>                                    <td>   -0.3983</td> <td>    0.038</td> <td>  -10.434</td> <td> 0.000</td> <td>   -0.473</td> <td>   -0.323</td>\n",
       "</tr>\n",
       "<tr>\n",
       "  <th>workclass[T. Federal-gov]</th>                    <td>    0.1072</td> <td>    0.014</td> <td>    7.893</td> <td> 0.000</td> <td>    0.081</td> <td>    0.134</td>\n",
       "</tr>\n",
       "<tr>\n",
       "  <th>workclass[T. Local-gov]</th>                      <td>    0.0061</td> <td>    0.012</td> <td>    0.523</td> <td> 0.601</td> <td>   -0.017</td> <td>    0.029</td>\n",
       "</tr>\n",
       "<tr>\n",
       "  <th>workclass[T. Never-worked]</th>                   <td>    0.0430</td> <td>    0.129</td> <td>    0.333</td> <td> 0.739</td> <td>   -0.210</td> <td>    0.296</td>\n",
       "</tr>\n",
       "<tr>\n",
       "  <th>workclass[T. Private]</th>                        <td>    0.0356</td> <td>    0.009</td> <td>    3.810</td> <td> 0.000</td> <td>    0.017</td> <td>    0.054</td>\n",
       "</tr>\n",
       "<tr>\n",
       "  <th>workclass[T. Self-emp-inc]</th>                   <td>    0.0953</td> <td>    0.014</td> <td>    7.008</td> <td> 0.000</td> <td>    0.069</td> <td>    0.122</td>\n",
       "</tr>\n",
       "<tr>\n",
       "  <th>workclass[T. Self-emp-not-inc]</th>               <td>   -0.0290</td> <td>    0.011</td> <td>   -2.569</td> <td> 0.010</td> <td>   -0.051</td> <td>   -0.007</td>\n",
       "</tr>\n",
       "<tr>\n",
       "  <th>workclass[T. State-gov]</th>                      <td>   -0.0088</td> <td>    0.013</td> <td>   -0.685</td> <td> 0.493</td> <td>   -0.034</td> <td>    0.016</td>\n",
       "</tr>\n",
       "<tr>\n",
       "  <th>workclass[T. Without-pay]</th>                    <td>   -0.1225</td> <td>    0.087</td> <td>   -1.406</td> <td> 0.160</td> <td>   -0.293</td> <td>    0.048</td>\n",
       "</tr>\n",
       "<tr>\n",
       "  <th>education[T. 11th]</th>                           <td>-5.519e-05</td> <td>    0.014</td> <td>   -0.004</td> <td> 0.997</td> <td>   -0.028</td> <td>    0.028</td>\n",
       "</tr>\n",
       "<tr>\n",
       "  <th>education[T. 12th]</th>                           <td>   -0.0019</td> <td>    0.019</td> <td>   -0.100</td> <td> 0.920</td> <td>   -0.039</td> <td>    0.035</td>\n",
       "</tr>\n",
       "<tr>\n",
       "  <th>education[T. 1st-4th]</th>                        <td>    0.0464</td> <td>    0.030</td> <td>    1.536</td> <td> 0.125</td> <td>   -0.013</td> <td>    0.106</td>\n",
       "</tr>\n",
       "<tr>\n",
       "  <th>education[T. 5th-6th]</th>                        <td>    0.0325</td> <td>    0.024</td> <td>    1.360</td> <td> 0.174</td> <td>   -0.014</td> <td>    0.079</td>\n",
       "</tr>\n",
       "<tr>\n",
       "  <th>education[T. 7th-8th]</th>                        <td>   -0.0244</td> <td>    0.019</td> <td>   -1.307</td> <td> 0.191</td> <td>   -0.061</td> <td>    0.012</td>\n",
       "</tr>\n",
       "<tr>\n",
       "  <th>education[T. 9th]</th>                            <td>   -0.0108</td> <td>    0.019</td> <td>   -0.559</td> <td> 0.576</td> <td>   -0.048</td> <td>    0.027</td>\n",
       "</tr>\n",
       "<tr>\n",
       "  <th>education[T. Assoc-acdm]</th>                     <td>   -0.0452</td> <td>    0.013</td> <td>   -3.527</td> <td> 0.000</td> <td>   -0.070</td> <td>   -0.020</td>\n",
       "</tr>\n",
       "<tr>\n",
       "  <th>education[T. Assoc-voc]</th>                      <td>   -0.0196</td> <td>    0.012</td> <td>   -1.612</td> <td> 0.107</td> <td>   -0.044</td> <td>    0.004</td>\n",
       "</tr>\n",
       "<tr>\n",
       "  <th>education[T. Bachelors]</th>                      <td>    0.0256</td> <td>    0.009</td> <td>    2.720</td> <td> 0.007</td> <td>    0.007</td> <td>    0.044</td>\n",
       "</tr>\n",
       "<tr>\n",
       "  <th>education[T. Doctorate]</th>                      <td>    0.1555</td> <td>    0.016</td> <td>    9.603</td> <td> 0.000</td> <td>    0.124</td> <td>    0.187</td>\n",
       "</tr>\n",
       "<tr>\n",
       "  <th>education[T. HS-grad]</th>                        <td>   -0.0380</td> <td>    0.010</td> <td>   -3.890</td> <td> 0.000</td> <td>   -0.057</td> <td>   -0.019</td>\n",
       "</tr>\n",
       "<tr>\n",
       "  <th>education[T. Masters]</th>                        <td>    0.0892</td> <td>    0.011</td> <td>    7.942</td> <td> 0.000</td> <td>    0.067</td> <td>    0.111</td>\n",
       "</tr>\n",
       "<tr>\n",
       "  <th>education[T. Preschool]</th>                      <td>    0.0802</td> <td>    0.048</td> <td>    1.662</td> <td> 0.097</td> <td>   -0.014</td> <td>    0.175</td>\n",
       "</tr>\n",
       "<tr>\n",
       "  <th>education[T. Prof-school]</th>                    <td>    0.1263</td> <td>    0.015</td> <td>    8.413</td> <td> 0.000</td> <td>    0.097</td> <td>    0.156</td>\n",
       "</tr>\n",
       "<tr>\n",
       "  <th>education[T. Some-college]</th>                   <td>   -0.0148</td> <td>    0.010</td> <td>   -1.535</td> <td> 0.125</td> <td>   -0.034</td> <td>    0.004</td>\n",
       "</tr>\n",
       "<tr>\n",
       "  <th>maritalstatus[T. Married-AF-spouse]</th>          <td>    0.1794</td> <td>    0.074</td> <td>    2.410</td> <td> 0.016</td> <td>    0.034</td> <td>    0.325</td>\n",
       "</tr>\n",
       "<tr>\n",
       "  <th>maritalstatus[T. Married-civ-spouse]</th>         <td>    0.1142</td> <td>    0.024</td> <td>    4.804</td> <td> 0.000</td> <td>    0.068</td> <td>    0.161</td>\n",
       "</tr>\n",
       "<tr>\n",
       "  <th>maritalstatus[T. Married-spouse-absent]</th>      <td>    0.0267</td> <td>    0.018</td> <td>    1.511</td> <td> 0.131</td> <td>   -0.008</td> <td>    0.061</td>\n",
       "</tr>\n",
       "<tr>\n",
       "  <th>maritalstatus[T. Never-married]</th>              <td>   -0.0085</td> <td>    0.007</td> <td>   -1.203</td> <td> 0.229</td> <td>   -0.022</td> <td>    0.005</td>\n",
       "</tr>\n",
       "<tr>\n",
       "  <th>maritalstatus[T. Separated]</th>                  <td>    0.0127</td> <td>    0.012</td> <td>    1.065</td> <td> 0.287</td> <td>   -0.011</td> <td>    0.036</td>\n",
       "</tr>\n",
       "<tr>\n",
       "  <th>maritalstatus[T. Widowed]</th>                    <td>    0.0198</td> <td>    0.012</td> <td>    1.595</td> <td> 0.111</td> <td>   -0.005</td> <td>    0.044</td>\n",
       "</tr>\n",
       "<tr>\n",
       "  <th>occupation[T. Adm-clerical]</th>                  <td>    0.0088</td> <td>    0.010</td> <td>    0.923</td> <td> 0.356</td> <td>   -0.010</td> <td>    0.027</td>\n",
       "</tr>\n",
       "<tr>\n",
       "  <th>occupation[T. Armed-Forces]</th>                  <td>   -0.1252</td> <td>    0.109</td> <td>   -1.152</td> <td> 0.249</td> <td>   -0.338</td> <td>    0.088</td>\n",
       "</tr>\n",
       "<tr>\n",
       "  <th>occupation[T. Craft-repair]</th>                  <td>   -0.0068</td> <td>    0.009</td> <td>   -0.717</td> <td> 0.473</td> <td>   -0.025</td> <td>    0.012</td>\n",
       "</tr>\n",
       "<tr>\n",
       "  <th>occupation[T. Exec-managerial]</th>               <td>    0.1370</td> <td>    0.010</td> <td>   14.352</td> <td> 0.000</td> <td>    0.118</td> <td>    0.156</td>\n",
       "</tr>\n",
       "<tr>\n",
       "  <th>occupation[T. Farming-fishing]</th>               <td>   -0.0953</td> <td>    0.013</td> <td>   -7.260</td> <td> 0.000</td> <td>   -0.121</td> <td>   -0.070</td>\n",
       "</tr>\n",
       "<tr>\n",
       "  <th>occupation[T. Handlers-cleaners]</th>             <td>   -0.0483</td> <td>    0.012</td> <td>   -4.055</td> <td> 0.000</td> <td>   -0.072</td> <td>   -0.025</td>\n",
       "</tr>\n",
       "<tr>\n",
       "  <th>occupation[T. Machine-op-inspct]</th>             <td>   -0.0399</td> <td>    0.011</td> <td>   -3.677</td> <td> 0.000</td> <td>   -0.061</td> <td>   -0.019</td>\n",
       "</tr>\n",
       "<tr>\n",
       "  <th>occupation[T. Other-service]</th>                 <td>   -0.0161</td> <td>    0.010</td> <td>   -1.654</td> <td> 0.098</td> <td>   -0.035</td> <td>    0.003</td>\n",
       "</tr>\n",
       "<tr>\n",
       "  <th>occupation[T. Priv-house-serv]</th>               <td>    0.0180</td> <td>    0.028</td> <td>    0.640</td> <td> 0.522</td> <td>   -0.037</td> <td>    0.073</td>\n",
       "</tr>\n",
       "<tr>\n",
       "  <th>occupation[T. Prof-specialty]</th>                <td>    0.0755</td> <td>    0.010</td> <td>    7.584</td> <td> 0.000</td> <td>    0.056</td> <td>    0.095</td>\n",
       "</tr>\n",
       "<tr>\n",
       "  <th>occupation[T. Protective-serv]</th>               <td>    0.0811</td> <td>    0.015</td> <td>    5.285</td> <td> 0.000</td> <td>    0.051</td> <td>    0.111</td>\n",
       "</tr>\n",
       "<tr>\n",
       "  <th>occupation[T. Sales]</th>                         <td>    0.0486</td> <td>    0.010</td> <td>    5.069</td> <td> 0.000</td> <td>    0.030</td> <td>    0.067</td>\n",
       "</tr>\n",
       "<tr>\n",
       "  <th>occupation[T. Tech-support]</th>                  <td>    0.0796</td> <td>    0.013</td> <td>    5.987</td> <td> 0.000</td> <td>    0.054</td> <td>    0.106</td>\n",
       "</tr>\n",
       "<tr>\n",
       "  <th>occupation[T. Transport-moving]</th>              <td>   -0.0332</td> <td>    0.011</td> <td>   -2.904</td> <td> 0.004</td> <td>   -0.056</td> <td>   -0.011</td>\n",
       "</tr>\n",
       "<tr>\n",
       "  <th>relationship[T. Not-in-family]</th>               <td>   -0.1605</td> <td>    0.024</td> <td>   -6.786</td> <td> 0.000</td> <td>   -0.207</td> <td>   -0.114</td>\n",
       "</tr>\n",
       "<tr>\n",
       "  <th>relationship[T. Other-relative]</th>              <td>   -0.1308</td> <td>    0.023</td> <td>   -5.600</td> <td> 0.000</td> <td>   -0.177</td> <td>   -0.085</td>\n",
       "</tr>\n",
       "<tr>\n",
       "  <th>relationship[T. Own-child]</th>                   <td>   -0.1349</td> <td>    0.024</td> <td>   -5.717</td> <td> 0.000</td> <td>   -0.181</td> <td>   -0.089</td>\n",
       "</tr>\n",
       "<tr>\n",
       "  <th>relationship[T. Unmarried]</th>                   <td>   -0.1468</td> <td>    0.024</td> <td>   -5.996</td> <td> 0.000</td> <td>   -0.195</td> <td>   -0.099</td>\n",
       "</tr>\n",
       "<tr>\n",
       "  <th>relationship[T. Wife]</th>                        <td>    0.1142</td> <td>    0.011</td> <td>   10.744</td> <td> 0.000</td> <td>    0.093</td> <td>    0.135</td>\n",
       "</tr>\n",
       "<tr>\n",
       "  <th>race[T. Asian-Pac-Islander]</th>                  <td>    0.0377</td> <td>    0.025</td> <td>    1.494</td> <td> 0.135</td> <td>   -0.012</td> <td>    0.087</td>\n",
       "</tr>\n",
       "<tr>\n",
       "  <th>race[T. Black]</th>                               <td>    0.0277</td> <td>    0.020</td> <td>    1.354</td> <td> 0.176</td> <td>   -0.012</td> <td>    0.068</td>\n",
       "</tr>\n",
       "<tr>\n",
       "  <th>race[T. Other]</th>                               <td>    0.0059</td> <td>    0.029</td> <td>    0.203</td> <td> 0.839</td> <td>   -0.051</td> <td>    0.062</td>\n",
       "</tr>\n",
       "<tr>\n",
       "  <th>race[T. White]</th>                               <td>    0.0434</td> <td>    0.019</td> <td>    2.224</td> <td> 0.026</td> <td>    0.005</td> <td>    0.082</td>\n",
       "</tr>\n",
       "<tr>\n",
       "  <th>sex[T. Male]</th>                                 <td>    0.0586</td> <td>    0.006</td> <td>   10.305</td> <td> 0.000</td> <td>    0.047</td> <td>    0.070</td>\n",
       "</tr>\n",
       "<tr>\n",
       "  <th>nativecountry[T. Cambodia]</th>                   <td>    0.1839</td> <td>    0.080</td> <td>    2.284</td> <td> 0.022</td> <td>    0.026</td> <td>    0.342</td>\n",
       "</tr>\n",
       "<tr>\n",
       "  <th>nativecountry[T. Canada]</th>                     <td>    0.0659</td> <td>    0.034</td> <td>    1.931</td> <td> 0.053</td> <td>   -0.001</td> <td>    0.133</td>\n",
       "</tr>\n",
       "<tr>\n",
       "  <th>nativecountry[T. China]</th>                      <td>   -0.0501</td> <td>    0.044</td> <td>   -1.139</td> <td> 0.255</td> <td>   -0.136</td> <td>    0.036</td>\n",
       "</tr>\n",
       "<tr>\n",
       "  <th>nativecountry[T. Columbia]</th>                   <td>   -0.0599</td> <td>    0.047</td> <td>   -1.283</td> <td> 0.200</td> <td>   -0.151</td> <td>    0.032</td>\n",
       "</tr>\n",
       "<tr>\n",
       "  <th>nativecountry[T. Cuba]</th>                       <td>    0.0415</td> <td>    0.038</td> <td>    1.097</td> <td> 0.273</td> <td>   -0.033</td> <td>    0.116</td>\n",
       "</tr>\n",
       "<tr>\n",
       "  <th>nativecountry[T. Dominican-Republic]</th>         <td>   -0.0103</td> <td>    0.044</td> <td>   -0.236</td> <td> 0.814</td> <td>   -0.096</td> <td>    0.075</td>\n",
       "</tr>\n",
       "<tr>\n",
       "  <th>nativecountry[T. Ecuador]</th>                    <td>    0.0143</td> <td>    0.066</td> <td>    0.216</td> <td> 0.829</td> <td>   -0.116</td> <td>    0.144</td>\n",
       "</tr>\n",
       "<tr>\n",
       "  <th>nativecountry[T. El-Salvador]</th>                <td>    0.0394</td> <td>    0.036</td> <td>    1.080</td> <td> 0.280</td> <td>   -0.032</td> <td>    0.111</td>\n",
       "</tr>\n",
       "<tr>\n",
       "  <th>nativecountry[T. England]</th>                    <td>    0.0792</td> <td>    0.039</td> <td>    2.050</td> <td> 0.040</td> <td>    0.003</td> <td>    0.155</td>\n",
       "</tr>\n",
       "<tr>\n",
       "  <th>nativecountry[T. France]</th>                     <td>    0.1155</td> <td>    0.065</td> <td>    1.781</td> <td> 0.075</td> <td>   -0.012</td> <td>    0.243</td>\n",
       "</tr>\n",
       "<tr>\n",
       "  <th>nativecountry[T. Germany]</th>                    <td>    0.0816</td> <td>    0.032</td> <td>    2.517</td> <td> 0.012</td> <td>    0.018</td> <td>    0.145</td>\n",
       "</tr>\n",
       "<tr>\n",
       "  <th>nativecountry[T. Greece]</th>                     <td>   -0.0613</td> <td>    0.065</td> <td>   -0.945</td> <td> 0.345</td> <td>   -0.188</td> <td>    0.066</td>\n",
       "</tr>\n",
       "<tr>\n",
       "  <th>nativecountry[T. Guatemala]</th>                  <td>    0.0649</td> <td>    0.045</td> <td>    1.428</td> <td> 0.153</td> <td>   -0.024</td> <td>    0.154</td>\n",
       "</tr>\n",
       "<tr>\n",
       "  <th>nativecountry[T. Haiti]</th>                      <td>    0.0184</td> <td>    0.054</td> <td>    0.344</td> <td> 0.731</td> <td>   -0.087</td> <td>    0.123</td>\n",
       "</tr>\n",
       "<tr>\n",
       "  <th>nativecountry[T. Holand-Netherlands]</th>         <td>   -0.1267</td> <td>    0.341</td> <td>   -0.372</td> <td> 0.710</td> <td>   -0.795</td> <td>    0.542</td>\n",
       "</tr>\n",
       "<tr>\n",
       "  <th>nativecountry[T. Honduras]</th>                   <td>    0.0109</td> <td>    0.096</td> <td>    0.115</td> <td> 0.909</td> <td>   -0.176</td> <td>    0.198</td>\n",
       "</tr>\n",
       "<tr>\n",
       "  <th>nativecountry[T. Hong]</th>                       <td>    0.0098</td> <td>    0.078</td> <td>    0.125</td> <td> 0.900</td> <td>   -0.144</td> <td>    0.163</td>\n",
       "</tr>\n",
       "<tr>\n",
       "  <th>nativecountry[T. Hungary]</th>                    <td>    0.0091</td> <td>    0.096</td> <td>    0.095</td> <td> 0.924</td> <td>   -0.178</td> <td>    0.196</td>\n",
       "</tr>\n",
       "<tr>\n",
       "  <th>nativecountry[T. India]</th>                      <td>   -0.0115</td> <td>    0.039</td> <td>   -0.297</td> <td> 0.767</td> <td>   -0.087</td> <td>    0.064</td>\n",
       "</tr>\n",
       "<tr>\n",
       "  <th>nativecountry[T. Iran]</th>                       <td>    0.0460</td> <td>    0.054</td> <td>    0.855</td> <td> 0.392</td> <td>   -0.059</td> <td>    0.152</td>\n",
       "</tr>\n",
       "<tr>\n",
       "  <th>nativecountry[T. Ireland]</th>                    <td>    0.0936</td> <td>    0.071</td> <td>    1.319</td> <td> 0.187</td> <td>   -0.045</td> <td>    0.233</td>\n",
       "</tr>\n",
       "<tr>\n",
       "  <th>nativecountry[T. Italy]</th>                      <td>    0.1106</td> <td>    0.042</td> <td>    2.604</td> <td> 0.009</td> <td>    0.027</td> <td>    0.194</td>\n",
       "</tr>\n",
       "<tr>\n",
       "  <th>nativecountry[T. Jamaica]</th>                    <td>    0.0367</td> <td>    0.041</td> <td>    0.899</td> <td> 0.368</td> <td>   -0.043</td> <td>    0.117</td>\n",
       "</tr>\n",
       "<tr>\n",
       "  <th>nativecountry[T. Japan]</th>                      <td>    0.0971</td> <td>    0.046</td> <td>    2.105</td> <td> 0.035</td> <td>    0.007</td> <td>    0.188</td>\n",
       "</tr>\n",
       "<tr>\n",
       "  <th>nativecountry[T. Laos]</th>                       <td>   -0.0489</td> <td>    0.083</td> <td>   -0.591</td> <td> 0.555</td> <td>   -0.211</td> <td>    0.113</td>\n",
       "</tr>\n",
       "<tr>\n",
       "  <th>nativecountry[T. Mexico]</th>                     <td>   -0.0045</td> <td>    0.021</td> <td>   -0.218</td> <td> 0.828</td> <td>   -0.045</td> <td>    0.036</td>\n",
       "</tr>\n",
       "<tr>\n",
       "  <th>nativecountry[T. Nicaragua]</th>                  <td>   -0.0339</td> <td>    0.060</td> <td>   -0.563</td> <td> 0.573</td> <td>   -0.152</td> <td>    0.084</td>\n",
       "</tr>\n",
       "<tr>\n",
       "  <th>nativecountry[T. Outlying-US(Guam-USVI-etc)]</th> <td>   -0.1157</td> <td>    0.092</td> <td>   -1.257</td> <td> 0.209</td> <td>   -0.296</td> <td>    0.065</td>\n",
       "</tr>\n",
       "<tr>\n",
       "  <th>nativecountry[T. Peru]</th>                       <td>   -0.0189</td> <td>    0.063</td> <td>   -0.300</td> <td> 0.764</td> <td>   -0.142</td> <td>    0.104</td>\n",
       "</tr>\n",
       "<tr>\n",
       "  <th>nativecountry[T. Philippines]</th>                <td>    0.0708</td> <td>    0.031</td> <td>    2.282</td> <td> 0.022</td> <td>    0.010</td> <td>    0.132</td>\n",
       "</tr>\n",
       "<tr>\n",
       "  <th>nativecountry[T. Poland]</th>                     <td>    0.0068</td> <td>    0.046</td> <td>    0.148</td> <td> 0.883</td> <td>   -0.084</td> <td>    0.097</td>\n",
       "</tr>\n",
       "<tr>\n",
       "  <th>nativecountry[T. Portugal]</th>                   <td>   -0.0048</td> <td>    0.058</td> <td>   -0.082</td> <td> 0.935</td> <td>   -0.119</td> <td>    0.109</td>\n",
       "</tr>\n",
       "<tr>\n",
       "  <th>nativecountry[T. Puerto-Rico]</th>                <td>    0.0101</td> <td>    0.035</td> <td>    0.288</td> <td> 0.774</td> <td>   -0.059</td> <td>    0.079</td>\n",
       "</tr>\n",
       "<tr>\n",
       "  <th>nativecountry[T. Scotland]</th>                   <td>    0.0148</td> <td>    0.099</td> <td>    0.149</td> <td> 0.881</td> <td>   -0.180</td> <td>    0.209</td>\n",
       "</tr>\n",
       "<tr>\n",
       "  <th>nativecountry[T. South]</th>                      <td>   -0.0535</td> <td>    0.043</td> <td>   -1.250</td> <td> 0.211</td> <td>   -0.137</td> <td>    0.030</td>\n",
       "</tr>\n",
       "<tr>\n",
       "  <th>nativecountry[T. Taiwan]</th>                     <td>   -0.0070</td> <td>    0.051</td> <td>   -0.135</td> <td> 0.893</td> <td>   -0.108</td> <td>    0.094</td>\n",
       "</tr>\n",
       "<tr>\n",
       "  <th>nativecountry[T. Thailand]</th>                   <td>   -0.0158</td> <td>    0.082</td> <td>   -0.192</td> <td> 0.847</td> <td>   -0.177</td> <td>    0.146</td>\n",
       "</tr>\n",
       "<tr>\n",
       "  <th>nativecountry[T. Trinadad&Tobago]</th>            <td>   -0.0060</td> <td>    0.080</td> <td>   -0.075</td> <td> 0.940</td> <td>   -0.162</td> <td>    0.150</td>\n",
       "</tr>\n",
       "<tr>\n",
       "  <th>nativecountry[T. United-States]</th>              <td>    0.0527</td> <td>    0.014</td> <td>    3.634</td> <td> 0.000</td> <td>    0.024</td> <td>    0.081</td>\n",
       "</tr>\n",
       "<tr>\n",
       "  <th>nativecountry[T. Vietnam]</th>                    <td>   -0.0403</td> <td>    0.046</td> <td>   -0.876</td> <td> 0.381</td> <td>   -0.130</td> <td>    0.050</td>\n",
       "</tr>\n",
       "<tr>\n",
       "  <th>nativecountry[T. Yugoslavia]</th>                 <td>    0.0997</td> <td>    0.086</td> <td>    1.155</td> <td> 0.248</td> <td>   -0.069</td> <td>    0.269</td>\n",
       "</tr>\n",
       "<tr>\n",
       "  <th>age</th>                                          <td>    0.0025</td> <td>    0.000</td> <td>   13.716</td> <td> 0.000</td> <td>    0.002</td> <td>    0.003</td>\n",
       "</tr>\n",
       "<tr>\n",
       "  <th>fnlwgt</th>                                       <td>  7.28e-08</td> <td> 1.84e-08</td> <td>    3.957</td> <td> 0.000</td> <td> 3.67e-08</td> <td> 1.09e-07</td>\n",
       "</tr>\n",
       "<tr>\n",
       "  <th>educationnum</th>                                 <td>    0.0239</td> <td>    0.001</td> <td>   18.626</td> <td> 0.000</td> <td>    0.021</td> <td>    0.026</td>\n",
       "</tr>\n",
       "<tr>\n",
       "  <th>capitalgain</th>                                  <td> 7.801e-06</td> <td> 2.63e-07</td> <td>   29.676</td> <td> 0.000</td> <td> 7.29e-06</td> <td> 8.32e-06</td>\n",
       "</tr>\n",
       "<tr>\n",
       "  <th>capitalloss</th>                                  <td> 9.211e-05</td> <td> 4.73e-06</td> <td>   19.455</td> <td> 0.000</td> <td> 8.28e-05</td> <td>    0.000</td>\n",
       "</tr>\n",
       "<tr>\n",
       "  <th>hoursperweek</th>                                 <td>    0.0029</td> <td>    0.000</td> <td>   16.935</td> <td> 0.000</td> <td>    0.003</td> <td>    0.003</td>\n",
       "</tr>\n",
       "</table>\n",
       "<table class=\"simpletable\">\n",
       "<tr>\n",
       "  <th>Omnibus:</th>       <td>1496.319</td> <th>  Durbin-Watson:     </th> <td>   1.998</td>\n",
       "</tr>\n",
       "<tr>\n",
       "  <th>Prob(Omnibus):</th>  <td> 0.000</td>  <th>  Jarque-Bera (JB):  </th> <td>1700.614</td>\n",
       "</tr>\n",
       "<tr>\n",
       "  <th>Skew:</th>           <td> 0.556</td>  <th>  Prob(JB):          </th> <td>    0.00</td>\n",
       "</tr>\n",
       "<tr>\n",
       "  <th>Kurtosis:</th>       <td> 2.862</td>  <th>  Cond. No.          </th> <td>1.68e+17</td>\n",
       "</tr>\n",
       "</table><br/><br/>Notes:<br/>[1] Standard Errors assume that the covariance matrix of the errors is correctly specified.<br/>[2] The smallest eigenvalue is 5.41e-20. This might indicate that there are<br/>strong multicollinearity problems or that the design matrix is singular."
      ],
      "text/plain": [
       "<class 'statsmodels.iolib.summary.Summary'>\n",
       "\"\"\"\n",
       "                            OLS Regression Results                            \n",
       "==============================================================================\n",
       "Dep. Variable:                 income   R-squared:                       0.369\n",
       "Model:                            OLS   Adj. R-squared:                  0.367\n",
       "Method:                 Least Squares   F-statistic:                     193.8\n",
       "Date:                Mon, 30 May 2022   Prob (F-statistic):               0.00\n",
       "Time:                        23:01:04   Log-Likelihood:                -11038.\n",
       "No. Observations:               32561   AIC:                         2.227e+04\n",
       "Df Residuals:                   32462   BIC:                         2.311e+04\n",
       "Df Model:                          98                                         \n",
       "Covariance Type:            nonrobust                                         \n",
       "================================================================================================================\n",
       "                                                   coef    std err          t      P>|t|      [0.025      0.975]\n",
       "----------------------------------------------------------------------------------------------------------------\n",
       "Intercept                                       -0.3983      0.038    -10.434      0.000      -0.473      -0.323\n",
       "workclass[T. Federal-gov]                        0.1072      0.014      7.893      0.000       0.081       0.134\n",
       "workclass[T. Local-gov]                          0.0061      0.012      0.523      0.601      -0.017       0.029\n",
       "workclass[T. Never-worked]                       0.0430      0.129      0.333      0.739      -0.210       0.296\n",
       "workclass[T. Private]                            0.0356      0.009      3.810      0.000       0.017       0.054\n",
       "workclass[T. Self-emp-inc]                       0.0953      0.014      7.008      0.000       0.069       0.122\n",
       "workclass[T. Self-emp-not-inc]                  -0.0290      0.011     -2.569      0.010      -0.051      -0.007\n",
       "workclass[T. State-gov]                         -0.0088      0.013     -0.685      0.493      -0.034       0.016\n",
       "workclass[T. Without-pay]                       -0.1225      0.087     -1.406      0.160      -0.293       0.048\n",
       "education[T. 11th]                           -5.519e-05      0.014     -0.004      0.997      -0.028       0.028\n",
       "education[T. 12th]                              -0.0019      0.019     -0.100      0.920      -0.039       0.035\n",
       "education[T. 1st-4th]                            0.0464      0.030      1.536      0.125      -0.013       0.106\n",
       "education[T. 5th-6th]                            0.0325      0.024      1.360      0.174      -0.014       0.079\n",
       "education[T. 7th-8th]                           -0.0244      0.019     -1.307      0.191      -0.061       0.012\n",
       "education[T. 9th]                               -0.0108      0.019     -0.559      0.576      -0.048       0.027\n",
       "education[T. Assoc-acdm]                        -0.0452      0.013     -3.527      0.000      -0.070      -0.020\n",
       "education[T. Assoc-voc]                         -0.0196      0.012     -1.612      0.107      -0.044       0.004\n",
       "education[T. Bachelors]                          0.0256      0.009      2.720      0.007       0.007       0.044\n",
       "education[T. Doctorate]                          0.1555      0.016      9.603      0.000       0.124       0.187\n",
       "education[T. HS-grad]                           -0.0380      0.010     -3.890      0.000      -0.057      -0.019\n",
       "education[T. Masters]                            0.0892      0.011      7.942      0.000       0.067       0.111\n",
       "education[T. Preschool]                          0.0802      0.048      1.662      0.097      -0.014       0.175\n",
       "education[T. Prof-school]                        0.1263      0.015      8.413      0.000       0.097       0.156\n",
       "education[T. Some-college]                      -0.0148      0.010     -1.535      0.125      -0.034       0.004\n",
       "maritalstatus[T. Married-AF-spouse]              0.1794      0.074      2.410      0.016       0.034       0.325\n",
       "maritalstatus[T. Married-civ-spouse]             0.1142      0.024      4.804      0.000       0.068       0.161\n",
       "maritalstatus[T. Married-spouse-absent]          0.0267      0.018      1.511      0.131      -0.008       0.061\n",
       "maritalstatus[T. Never-married]                 -0.0085      0.007     -1.203      0.229      -0.022       0.005\n",
       "maritalstatus[T. Separated]                      0.0127      0.012      1.065      0.287      -0.011       0.036\n",
       "maritalstatus[T. Widowed]                        0.0198      0.012      1.595      0.111      -0.005       0.044\n",
       "occupation[T. Adm-clerical]                      0.0088      0.010      0.923      0.356      -0.010       0.027\n",
       "occupation[T. Armed-Forces]                     -0.1252      0.109     -1.152      0.249      -0.338       0.088\n",
       "occupation[T. Craft-repair]                     -0.0068      0.009     -0.717      0.473      -0.025       0.012\n",
       "occupation[T. Exec-managerial]                   0.1370      0.010     14.352      0.000       0.118       0.156\n",
       "occupation[T. Farming-fishing]                  -0.0953      0.013     -7.260      0.000      -0.121      -0.070\n",
       "occupation[T. Handlers-cleaners]                -0.0483      0.012     -4.055      0.000      -0.072      -0.025\n",
       "occupation[T. Machine-op-inspct]                -0.0399      0.011     -3.677      0.000      -0.061      -0.019\n",
       "occupation[T. Other-service]                    -0.0161      0.010     -1.654      0.098      -0.035       0.003\n",
       "occupation[T. Priv-house-serv]                   0.0180      0.028      0.640      0.522      -0.037       0.073\n",
       "occupation[T. Prof-specialty]                    0.0755      0.010      7.584      0.000       0.056       0.095\n",
       "occupation[T. Protective-serv]                   0.0811      0.015      5.285      0.000       0.051       0.111\n",
       "occupation[T. Sales]                             0.0486      0.010      5.069      0.000       0.030       0.067\n",
       "occupation[T. Tech-support]                      0.0796      0.013      5.987      0.000       0.054       0.106\n",
       "occupation[T. Transport-moving]                 -0.0332      0.011     -2.904      0.004      -0.056      -0.011\n",
       "relationship[T. Not-in-family]                  -0.1605      0.024     -6.786      0.000      -0.207      -0.114\n",
       "relationship[T. Other-relative]                 -0.1308      0.023     -5.600      0.000      -0.177      -0.085\n",
       "relationship[T. Own-child]                      -0.1349      0.024     -5.717      0.000      -0.181      -0.089\n",
       "relationship[T. Unmarried]                      -0.1468      0.024     -5.996      0.000      -0.195      -0.099\n",
       "relationship[T. Wife]                            0.1142      0.011     10.744      0.000       0.093       0.135\n",
       "race[T. Asian-Pac-Islander]                      0.0377      0.025      1.494      0.135      -0.012       0.087\n",
       "race[T. Black]                                   0.0277      0.020      1.354      0.176      -0.012       0.068\n",
       "race[T. Other]                                   0.0059      0.029      0.203      0.839      -0.051       0.062\n",
       "race[T. White]                                   0.0434      0.019      2.224      0.026       0.005       0.082\n",
       "sex[T. Male]                                     0.0586      0.006     10.305      0.000       0.047       0.070\n",
       "nativecountry[T. Cambodia]                       0.1839      0.080      2.284      0.022       0.026       0.342\n",
       "nativecountry[T. Canada]                         0.0659      0.034      1.931      0.053      -0.001       0.133\n",
       "nativecountry[T. China]                         -0.0501      0.044     -1.139      0.255      -0.136       0.036\n",
       "nativecountry[T. Columbia]                      -0.0599      0.047     -1.283      0.200      -0.151       0.032\n",
       "nativecountry[T. Cuba]                           0.0415      0.038      1.097      0.273      -0.033       0.116\n",
       "nativecountry[T. Dominican-Republic]            -0.0103      0.044     -0.236      0.814      -0.096       0.075\n",
       "nativecountry[T. Ecuador]                        0.0143      0.066      0.216      0.829      -0.116       0.144\n",
       "nativecountry[T. El-Salvador]                    0.0394      0.036      1.080      0.280      -0.032       0.111\n",
       "nativecountry[T. England]                        0.0792      0.039      2.050      0.040       0.003       0.155\n",
       "nativecountry[T. France]                         0.1155      0.065      1.781      0.075      -0.012       0.243\n",
       "nativecountry[T. Germany]                        0.0816      0.032      2.517      0.012       0.018       0.145\n",
       "nativecountry[T. Greece]                        -0.0613      0.065     -0.945      0.345      -0.188       0.066\n",
       "nativecountry[T. Guatemala]                      0.0649      0.045      1.428      0.153      -0.024       0.154\n",
       "nativecountry[T. Haiti]                          0.0184      0.054      0.344      0.731      -0.087       0.123\n",
       "nativecountry[T. Holand-Netherlands]            -0.1267      0.341     -0.372      0.710      -0.795       0.542\n",
       "nativecountry[T. Honduras]                       0.0109      0.096      0.115      0.909      -0.176       0.198\n",
       "nativecountry[T. Hong]                           0.0098      0.078      0.125      0.900      -0.144       0.163\n",
       "nativecountry[T. Hungary]                        0.0091      0.096      0.095      0.924      -0.178       0.196\n",
       "nativecountry[T. India]                         -0.0115      0.039     -0.297      0.767      -0.087       0.064\n",
       "nativecountry[T. Iran]                           0.0460      0.054      0.855      0.392      -0.059       0.152\n",
       "nativecountry[T. Ireland]                        0.0936      0.071      1.319      0.187      -0.045       0.233\n",
       "nativecountry[T. Italy]                          0.1106      0.042      2.604      0.009       0.027       0.194\n",
       "nativecountry[T. Jamaica]                        0.0367      0.041      0.899      0.368      -0.043       0.117\n",
       "nativecountry[T. Japan]                          0.0971      0.046      2.105      0.035       0.007       0.188\n",
       "nativecountry[T. Laos]                          -0.0489      0.083     -0.591      0.555      -0.211       0.113\n",
       "nativecountry[T. Mexico]                        -0.0045      0.021     -0.218      0.828      -0.045       0.036\n",
       "nativecountry[T. Nicaragua]                     -0.0339      0.060     -0.563      0.573      -0.152       0.084\n",
       "nativecountry[T. Outlying-US(Guam-USVI-etc)]    -0.1157      0.092     -1.257      0.209      -0.296       0.065\n",
       "nativecountry[T. Peru]                          -0.0189      0.063     -0.300      0.764      -0.142       0.104\n",
       "nativecountry[T. Philippines]                    0.0708      0.031      2.282      0.022       0.010       0.132\n",
       "nativecountry[T. Poland]                         0.0068      0.046      0.148      0.883      -0.084       0.097\n",
       "nativecountry[T. Portugal]                      -0.0048      0.058     -0.082      0.935      -0.119       0.109\n",
       "nativecountry[T. Puerto-Rico]                    0.0101      0.035      0.288      0.774      -0.059       0.079\n",
       "nativecountry[T. Scotland]                       0.0148      0.099      0.149      0.881      -0.180       0.209\n",
       "nativecountry[T. South]                         -0.0535      0.043     -1.250      0.211      -0.137       0.030\n",
       "nativecountry[T. Taiwan]                        -0.0070      0.051     -0.135      0.893      -0.108       0.094\n",
       "nativecountry[T. Thailand]                      -0.0158      0.082     -0.192      0.847      -0.177       0.146\n",
       "nativecountry[T. Trinadad&Tobago]               -0.0060      0.080     -0.075      0.940      -0.162       0.150\n",
       "nativecountry[T. United-States]                  0.0527      0.014      3.634      0.000       0.024       0.081\n",
       "nativecountry[T. Vietnam]                       -0.0403      0.046     -0.876      0.381      -0.130       0.050\n",
       "nativecountry[T. Yugoslavia]                     0.0997      0.086      1.155      0.248      -0.069       0.269\n",
       "age                                              0.0025      0.000     13.716      0.000       0.002       0.003\n",
       "fnlwgt                                         7.28e-08   1.84e-08      3.957      0.000    3.67e-08    1.09e-07\n",
       "educationnum                                     0.0239      0.001     18.626      0.000       0.021       0.026\n",
       "capitalgain                                   7.801e-06   2.63e-07     29.676      0.000    7.29e-06    8.32e-06\n",
       "capitalloss                                   9.211e-05   4.73e-06     19.455      0.000    8.28e-05       0.000\n",
       "hoursperweek                                     0.0029      0.000     16.935      0.000       0.003       0.003\n",
       "==============================================================================\n",
       "Omnibus:                     1496.319   Durbin-Watson:                   1.998\n",
       "Prob(Omnibus):                  0.000   Jarque-Bera (JB):             1700.614\n",
       "Skew:                           0.556   Prob(JB):                         0.00\n",
       "Kurtosis:                       2.862   Cond. No.                     1.68e+17\n",
       "==============================================================================\n",
       "\n",
       "Notes:\n",
       "[1] Standard Errors assume that the covariance matrix of the errors is correctly specified.\n",
       "[2] The smallest eigenvalue is 5.41e-20. This might indicate that there are\n",
       "strong multicollinearity problems or that the design matrix is singular.\n",
       "\"\"\""
      ]
     },
     "execution_count": 14,
     "metadata": {},
     "output_type": "execute_result"
    }
   ],
   "source": [
    "modeldataols = ols(\"income ~  age + workclass + fnlwgt + education + educationnum + maritalstatus + occupation + relationship + race + sex + capitalgain + capitalloss + hoursperweek + nativecountry\", data=data).fit()\n",
    "modeldataols.summary()"
   ]
  },
  {
   "cell_type": "code",
   "execution_count": 83,
   "id": "3b32cdba",
   "metadata": {
    "ExecuteTime": {
     "end_time": "2022-05-29T15:15:44.559579Z",
     "start_time": "2022-05-29T15:15:43.946147Z"
    }
   },
   "outputs": [
    {
     "data": {
      "text/plain": [
       "<BarContainer object of 73 artists>"
      ]
     },
     "execution_count": 83,
     "metadata": {},
     "output_type": "execute_result"
    },
    {
     "data": {
      "image/png": "[encoded data removed]",
      "text/plain": [
       "<Figure size 432x288 with 1 Axes>"
      ]
     },
     "metadata": {
      "needs_background": "light"
     },
     "output_type": "display_data"
    }
   ],
   "source": [
    "ages = Counter(data.iloc[:,0])\n",
    "plt.bar(ages.keys(), ages.values())"
   ]
  },
  {
   "cell_type": "markdown",
   "id": "82e03eaa",
   "metadata": {},
   "source": [
    "Neredeyse her yaştan insan bulunuyor ve bunların dağılımı oldukça düzgün, bu sebepten yaşları kategorize ederken 4 farklı kategori kurmak mümkün. Bunlar <25, 25-40, 40-55, >55 şeklinde neredeyse eşit sayıda ve anlamlı olacak biçimde seçilebilir. Ancak bizden böyle bir şey istenmediği için aynı şekilde devam ediyorum."
   ]
  },
  {
   "cell_type": "code",
   "execution_count": 17,
   "id": "afbd7714",
   "metadata": {
    "ExecuteTime": {
     "end_time": "2022-05-30T20:05:11.594865Z",
     "start_time": "2022-05-30T20:05:11.476800Z"
    }
   },
   "outputs": [
    {
     "data": {
      "text/plain": [
       "[Text(0.5, 1.0, 'Countplot of income greater than 50K')]"
      ]
     },
     "execution_count": 17,
     "metadata": {},
     "output_type": "execute_result"
    },
    {
     "data": {
      "image/png": "[encoded data removed]",
      "text/plain": [
       "<Figure size 432x288 with 1 Axes>"
      ]
     },
     "metadata": {
      "needs_background": "light"
     },
     "output_type": "display_data"
    }
   ],
   "source": [
    "sns.countplot(x = \"income\", data = data, palette = \"Set1\").set(title = \"Countplot of income greater than 50K\")"
   ]
  },
  {
   "cell_type": "markdown",
   "id": "36de5ded",
   "metadata": {},
   "source": [
    "Yukarıdaki grafikten de görüleceği üzere, 50k altında geliri olanlar bu miktarın üzerine kazananlara nazaran 3 kat daha fazla."
   ]
  },
  {
   "cell_type": "markdown",
   "id": "6f9191ac",
   "metadata": {},
   "source": [
    "#### Şimdi geldik elimizdeki kategorik değişkenleri, binary olarak sınıflandırmaya. Aksi halde Logistic Regression, SVM, KNN metodları bu data üzerinde uygulanamaz durumda."
   ]
  },
  {
   "cell_type": "code",
   "execution_count": 13,
   "id": "399d9b35",
   "metadata": {
    "ExecuteTime": {
     "end_time": "2022-05-31T16:48:14.889920Z",
     "start_time": "2022-05-31T16:47:51.631433Z"
    }
   },
   "outputs": [],
   "source": [
    "trivial = np.zeros((32561,1)).astype(int)\n",
    "df1 = pd.DataFrame(trivial, columns = [\"Deneme\"])\n",
    "\n",
    "discrete_values = [\"workclass\", \"education\", \"maritalstatus\" , \"occupation\" , \"relationship\", \"race\", \"sex\", \"nativecountry\"]\n",
    "\n",
    "for a in range(len(discrete_values)):\n",
    "    arr_unique = np.unique(data[discrete_values[a]])\n",
    "    arr = data[discrete_values[a]]\n",
    "    clmns = []\n",
    "    \n",
    "    for u in arr_unique:\n",
    "        string = str(discrete_values[a]) + str(u)\n",
    "        clmns.append(string)\n",
    "\n",
    "    matrix = np.zeros((32561,len(arr_unique)))\n",
    "    for i in range(len(arr_unique)):\n",
    "        for j in range(32561):\n",
    "            if arr[j] == arr_unique[i]:\n",
    "                matrix[j][i] = 1;\n",
    "    matrix = matrix.astype(int)\n",
    "    df2 = pd.DataFrame(matrix, columns = clmns)\n",
    "    df1 = df1.join(df2)\n",
    "df1 = df1.drop([\"Deneme\"], axis=1)"
   ]
  },
  {
   "cell_type": "markdown",
   "id": "05945e45",
   "metadata": {},
   "source": [
    "#### Yukarıda yaptığım işlemi satır satır açıklamak oldukça zor. Ancak şöyle anlatabilirim. Kategorik değişken olan bütün sutünların isimlerini bir liste haline getirip, onlarla ilgili bütün sutünlardaki unique değerleri seçip, o uzunlukta yeni \"alt matrisler\" oluşturdum. Daha sonra bunları ilk label isimlerine ve ilgili değer isimlerini de koruyarak esas datasetimin içerisine yerleştirdim.\n",
    "\n",
    "#### Örnek: \"Cinsiyet\" ile isimlendirilmiş sutün iki alt değer içersin: \"Kadın\" ve \"Erkek\". Bu durumda bu algoritma $M_(nx2)$ boyutlu bir matris oluşturup, bunların isimlerini \"Cinsiyet Erkek\" ve \"Cinsiyet Kadın\" olarak atayacak. Ardından \"Cinsiyet\" sütunu altındaki $i.$ eleman kadın ise \"Cinsiyet Kadın\" sütununun i. elemanı 1 olarak, \"Cinsiyet Erkek\" sütununun i. elemanı 0 olarak atanacak. Ardından bunu ana dataframe'e kaydediyor. Eğer üst sutün altında m farklı değer içeriyor olsaydı, $M_(nxm)$ boyutlu bir alt matris oluşturup aynı işlemi yapacaktı. "
   ]
  },
  {
   "cell_type": "code",
   "execution_count": 16,
   "id": "fe85162b",
   "metadata": {
    "ExecuteTime": {
     "end_time": "2022-05-31T16:48:44.166633Z",
     "start_time": "2022-05-31T16:48:44.147727Z"
    }
   },
   "outputs": [],
   "source": [
    "u = data.drop(columns= [\"fnlwgt\" , \"workclass\", \"education\", \"maritalstatus\" , \"occupation\" , \"relationship\", \"race\", \"sex\", \"nativecountry\"])"
   ]
  },
  {
   "cell_type": "code",
   "execution_count": 18,
   "id": "4fda91ad",
   "metadata": {
    "ExecuteTime": {
     "end_time": "2022-05-31T16:48:53.949079Z",
     "start_time": "2022-05-31T16:48:53.935150Z"
    }
   },
   "outputs": [],
   "source": [
    "df = df1.join(u)"
   ]
  },
  {
   "cell_type": "markdown",
   "id": "4d54e28a",
   "metadata": {},
   "source": [
    "Bunu droplama sebebim, datayı hazırlayan kişinin kendince kişilere verdiği ağırlıklar. Aynı bölgede yaşayan, benzer yaşam standartlarında olan insanlara aynı değerleri veriyor. Ancak lokal regionlar için bu optimize ancak geniş kapsamlı olarak değil. Yani Almanya'daki aynı standartlarda bir kişi ile Amerikadaki aynı ağırlık puanına sahip değil. "
   ]
  },
  {
   "cell_type": "code",
   "execution_count": 19,
   "id": "0df804c7",
   "metadata": {
    "ExecuteTime": {
     "end_time": "2022-05-31T16:49:01.780040Z",
     "start_time": "2022-05-31T16:49:01.714319Z"
    }
   },
   "outputs": [
    {
     "data": {
      "text/html": [
       "<div>\n",
       "<style scoped>\n",
       "    .dataframe tbody tr th:only-of-type {\n",
       "        vertical-align: middle;\n",
       "    }\n",
       "\n",
       "    .dataframe tbody tr th {\n",
       "        vertical-align: top;\n",
       "    }\n",
       "\n",
       "    .dataframe thead th {\n",
       "        text-align: right;\n",
       "    }\n",
       "</style>\n",
       "<table border=\"1\" class=\"dataframe\">\n",
       "  <thead>\n",
       "    <tr style=\"text-align: right;\">\n",
       "      <th></th>\n",
       "      <th>workclass ?</th>\n",
       "      <th>workclass Federal-gov</th>\n",
       "      <th>workclass Local-gov</th>\n",
       "      <th>workclass Never-worked</th>\n",
       "      <th>workclass Private</th>\n",
       "      <th>workclass Self-emp-inc</th>\n",
       "      <th>workclass Self-emp-not-inc</th>\n",
       "      <th>workclass State-gov</th>\n",
       "      <th>workclass Without-pay</th>\n",
       "      <th>education 10th</th>\n",
       "      <th>...</th>\n",
       "      <th>nativecountry Trinadad&amp;Tobago</th>\n",
       "      <th>nativecountry United-States</th>\n",
       "      <th>nativecountry Vietnam</th>\n",
       "      <th>nativecountry Yugoslavia</th>\n",
       "      <th>age</th>\n",
       "      <th>educationnum</th>\n",
       "      <th>capitalgain</th>\n",
       "      <th>capitalloss</th>\n",
       "      <th>hoursperweek</th>\n",
       "      <th>income</th>\n",
       "    </tr>\n",
       "  </thead>\n",
       "  <tbody>\n",
       "    <tr>\n",
       "      <th>0</th>\n",
       "      <td>0</td>\n",
       "      <td>0</td>\n",
       "      <td>0</td>\n",
       "      <td>0</td>\n",
       "      <td>0</td>\n",
       "      <td>0</td>\n",
       "      <td>0</td>\n",
       "      <td>1</td>\n",
       "      <td>0</td>\n",
       "      <td>0</td>\n",
       "      <td>...</td>\n",
       "      <td>0</td>\n",
       "      <td>1</td>\n",
       "      <td>0</td>\n",
       "      <td>0</td>\n",
       "      <td>39</td>\n",
       "      <td>13</td>\n",
       "      <td>2174</td>\n",
       "      <td>0</td>\n",
       "      <td>40</td>\n",
       "      <td>0</td>\n",
       "    </tr>\n",
       "    <tr>\n",
       "      <th>1</th>\n",
       "      <td>0</td>\n",
       "      <td>0</td>\n",
       "      <td>0</td>\n",
       "      <td>0</td>\n",
       "      <td>0</td>\n",
       "      <td>0</td>\n",
       "      <td>1</td>\n",
       "      <td>0</td>\n",
       "      <td>0</td>\n",
       "      <td>0</td>\n",
       "      <td>...</td>\n",
       "      <td>0</td>\n",
       "      <td>1</td>\n",
       "      <td>0</td>\n",
       "      <td>0</td>\n",
       "      <td>50</td>\n",
       "      <td>13</td>\n",
       "      <td>0</td>\n",
       "      <td>0</td>\n",
       "      <td>13</td>\n",
       "      <td>0</td>\n",
       "    </tr>\n",
       "    <tr>\n",
       "      <th>2</th>\n",
       "      <td>0</td>\n",
       "      <td>0</td>\n",
       "      <td>0</td>\n",
       "      <td>0</td>\n",
       "      <td>1</td>\n",
       "      <td>0</td>\n",
       "      <td>0</td>\n",
       "      <td>0</td>\n",
       "      <td>0</td>\n",
       "      <td>0</td>\n",
       "      <td>...</td>\n",
       "      <td>0</td>\n",
       "      <td>1</td>\n",
       "      <td>0</td>\n",
       "      <td>0</td>\n",
       "      <td>38</td>\n",
       "      <td>9</td>\n",
       "      <td>0</td>\n",
       "      <td>0</td>\n",
       "      <td>40</td>\n",
       "      <td>0</td>\n",
       "    </tr>\n",
       "    <tr>\n",
       "      <th>3</th>\n",
       "      <td>0</td>\n",
       "      <td>0</td>\n",
       "      <td>0</td>\n",
       "      <td>0</td>\n",
       "      <td>1</td>\n",
       "      <td>0</td>\n",
       "      <td>0</td>\n",
       "      <td>0</td>\n",
       "      <td>0</td>\n",
       "      <td>0</td>\n",
       "      <td>...</td>\n",
       "      <td>0</td>\n",
       "      <td>1</td>\n",
       "      <td>0</td>\n",
       "      <td>0</td>\n",
       "      <td>53</td>\n",
       "      <td>7</td>\n",
       "      <td>0</td>\n",
       "      <td>0</td>\n",
       "      <td>40</td>\n",
       "      <td>0</td>\n",
       "    </tr>\n",
       "    <tr>\n",
       "      <th>4</th>\n",
       "      <td>0</td>\n",
       "      <td>0</td>\n",
       "      <td>0</td>\n",
       "      <td>0</td>\n",
       "      <td>1</td>\n",
       "      <td>0</td>\n",
       "      <td>0</td>\n",
       "      <td>0</td>\n",
       "      <td>0</td>\n",
       "      <td>0</td>\n",
       "      <td>...</td>\n",
       "      <td>0</td>\n",
       "      <td>0</td>\n",
       "      <td>0</td>\n",
       "      <td>0</td>\n",
       "      <td>28</td>\n",
       "      <td>13</td>\n",
       "      <td>0</td>\n",
       "      <td>0</td>\n",
       "      <td>40</td>\n",
       "      <td>0</td>\n",
       "    </tr>\n",
       "    <tr>\n",
       "      <th>...</th>\n",
       "      <td>...</td>\n",
       "      <td>...</td>\n",
       "      <td>...</td>\n",
       "      <td>...</td>\n",
       "      <td>...</td>\n",
       "      <td>...</td>\n",
       "      <td>...</td>\n",
       "      <td>...</td>\n",
       "      <td>...</td>\n",
       "      <td>...</td>\n",
       "      <td>...</td>\n",
       "      <td>...</td>\n",
       "      <td>...</td>\n",
       "      <td>...</td>\n",
       "      <td>...</td>\n",
       "      <td>...</td>\n",
       "      <td>...</td>\n",
       "      <td>...</td>\n",
       "      <td>...</td>\n",
       "      <td>...</td>\n",
       "      <td>...</td>\n",
       "    </tr>\n",
       "    <tr>\n",
       "      <th>32556</th>\n",
       "      <td>0</td>\n",
       "      <td>0</td>\n",
       "      <td>0</td>\n",
       "      <td>0</td>\n",
       "      <td>1</td>\n",
       "      <td>0</td>\n",
       "      <td>0</td>\n",
       "      <td>0</td>\n",
       "      <td>0</td>\n",
       "      <td>0</td>\n",
       "      <td>...</td>\n",
       "      <td>0</td>\n",
       "      <td>1</td>\n",
       "      <td>0</td>\n",
       "      <td>0</td>\n",
       "      <td>27</td>\n",
       "      <td>12</td>\n",
       "      <td>0</td>\n",
       "      <td>0</td>\n",
       "      <td>38</td>\n",
       "      <td>0</td>\n",
       "    </tr>\n",
       "    <tr>\n",
       "      <th>32557</th>\n",
       "      <td>0</td>\n",
       "      <td>0</td>\n",
       "      <td>0</td>\n",
       "      <td>0</td>\n",
       "      <td>1</td>\n",
       "      <td>0</td>\n",
       "      <td>0</td>\n",
       "      <td>0</td>\n",
       "      <td>0</td>\n",
       "      <td>0</td>\n",
       "      <td>...</td>\n",
       "      <td>0</td>\n",
       "      <td>1</td>\n",
       "      <td>0</td>\n",
       "      <td>0</td>\n",
       "      <td>40</td>\n",
       "      <td>9</td>\n",
       "      <td>0</td>\n",
       "      <td>0</td>\n",
       "      <td>40</td>\n",
       "      <td>1</td>\n",
       "    </tr>\n",
       "    <tr>\n",
       "      <th>32558</th>\n",
       "      <td>0</td>\n",
       "      <td>0</td>\n",
       "      <td>0</td>\n",
       "      <td>0</td>\n",
       "      <td>1</td>\n",
       "      <td>0</td>\n",
       "      <td>0</td>\n",
       "      <td>0</td>\n",
       "      <td>0</td>\n",
       "      <td>0</td>\n",
       "      <td>...</td>\n",
       "      <td>0</td>\n",
       "      <td>1</td>\n",
       "      <td>0</td>\n",
       "      <td>0</td>\n",
       "      <td>58</td>\n",
       "      <td>9</td>\n",
       "      <td>0</td>\n",
       "      <td>0</td>\n",
       "      <td>40</td>\n",
       "      <td>0</td>\n",
       "    </tr>\n",
       "    <tr>\n",
       "      <th>32559</th>\n",
       "      <td>0</td>\n",
       "      <td>0</td>\n",
       "      <td>0</td>\n",
       "      <td>0</td>\n",
       "      <td>1</td>\n",
       "      <td>0</td>\n",
       "      <td>0</td>\n",
       "      <td>0</td>\n",
       "      <td>0</td>\n",
       "      <td>0</td>\n",
       "      <td>...</td>\n",
       "      <td>0</td>\n",
       "      <td>1</td>\n",
       "      <td>0</td>\n",
       "      <td>0</td>\n",
       "      <td>22</td>\n",
       "      <td>9</td>\n",
       "      <td>0</td>\n",
       "      <td>0</td>\n",
       "      <td>20</td>\n",
       "      <td>0</td>\n",
       "    </tr>\n",
       "    <tr>\n",
       "      <th>32560</th>\n",
       "      <td>0</td>\n",
       "      <td>0</td>\n",
       "      <td>0</td>\n",
       "      <td>0</td>\n",
       "      <td>0</td>\n",
       "      <td>1</td>\n",
       "      <td>0</td>\n",
       "      <td>0</td>\n",
       "      <td>0</td>\n",
       "      <td>0</td>\n",
       "      <td>...</td>\n",
       "      <td>0</td>\n",
       "      <td>1</td>\n",
       "      <td>0</td>\n",
       "      <td>0</td>\n",
       "      <td>52</td>\n",
       "      <td>9</td>\n",
       "      <td>15024</td>\n",
       "      <td>0</td>\n",
       "      <td>40</td>\n",
       "      <td>1</td>\n",
       "    </tr>\n",
       "  </tbody>\n",
       "</table>\n",
       "<p>32561 rows × 108 columns</p>\n",
       "</div>"
      ],
      "text/plain": [
       "       workclass ?  workclass Federal-gov  workclass Local-gov  \\\n",
       "0                0                      0                    0   \n",
       "1                0                      0                    0   \n",
       "2                0                      0                    0   \n",
       "3                0                      0                    0   \n",
       "4                0                      0                    0   \n",
       "...            ...                    ...                  ...   \n",
       "32556            0                      0                    0   \n",
       "32557            0                      0                    0   \n",
       "32558            0                      0                    0   \n",
       "32559            0                      0                    0   \n",
       "32560            0                      0                    0   \n",
       "\n",
       "       workclass Never-worked  workclass Private  workclass Self-emp-inc  \\\n",
       "0                           0                  0                       0   \n",
       "1                           0                  0                       0   \n",
       "2                           0                  1                       0   \n",
       "3                           0                  1                       0   \n",
       "4                           0                  1                       0   \n",
       "...                       ...                ...                     ...   \n",
       "32556                       0                  1                       0   \n",
       "32557                       0                  1                       0   \n",
       "32558                       0                  1                       0   \n",
       "32559                       0                  1                       0   \n",
       "32560                       0                  0                       1   \n",
       "\n",
       "       workclass Self-emp-not-inc  workclass State-gov  workclass Without-pay  \\\n",
       "0                               0                    1                      0   \n",
       "1                               1                    0                      0   \n",
       "2                               0                    0                      0   \n",
       "3                               0                    0                      0   \n",
       "4                               0                    0                      0   \n",
       "...                           ...                  ...                    ...   \n",
       "32556                           0                    0                      0   \n",
       "32557                           0                    0                      0   \n",
       "32558                           0                    0                      0   \n",
       "32559                           0                    0                      0   \n",
       "32560                           0                    0                      0   \n",
       "\n",
       "       education 10th  ...  nativecountry Trinadad&Tobago  \\\n",
       "0                   0  ...                              0   \n",
       "1                   0  ...                              0   \n",
       "2                   0  ...                              0   \n",
       "3                   0  ...                              0   \n",
       "4                   0  ...                              0   \n",
       "...               ...  ...                            ...   \n",
       "32556               0  ...                              0   \n",
       "32557               0  ...                              0   \n",
       "32558               0  ...                              0   \n",
       "32559               0  ...                              0   \n",
       "32560               0  ...                              0   \n",
       "\n",
       "       nativecountry United-States  nativecountry Vietnam  \\\n",
       "0                                1                      0   \n",
       "1                                1                      0   \n",
       "2                                1                      0   \n",
       "3                                1                      0   \n",
       "4                                0                      0   \n",
       "...                            ...                    ...   \n",
       "32556                            1                      0   \n",
       "32557                            1                      0   \n",
       "32558                            1                      0   \n",
       "32559                            1                      0   \n",
       "32560                            1                      0   \n",
       "\n",
       "       nativecountry Yugoslavia  age  educationnum  capitalgain  capitalloss  \\\n",
       "0                             0   39            13         2174            0   \n",
       "1                             0   50            13            0            0   \n",
       "2                             0   38             9            0            0   \n",
       "3                             0   53             7            0            0   \n",
       "4                             0   28            13            0            0   \n",
       "...                         ...  ...           ...          ...          ...   \n",
       "32556                         0   27            12            0            0   \n",
       "32557                         0   40             9            0            0   \n",
       "32558                         0   58             9            0            0   \n",
       "32559                         0   22             9            0            0   \n",
       "32560                         0   52             9        15024            0   \n",
       "\n",
       "       hoursperweek  income  \n",
       "0                40       0  \n",
       "1                13       0  \n",
       "2                40       0  \n",
       "3                40       0  \n",
       "4                40       0  \n",
       "...             ...     ...  \n",
       "32556            38       0  \n",
       "32557            40       1  \n",
       "32558            40       0  \n",
       "32559            20       0  \n",
       "32560            40       1  \n",
       "\n",
       "[32561 rows x 108 columns]"
      ]
     },
     "execution_count": 19,
     "metadata": {},
     "output_type": "execute_result"
    }
   ],
   "source": [
    "df"
   ]
  },
  {
   "cell_type": "code",
   "execution_count": 20,
   "id": "eb3afca8",
   "metadata": {
    "ExecuteTime": {
     "end_time": "2022-05-31T16:49:11.051960Z",
     "start_time": "2022-05-31T16:49:11.014062Z"
    }
   },
   "outputs": [
    {
     "name": "stdout",
     "output_type": "stream",
     "text": [
      "<class 'pandas.core.frame.DataFrame'>\n",
      "RangeIndex: 32561 entries, 0 to 32560\n",
      "Columns: 108 entries, workclass ? to income\n",
      "dtypes: int32(102), int64(6)\n",
      "memory usage: 14.2 MB\n"
     ]
    }
   ],
   "source": [
    "df.info()"
   ]
  },
  {
   "cell_type": "markdown",
   "id": "290d67a0",
   "metadata": {},
   "source": [
    "Görüldüğü üzere dataset tamamen integer değerlere dönmüş durumda. Bu sayede artık data üzerinde işlemler gerçekleştirebiliriz. "
   ]
  },
  {
   "cell_type": "code",
   "execution_count": 310,
   "id": "ae8a0501",
   "metadata": {
    "ExecuteTime": {
     "end_time": "2022-05-30T23:18:41.062097Z",
     "start_time": "2022-05-30T23:18:40.574210Z"
    }
   },
   "outputs": [],
   "source": [
    "df.to_csv(\"Q1prepared.txt\", sep=\",\")"
   ]
  },
  {
   "cell_type": "markdown",
   "id": "8fe48d6b",
   "metadata": {
    "ExecuteTime": {
     "end_time": "2022-05-30T20:58:59.118833Z",
     "start_time": "2022-05-30T20:58:59.101846Z"
    }
   },
   "source": [
    "#### Yukarıdaki satırda gerçekleşen işlemi, UHEM üzerinden işlem yapabilmek adına yazdım. Bu sayede datayı UHEM'e verebileceğim."
   ]
  },
  {
   "cell_type": "code",
   "execution_count": 23,
   "id": "00492219",
   "metadata": {
    "ExecuteTime": {
     "end_time": "2022-05-31T16:56:29.482245Z",
     "start_time": "2022-05-31T16:56:29.220269Z"
    }
   },
   "outputs": [],
   "source": [
    "from sklearn.model_selection import train_test_split\n",
    "import numpy as np\n",
    "from scipy.stats import chisquare\n",
    "from sklearn.metrics import confusion_matrix, accuracy_score\n",
    "\n",
    "from sklearn.linear_model import LogisticRegression"
   ]
  },
  {
   "cell_type": "code",
   "execution_count": 80,
   "id": "8c56f6bf",
   "metadata": {
    "ExecuteTime": {
     "end_time": "2022-05-30T21:00:23.878209Z",
     "start_time": "2022-05-30T21:00:21.924901Z"
    }
   },
   "outputs": [],
   "source": [
    "Q1prepared = np.loadtxt('Q1prepared.txt', delimiter=\",\")\n",
    "\n",
    "Q1 = Q1prepared.astype(int)\n",
    "x = Q1[:,1:107]\n",
    "y = Q1[:,107]\n",
    "x_train, x_test, y_train, y_test = train_test_split(x,y,test_size=0.30)\n",
    "\n",
    "#Bu kod bloğu, UHEM'de derlenmek üzere yazılmıştı.\n",
    "#Ancak modellerin localde oldukça hızlı çalışması sebebiyle UHEM'e ihtiyaç duyulmadı. \n"
   ]
  },
  {
   "cell_type": "code",
   "execution_count": 311,
   "id": "f6189a11",
   "metadata": {
    "ExecuteTime": {
     "end_time": "2022-05-30T23:18:48.199302Z",
     "start_time": "2022-05-30T23:18:48.165369Z"
    }
   },
   "outputs": [],
   "source": [
    "x = df.iloc[:,0:107]\n",
    "y = df.iloc[:,107]\n",
    "\n",
    "x_train, x_test, y_train, y_test = train_test_split(x,y,test_size=0.30)"
   ]
  },
  {
   "cell_type": "markdown",
   "id": "a3c7cba4",
   "metadata": {},
   "source": [
    "## Logistic Regression"
   ]
  },
  {
   "cell_type": "code",
   "execution_count": 312,
   "id": "d55ba67e",
   "metadata": {
    "ExecuteTime": {
     "end_time": "2022-05-30T23:19:01.479782Z",
     "start_time": "2022-05-30T23:18:52.249462Z"
    }
   },
   "outputs": [],
   "source": [
    "modelLR = LogisticRegression(C = 1, \n",
    "                            tol = 1e-1,\n",
    "                            class_weight = \"balanced\",\n",
    "                            penalty = \"l2\",\n",
    "                            solver = \"newton-cg\",\n",
    "                            multi_class = \"multinomial\",\n",
    "                            max_iter = 100000)\n",
    "\n",
    "modelLR.fit(x_train, y_train)\n",
    "predictedLR = modelLR.predict(x_test)"
   ]
  },
  {
   "cell_type": "code",
   "execution_count": 314,
   "id": "d51d702d",
   "metadata": {
    "ExecuteTime": {
     "end_time": "2022-05-30T23:20:56.811254Z",
     "start_time": "2022-05-30T23:20:56.792305Z"
    }
   },
   "outputs": [
    {
     "name": "stdout",
     "output_type": "stream",
     "text": [
      "0.8063261336881974\n"
     ]
    }
   ],
   "source": [
    "print(accuracy_score(predictedLR, y_test))"
   ]
  },
  {
   "cell_type": "code",
   "execution_count": 315,
   "id": "d2bed8c0",
   "metadata": {
    "ExecuteTime": {
     "end_time": "2022-05-30T23:20:57.738354Z",
     "start_time": "2022-05-30T23:20:57.729356Z"
    }
   },
   "outputs": [
    {
     "name": "stdout",
     "output_type": "stream",
     "text": [
      "[[5900  390]\n",
      " [1502 1977]]\n"
     ]
    },
    {
     "data": {
      "text/plain": [
       "Power_divergenceResult(statistic=7070.649094073089, pvalue=0.0)"
      ]
     },
     "execution_count": 315,
     "metadata": {},
     "output_type": "execute_result"
    }
   ],
   "source": [
    "print(confusion_matrix(predictedLR, y_test))\n",
    "chisquare(confusion_matrix(predictedLR, y_test),axis=None)"
   ]
  },
  {
   "cell_type": "code",
   "execution_count": 316,
   "id": "fb2da811",
   "metadata": {
    "ExecuteTime": {
     "end_time": "2022-05-30T23:21:00.744601Z",
     "start_time": "2022-05-30T23:21:00.735598Z"
    }
   },
   "outputs": [],
   "source": [
    "importance = modelLR.coef_.flatten()"
   ]
  },
  {
   "cell_type": "markdown",
   "id": "b88dcfd9",
   "metadata": {},
   "source": [
    "### Lojistik regresyon, bu probleme uygun olduğu tahmin edilen parametreler girilerek denendiğinde, fena olmayan bir skor değeri ile tahminde bulundu, hem de lokalde olmasına rağmen oldukça hızlı bir şekilde çalışarak. "
   ]
  },
  {
   "cell_type": "code",
   "execution_count": 317,
   "id": "c44b0dec",
   "metadata": {
    "ExecuteTime": {
     "end_time": "2022-05-30T23:21:07.563864Z",
     "start_time": "2022-05-30T23:21:05.135197Z"
    }
   },
   "outputs": [
    {
     "data": {
      "text/plain": [
       "<AxesSubplot:>"
      ]
     },
     "execution_count": 317,
     "metadata": {},
     "output_type": "execute_result"
    },
    {
     "data": {
      "image/png": "[encoded data removed]",
      "text/plain": [
       "<Figure size 504x1440 with 1 Axes>"
      ]
     },
     "metadata": {},
     "output_type": "display_data"
    }
   ],
   "source": [
    "feat_importances = pd.Series(importance, index=x.columns)\n",
    "feat_importances.nlargest(108).plot(kind='barh')"
   ]
  },
  {
   "cell_type": "markdown",
   "id": "936f38ff",
   "metadata": {},
   "source": [
    "Burada ise Lojistik regresyon için grafiğin sağında kalanlar >50k iken, solunda kalanlar <50k için etken parametreler olarak gözüküyor. Ancak bunun için data üzerindeki değişkenlerin aşağı yukarı eşit bir şekilde dağılmış olması da olduça önemli. Bununla beraber bunun yorumu oldukça uzun olduğu için es geçiyorum."
   ]
  },
  {
   "cell_type": "markdown",
   "id": "eca02dc0",
   "metadata": {},
   "source": [
    "### <font color='red'>Şimdi başka bir şey göstermek istiyorum. Sürekli datalar yok iken, algoritma oldukça yüksek bir tahmin değerinde bulunuyor. Aslında sürekli dataları dahil etmeden model kurmak daha avantajlı gibi gözüküyor. </font>"
   ]
  },
  {
   "cell_type": "code",
   "execution_count": 24,
   "id": "d58b036c",
   "metadata": {
    "ExecuteTime": {
     "end_time": "2022-05-31T16:56:34.200333Z",
     "start_time": "2022-05-31T16:56:34.165090Z"
    }
   },
   "outputs": [],
   "source": [
    "x1 = df1.iloc[:,0:101]\n",
    "y1 = df1.iloc[:,101]\n",
    "\n",
    "x1_train, x1_test, y1_train, y1_test = train_test_split(x1,y1,test_size=0.30)"
   ]
  },
  {
   "cell_type": "code",
   "execution_count": 25,
   "id": "c5d5922c",
   "metadata": {
    "ExecuteTime": {
     "end_time": "2022-05-31T16:56:51.914677Z",
     "start_time": "2022-05-31T16:56:51.282134Z"
    }
   },
   "outputs": [],
   "source": [
    "modelLR1 = LogisticRegression(C = 1, \n",
    "                            tol = 1e-1,\n",
    "                            class_weight = \"balanced\",\n",
    "                            penalty = \"l2\",\n",
    "                            solver = \"newton-cg\",\n",
    "                            multi_class = \"multinomial\",\n",
    "                            max_iter = 100000)\n",
    "\n",
    "modelLR1.fit(x1_train, y1_train)\n",
    "predictedLR1 = modelLR1.predict(x1_test)"
   ]
  },
  {
   "cell_type": "code",
   "execution_count": 27,
   "id": "fde95c58",
   "metadata": {
    "ExecuteTime": {
     "end_time": "2022-05-31T16:57:12.757406Z",
     "start_time": "2022-05-31T16:57:12.744408Z"
    }
   },
   "outputs": [
    {
     "name": "stdout",
     "output_type": "stream",
     "text": [
      "0.9951888627290408\n"
     ]
    }
   ],
   "source": [
    "print(accuracy_score(predictedLR1, y1_test))"
   ]
  },
  {
   "cell_type": "code",
   "execution_count": 28,
   "id": "e2ab8708",
   "metadata": {
    "ExecuteTime": {
     "end_time": "2022-05-31T16:57:29.183179Z",
     "start_time": "2022-05-31T16:57:29.164210Z"
    }
   },
   "outputs": [
    {
     "name": "stdout",
     "output_type": "stream",
     "text": [
      "[[9718    3]\n",
      " [  44    4]]\n"
     ]
    },
    {
     "data": {
      "text/plain": [
       "Power_divergenceResult(statistic=28900.867949636602, pvalue=0.0)"
      ]
     },
     "execution_count": 28,
     "metadata": {},
     "output_type": "execute_result"
    }
   ],
   "source": [
    "print(confusion_matrix(predictedLR1, y1_test))\n",
    "chisquare(confusion_matrix(predictedLR1, y1_test),axis=None)"
   ]
  },
  {
   "cell_type": "markdown",
   "id": "7e3dea45",
   "metadata": {},
   "source": [
    "### <font color='red'>Aynı durum KNN ve SVM için de geçerli ancak çok uzatmamak adına onlarda bütün data ile işlemlere devam edeceğim. </font>"
   ]
  },
  {
   "cell_type": "markdown",
   "id": "d4110f54",
   "metadata": {},
   "source": [
    "## SVM"
   ]
  },
  {
   "cell_type": "code",
   "execution_count": 81,
   "id": "3dd0469a",
   "metadata": {
    "ExecuteTime": {
     "end_time": "2022-05-30T21:03:25.509870Z",
     "start_time": "2022-05-30T21:03:25.492890Z"
    }
   },
   "outputs": [],
   "source": [
    "from sklearn.svm import SVC"
   ]
  },
  {
   "cell_type": "code",
   "execution_count": 318,
   "id": "a876d695",
   "metadata": {
    "ExecuteTime": {
     "end_time": "2022-05-30T23:21:54.182507Z",
     "start_time": "2022-05-30T23:21:15.719015Z"
    }
   },
   "outputs": [],
   "source": [
    "modelSVC = SVC(C=5,\n",
    "             kernel='rbf',\n",
    "             max_iter=50000)\n",
    "\n",
    "modelSVC.fit(x_train, y_train)\n",
    "predictedSVC = modelSVC.predict(x_test)"
   ]
  },
  {
   "cell_type": "code",
   "execution_count": 319,
   "id": "fc0cee5c",
   "metadata": {
    "ExecuteTime": {
     "end_time": "2022-05-30T23:23:30.941028Z",
     "start_time": "2022-05-30T23:23:30.919053Z"
    },
    "scrolled": true
   },
   "outputs": [
    {
     "name": "stdout",
     "output_type": "stream",
     "text": [
      "0.8038693827413246\n",
      "[[7190 1704]\n",
      " [ 212  663]]\n"
     ]
    }
   ],
   "source": [
    "print(accuracy_score(predictedSVC, y_test))\n",
    "print(confusion_matrix(predictedSVC, y_test))"
   ]
  },
  {
   "cell_type": "code",
   "execution_count": 320,
   "id": "061fd3dd",
   "metadata": {
    "ExecuteTime": {
     "end_time": "2022-05-30T23:23:31.949380Z",
     "start_time": "2022-05-30T23:23:31.928418Z"
    }
   },
   "outputs": [
    {
     "data": {
      "text/plain": [
       "Power_divergenceResult(statistic=12785.705292250997, pvalue=0.0)"
      ]
     },
     "execution_count": 320,
     "metadata": {},
     "output_type": "execute_result"
    }
   ],
   "source": [
    "chisquare(confusion_matrix(predictedSVC, y_test),axis=None)"
   ]
  },
  {
   "cell_type": "markdown",
   "id": "a2ac3898",
   "metadata": {},
   "source": [
    "### SVM algoritması, RBF ile en yüksek skoru verdi. Ancak yine de elle tutulur bir sonuç değil. "
   ]
  },
  {
   "cell_type": "markdown",
   "id": "9d778f69",
   "metadata": {},
   "source": [
    "## KNN\n",
    "\n",
    "#### İlk olarak KNN algoritmasının hangi K değeri için en iyi sonucu verdiğini bulmaya çalışalım."
   ]
  },
  {
   "cell_type": "code",
   "execution_count": 115,
   "id": "2c810c59",
   "metadata": {
    "ExecuteTime": {
     "end_time": "2022-05-30T21:16:51.501990Z",
     "start_time": "2022-05-30T21:16:51.420846Z"
    }
   },
   "outputs": [],
   "source": [
    "from sklearn.neighbors import KNeighborsClassifier"
   ]
  },
  {
   "cell_type": "code",
   "execution_count": 321,
   "id": "1b6419f1",
   "metadata": {
    "ExecuteTime": {
     "end_time": "2022-05-30T23:24:43.106660Z",
     "start_time": "2022-05-30T23:23:50.886194Z"
    }
   },
   "outputs": [],
   "source": [
    "arr = np.arange(3,15,2)\n",
    "cnf = np.array([])\n",
    "score = np.array([])\n",
    "for n in arr:\n",
    "    modelKNN = KNeighborsClassifier(n_neighbors=n)\n",
    "    modelKNN.fit(x_train,y_train)\n",
    "    predictedKNN = modelKNN.predict(x_test)\n",
    "\n",
    "    cm = confusion_matrix(y_test,predictedKNN)\n",
    "    ms = modelKNN.score(x_test, y_test)\n",
    "    cs = chisquare(cm,axis=None)\n",
    "    score =  np.append(score, ms)\n",
    "    cnf =  np.append(cnf, cs[0])"
   ]
  },
  {
   "cell_type": "code",
   "execution_count": 322,
   "id": "d62f1dfb",
   "metadata": {
    "ExecuteTime": {
     "end_time": "2022-05-30T23:24:58.351980Z",
     "start_time": "2022-05-30T23:24:58.336021Z"
    }
   },
   "outputs": [
    {
     "name": "stdout",
     "output_type": "stream",
     "text": [
      "[ 9828.28160508 10046.03408742 10252.79670386 10356.10717576\n",
      " 10438.62780223 10563.69280377]\n",
      "[0.83816153 0.84092538 0.84420104 0.84420104 0.84430341 0.84542942]\n"
     ]
    }
   ],
   "source": [
    "print(cnf)\n",
    "print(score)"
   ]
  },
  {
   "cell_type": "code",
   "execution_count": 324,
   "id": "67f6d0ca",
   "metadata": {
    "ExecuteTime": {
     "end_time": "2022-05-30T23:25:28.627232Z",
     "start_time": "2022-05-30T23:25:28.616264Z"
    }
   },
   "outputs": [
    {
     "name": "stdout",
     "output_type": "stream",
     "text": [
      "[[6809  593]\n",
      " [ 917 1450]]\n"
     ]
    }
   ],
   "source": [
    "print(confusion_matrix(y_test,predictedKNN))"
   ]
  },
  {
   "cell_type": "markdown",
   "id": "da8c1bf1",
   "metadata": {},
   "source": [
    "### Görüldüğü üzere KNN algoritması, 3'ten büyük bütün tek sayı değerleri için oldukça yüksek ve aynı skoru veriyor. "
   ]
  },
  {
   "cell_type": "markdown",
   "id": "e5d24982",
   "metadata": {},
   "source": [
    "# Q2\n",
    "\n",
    "For this question we are going to use [the Dry Bean Dataset](https://archive.ics.uci.edu/ml/datasets/Dry+Bean+Dataset):\n",
    "\n",
    "Construct \n",
    "\n",
    "- Logistic regression\n",
    "- SVM\n",
    "- KNN\n",
    "- Decision tree\n",
    "- Gradient Boost (XGBoost)\n",
    "- Neural network\n",
    "\n",
    "models for the data. Cross-validate your models and measure the accuracies. Compare them putting the accuracies in a table."
   ]
  },
  {
   "cell_type": "code",
   "execution_count": 193,
   "id": "928cc867",
   "metadata": {
    "ExecuteTime": {
     "end_time": "2022-05-30T22:11:46.958822Z",
     "start_time": "2022-05-30T22:11:38.069514Z"
    }
   },
   "outputs": [
    {
     "data": {
      "text/html": [
       "<div>\n",
       "<style scoped>\n",
       "    .dataframe tbody tr th:only-of-type {\n",
       "        vertical-align: middle;\n",
       "    }\n",
       "\n",
       "    .dataframe tbody tr th {\n",
       "        vertical-align: top;\n",
       "    }\n",
       "\n",
       "    .dataframe thead th {\n",
       "        text-align: right;\n",
       "    }\n",
       "</style>\n",
       "<table border=\"1\" class=\"dataframe\">\n",
       "  <thead>\n",
       "    <tr style=\"text-align: right;\">\n",
       "      <th></th>\n",
       "      <th>Area</th>\n",
       "      <th>Perimeter</th>\n",
       "      <th>MajorAxisLength</th>\n",
       "      <th>MinorAxisLength</th>\n",
       "      <th>AspectRation</th>\n",
       "      <th>Eccentricity</th>\n",
       "      <th>ConvexArea</th>\n",
       "      <th>EquivDiameter</th>\n",
       "      <th>Extent</th>\n",
       "      <th>Solidity</th>\n",
       "      <th>roundness</th>\n",
       "      <th>Compactness</th>\n",
       "      <th>ShapeFactor1</th>\n",
       "      <th>ShapeFactor2</th>\n",
       "      <th>ShapeFactor3</th>\n",
       "      <th>ShapeFactor4</th>\n",
       "      <th>Class</th>\n",
       "    </tr>\n",
       "  </thead>\n",
       "  <tbody>\n",
       "    <tr>\n",
       "      <th>0</th>\n",
       "      <td>28395</td>\n",
       "      <td>610.291</td>\n",
       "      <td>208.178117</td>\n",
       "      <td>173.888747</td>\n",
       "      <td>1.197191</td>\n",
       "      <td>0.549812</td>\n",
       "      <td>28715</td>\n",
       "      <td>190.141097</td>\n",
       "      <td>0.763923</td>\n",
       "      <td>0.988856</td>\n",
       "      <td>0.958027</td>\n",
       "      <td>0.913358</td>\n",
       "      <td>0.007332</td>\n",
       "      <td>0.003147</td>\n",
       "      <td>0.834222</td>\n",
       "      <td>0.998724</td>\n",
       "      <td>SEKER</td>\n",
       "    </tr>\n",
       "    <tr>\n",
       "      <th>1</th>\n",
       "      <td>28734</td>\n",
       "      <td>638.018</td>\n",
       "      <td>200.524796</td>\n",
       "      <td>182.734419</td>\n",
       "      <td>1.097356</td>\n",
       "      <td>0.411785</td>\n",
       "      <td>29172</td>\n",
       "      <td>191.272750</td>\n",
       "      <td>0.783968</td>\n",
       "      <td>0.984986</td>\n",
       "      <td>0.887034</td>\n",
       "      <td>0.953861</td>\n",
       "      <td>0.006979</td>\n",
       "      <td>0.003564</td>\n",
       "      <td>0.909851</td>\n",
       "      <td>0.998430</td>\n",
       "      <td>SEKER</td>\n",
       "    </tr>\n",
       "    <tr>\n",
       "      <th>2</th>\n",
       "      <td>29380</td>\n",
       "      <td>624.110</td>\n",
       "      <td>212.826130</td>\n",
       "      <td>175.931143</td>\n",
       "      <td>1.209713</td>\n",
       "      <td>0.562727</td>\n",
       "      <td>29690</td>\n",
       "      <td>193.410904</td>\n",
       "      <td>0.778113</td>\n",
       "      <td>0.989559</td>\n",
       "      <td>0.947849</td>\n",
       "      <td>0.908774</td>\n",
       "      <td>0.007244</td>\n",
       "      <td>0.003048</td>\n",
       "      <td>0.825871</td>\n",
       "      <td>0.999066</td>\n",
       "      <td>SEKER</td>\n",
       "    </tr>\n",
       "    <tr>\n",
       "      <th>3</th>\n",
       "      <td>30008</td>\n",
       "      <td>645.884</td>\n",
       "      <td>210.557999</td>\n",
       "      <td>182.516516</td>\n",
       "      <td>1.153638</td>\n",
       "      <td>0.498616</td>\n",
       "      <td>30724</td>\n",
       "      <td>195.467062</td>\n",
       "      <td>0.782681</td>\n",
       "      <td>0.976696</td>\n",
       "      <td>0.903936</td>\n",
       "      <td>0.928329</td>\n",
       "      <td>0.007017</td>\n",
       "      <td>0.003215</td>\n",
       "      <td>0.861794</td>\n",
       "      <td>0.994199</td>\n",
       "      <td>SEKER</td>\n",
       "    </tr>\n",
       "    <tr>\n",
       "      <th>4</th>\n",
       "      <td>30140</td>\n",
       "      <td>620.134</td>\n",
       "      <td>201.847882</td>\n",
       "      <td>190.279279</td>\n",
       "      <td>1.060798</td>\n",
       "      <td>0.333680</td>\n",
       "      <td>30417</td>\n",
       "      <td>195.896503</td>\n",
       "      <td>0.773098</td>\n",
       "      <td>0.990893</td>\n",
       "      <td>0.984877</td>\n",
       "      <td>0.970516</td>\n",
       "      <td>0.006697</td>\n",
       "      <td>0.003665</td>\n",
       "      <td>0.941900</td>\n",
       "      <td>0.999166</td>\n",
       "      <td>SEKER</td>\n",
       "    </tr>\n",
       "    <tr>\n",
       "      <th>...</th>\n",
       "      <td>...</td>\n",
       "      <td>...</td>\n",
       "      <td>...</td>\n",
       "      <td>...</td>\n",
       "      <td>...</td>\n",
       "      <td>...</td>\n",
       "      <td>...</td>\n",
       "      <td>...</td>\n",
       "      <td>...</td>\n",
       "      <td>...</td>\n",
       "      <td>...</td>\n",
       "      <td>...</td>\n",
       "      <td>...</td>\n",
       "      <td>...</td>\n",
       "      <td>...</td>\n",
       "      <td>...</td>\n",
       "      <td>...</td>\n",
       "    </tr>\n",
       "    <tr>\n",
       "      <th>13606</th>\n",
       "      <td>42097</td>\n",
       "      <td>759.696</td>\n",
       "      <td>288.721612</td>\n",
       "      <td>185.944705</td>\n",
       "      <td>1.552728</td>\n",
       "      <td>0.765002</td>\n",
       "      <td>42508</td>\n",
       "      <td>231.515799</td>\n",
       "      <td>0.714574</td>\n",
       "      <td>0.990331</td>\n",
       "      <td>0.916603</td>\n",
       "      <td>0.801865</td>\n",
       "      <td>0.006858</td>\n",
       "      <td>0.001749</td>\n",
       "      <td>0.642988</td>\n",
       "      <td>0.998385</td>\n",
       "      <td>DERMASON</td>\n",
       "    </tr>\n",
       "    <tr>\n",
       "      <th>13607</th>\n",
       "      <td>42101</td>\n",
       "      <td>757.499</td>\n",
       "      <td>281.576392</td>\n",
       "      <td>190.713136</td>\n",
       "      <td>1.476439</td>\n",
       "      <td>0.735702</td>\n",
       "      <td>42494</td>\n",
       "      <td>231.526798</td>\n",
       "      <td>0.799943</td>\n",
       "      <td>0.990752</td>\n",
       "      <td>0.922015</td>\n",
       "      <td>0.822252</td>\n",
       "      <td>0.006688</td>\n",
       "      <td>0.001886</td>\n",
       "      <td>0.676099</td>\n",
       "      <td>0.998219</td>\n",
       "      <td>DERMASON</td>\n",
       "    </tr>\n",
       "    <tr>\n",
       "      <th>13608</th>\n",
       "      <td>42139</td>\n",
       "      <td>759.321</td>\n",
       "      <td>281.539928</td>\n",
       "      <td>191.187979</td>\n",
       "      <td>1.472582</td>\n",
       "      <td>0.734065</td>\n",
       "      <td>42569</td>\n",
       "      <td>231.631261</td>\n",
       "      <td>0.729932</td>\n",
       "      <td>0.989899</td>\n",
       "      <td>0.918424</td>\n",
       "      <td>0.822730</td>\n",
       "      <td>0.006681</td>\n",
       "      <td>0.001888</td>\n",
       "      <td>0.676884</td>\n",
       "      <td>0.996767</td>\n",
       "      <td>DERMASON</td>\n",
       "    </tr>\n",
       "    <tr>\n",
       "      <th>13609</th>\n",
       "      <td>42147</td>\n",
       "      <td>763.779</td>\n",
       "      <td>283.382636</td>\n",
       "      <td>190.275731</td>\n",
       "      <td>1.489326</td>\n",
       "      <td>0.741055</td>\n",
       "      <td>42667</td>\n",
       "      <td>231.653248</td>\n",
       "      <td>0.705389</td>\n",
       "      <td>0.987813</td>\n",
       "      <td>0.907906</td>\n",
       "      <td>0.817457</td>\n",
       "      <td>0.006724</td>\n",
       "      <td>0.001852</td>\n",
       "      <td>0.668237</td>\n",
       "      <td>0.995222</td>\n",
       "      <td>DERMASON</td>\n",
       "    </tr>\n",
       "    <tr>\n",
       "      <th>13610</th>\n",
       "      <td>42159</td>\n",
       "      <td>772.237</td>\n",
       "      <td>295.142741</td>\n",
       "      <td>182.204716</td>\n",
       "      <td>1.619841</td>\n",
       "      <td>0.786693</td>\n",
       "      <td>42600</td>\n",
       "      <td>231.686223</td>\n",
       "      <td>0.788962</td>\n",
       "      <td>0.989648</td>\n",
       "      <td>0.888380</td>\n",
       "      <td>0.784997</td>\n",
       "      <td>0.007001</td>\n",
       "      <td>0.001640</td>\n",
       "      <td>0.616221</td>\n",
       "      <td>0.998180</td>\n",
       "      <td>DERMASON</td>\n",
       "    </tr>\n",
       "  </tbody>\n",
       "</table>\n",
       "<p>13611 rows × 17 columns</p>\n",
       "</div>"
      ],
      "text/plain": [
       "        Area  Perimeter  MajorAxisLength  MinorAxisLength  AspectRation  \\\n",
       "0      28395    610.291       208.178117       173.888747      1.197191   \n",
       "1      28734    638.018       200.524796       182.734419      1.097356   \n",
       "2      29380    624.110       212.826130       175.931143      1.209713   \n",
       "3      30008    645.884       210.557999       182.516516      1.153638   \n",
       "4      30140    620.134       201.847882       190.279279      1.060798   \n",
       "...      ...        ...              ...              ...           ...   \n",
       "13606  42097    759.696       288.721612       185.944705      1.552728   \n",
       "13607  42101    757.499       281.576392       190.713136      1.476439   \n",
       "13608  42139    759.321       281.539928       191.187979      1.472582   \n",
       "13609  42147    763.779       283.382636       190.275731      1.489326   \n",
       "13610  42159    772.237       295.142741       182.204716      1.619841   \n",
       "\n",
       "       Eccentricity  ConvexArea  EquivDiameter    Extent  Solidity  roundness  \\\n",
       "0          0.549812       28715     190.141097  0.763923  0.988856   0.958027   \n",
       "1          0.411785       29172     191.272750  0.783968  0.984986   0.887034   \n",
       "2          0.562727       29690     193.410904  0.778113  0.989559   0.947849   \n",
       "3          0.498616       30724     195.467062  0.782681  0.976696   0.903936   \n",
       "4          0.333680       30417     195.896503  0.773098  0.990893   0.984877   \n",
       "...             ...         ...            ...       ...       ...        ...   \n",
       "13606      0.765002       42508     231.515799  0.714574  0.990331   0.916603   \n",
       "13607      0.735702       42494     231.526798  0.799943  0.990752   0.922015   \n",
       "13608      0.734065       42569     231.631261  0.729932  0.989899   0.918424   \n",
       "13609      0.741055       42667     231.653248  0.705389  0.987813   0.907906   \n",
       "13610      0.786693       42600     231.686223  0.788962  0.989648   0.888380   \n",
       "\n",
       "       Compactness  ShapeFactor1  ShapeFactor2  ShapeFactor3  ShapeFactor4  \\\n",
       "0         0.913358      0.007332      0.003147      0.834222      0.998724   \n",
       "1         0.953861      0.006979      0.003564      0.909851      0.998430   \n",
       "2         0.908774      0.007244      0.003048      0.825871      0.999066   \n",
       "3         0.928329      0.007017      0.003215      0.861794      0.994199   \n",
       "4         0.970516      0.006697      0.003665      0.941900      0.999166   \n",
       "...            ...           ...           ...           ...           ...   \n",
       "13606     0.801865      0.006858      0.001749      0.642988      0.998385   \n",
       "13607     0.822252      0.006688      0.001886      0.676099      0.998219   \n",
       "13608     0.822730      0.006681      0.001888      0.676884      0.996767   \n",
       "13609     0.817457      0.006724      0.001852      0.668237      0.995222   \n",
       "13610     0.784997      0.007001      0.001640      0.616221      0.998180   \n",
       "\n",
       "          Class  \n",
       "0         SEKER  \n",
       "1         SEKER  \n",
       "2         SEKER  \n",
       "3         SEKER  \n",
       "4         SEKER  \n",
       "...         ...  \n",
       "13606  DERMASON  \n",
       "13607  DERMASON  \n",
       "13608  DERMASON  \n",
       "13609  DERMASON  \n",
       "13610  DERMASON  \n",
       "\n",
       "[13611 rows x 17 columns]"
      ]
     },
     "execution_count": 193,
     "metadata": {},
     "output_type": "execute_result"
    }
   ],
   "source": [
    "with urlopen('https://archive.ics.uci.edu/ml/machine-learning-databases/00602/DryBeanDataset.zip') as url:\n",
    "    zf = ZipFile(BytesIO(url.read()))\n",
    "    bean = pd.read_excel(zf.open('DryBeanDataset/Dry_Bean_Dataset.xlsx'))\n",
    "    \n",
    "bean"
   ]
  },
  {
   "cell_type": "markdown",
   "id": "9d03084f",
   "metadata": {},
   "source": [
    "### Öncelikle dataset bize ne diyor ona bir bakalım.\n",
    "\n",
    "Relevant Information:\n",
    "Seven different types of dry beans were used in this research, taking into account the features such as form, shape, type, and structure by the market situation. A computer vision system was developed to distinguish seven different registered varieties of dry beans with similar features in order to obtain uniform seed classification. For the classification model, images of 13,611 grains of 7 different registered dry beans were taken with a high-resolution camera. Bean images obtained by computer vision system were subjected to segmentation and feature extraction stages, and a total of 16 features; 12 dimensions and 4 shape forms, were obtained from the grains.\n",
    "\n",
    "Attribute Information:\n",
    "1.) Area (A): The area of a bean zone and the number of pixels within its boundaries.\n",
    "\n",
    "2.) Perimeter (P): Bean circumference is defined as the length of its border.\n",
    "\n",
    "3.) Major axis length (L): The distance between the ends of the longest line that can be drawn from a bean.\n",
    "\n",
    "4.) Minor axis length (l): The longest line that can be drawn from the bean while standing perpendicular to the main axis.\n",
    "\n",
    "5.) Aspect ratio (K): Defines the relationship between L and l.\n",
    "\n",
    "6.) Eccentricity (Ec): Eccentricity of the ellipse having the same moments as the region.\n",
    "\n",
    "7.) Convex area (C): Number of pixels in the smallest convex polygon that can contain the area of a bean seed.\n",
    "\n",
    "8.) Equivalent diameter (Ed): The diameter of a circle having the same area as a bean seed area.\n",
    "\n",
    "9.) Extent (Ex): The ratio of the pixels in the bounding box to the bean area.\n",
    "\n",
    "10.)Solidity (S): Also known as convexity. The ratio of the pixels in the convex shell to those found in beans.\n",
    "\n",
    "11.)Roundness (R): Calculated with the following formula: (4piA)/(P^2)\n",
    "\n",
    "12.)Compactness (CO): Measures the roundness of an object: Ed/L\n",
    "\n",
    "13.)ShapeFactor1 (SF1)\n",
    "\n",
    "14.)ShapeFactor2 (SF2)\n",
    "\n",
    "15.)ShapeFactor3 (SF3)\n",
    "\n",
    "16.)ShapeFactor4 (SF4)\n",
    "\n",
    "17.)Class (Seker, Barbunya, Bombay, Cali, Dermosan, Horoz and Sira)"
   ]
  },
  {
   "cell_type": "code",
   "execution_count": 222,
   "id": "26c165e3",
   "metadata": {
    "ExecuteTime": {
     "end_time": "2022-05-30T22:28:56.092539Z",
     "start_time": "2022-05-30T22:28:56.068578Z"
    }
   },
   "outputs": [
    {
     "name": "stdout",
     "output_type": "stream",
     "text": [
      "<class 'pandas.core.frame.DataFrame'>\n",
      "RangeIndex: 13611 entries, 0 to 13610\n",
      "Data columns (total 17 columns):\n",
      " #   Column           Non-Null Count  Dtype  \n",
      "---  ------           --------------  -----  \n",
      " 0   Area             13611 non-null  int64  \n",
      " 1   Perimeter        13611 non-null  float64\n",
      " 2   MajorAxisLength  13611 non-null  float64\n",
      " 3   MinorAxisLength  13611 non-null  float64\n",
      " 4   AspectRation     13611 non-null  float64\n",
      " 5   Eccentricity     13611 non-null  float64\n",
      " 6   ConvexArea       13611 non-null  int64  \n",
      " 7   EquivDiameter    13611 non-null  float64\n",
      " 8   Extent           13611 non-null  float64\n",
      " 9   Solidity         13611 non-null  float64\n",
      " 10  roundness        13611 non-null  float64\n",
      " 11  Compactness      13611 non-null  float64\n",
      " 12  ShapeFactor1     13611 non-null  float64\n",
      " 13  ShapeFactor2     13611 non-null  float64\n",
      " 14  ShapeFactor3     13611 non-null  float64\n",
      " 15  ShapeFactor4     13611 non-null  float64\n",
      " 16  Class            13611 non-null  object \n",
      "dtypes: float64(14), int64(2), object(1)\n",
      "memory usage: 1.8+ MB\n"
     ]
    }
   ],
   "source": [
    "bean.info()"
   ]
  },
  {
   "cell_type": "markdown",
   "id": "7e1ff19d",
   "metadata": {
    "ExecuteTime": {
     "end_time": "2022-05-30T22:00:17.565528Z",
     "start_time": "2022-05-30T22:00:17.165531Z"
    }
   },
   "source": [
    "#### Null parametre yok, bu durumda öncelikle son sutünü düzenleyelim."
   ]
  },
  {
   "cell_type": "code",
   "execution_count": 212,
   "id": "82f615a7",
   "metadata": {
    "ExecuteTime": {
     "end_time": "2022-05-30T22:20:46.268739Z",
     "start_time": "2022-05-30T22:20:40.989532Z"
    }
   },
   "outputs": [
    {
     "name": "stderr",
     "output_type": "stream",
     "text": [
      "<ipython-input-212-b248f966eb29>:14: SettingWithCopyWarning: \n",
      "A value is trying to be set on a copy of a slice from a DataFrame\n",
      "\n",
      "See the caveats in the documentation: https://pandas.pydata.org/pandas-docs/stable/user_guide/indexing.html#returning-a-view-versus-a-copy\n",
      "  bean[\"Class\"][i] = 6\n",
      "<ipython-input-212-b248f966eb29>:4: SettingWithCopyWarning: \n",
      "A value is trying to be set on a copy of a slice from a DataFrame\n",
      "\n",
      "See the caveats in the documentation: https://pandas.pydata.org/pandas-docs/stable/user_guide/indexing.html#returning-a-view-versus-a-copy\n",
      "  bean[\"Class\"][i] = 1\n",
      "<ipython-input-212-b248f966eb29>:6: SettingWithCopyWarning: \n",
      "A value is trying to be set on a copy of a slice from a DataFrame\n",
      "\n",
      "See the caveats in the documentation: https://pandas.pydata.org/pandas-docs/stable/user_guide/indexing.html#returning-a-view-versus-a-copy\n",
      "  bean[\"Class\"][i] = 2\n",
      "<ipython-input-212-b248f966eb29>:8: SettingWithCopyWarning: \n",
      "A value is trying to be set on a copy of a slice from a DataFrame\n",
      "\n",
      "See the caveats in the documentation: https://pandas.pydata.org/pandas-docs/stable/user_guide/indexing.html#returning-a-view-versus-a-copy\n",
      "  bean[\"Class\"][i] = 3\n",
      "<ipython-input-212-b248f966eb29>:12: SettingWithCopyWarning: \n",
      "A value is trying to be set on a copy of a slice from a DataFrame\n",
      "\n",
      "See the caveats in the documentation: https://pandas.pydata.org/pandas-docs/stable/user_guide/indexing.html#returning-a-view-versus-a-copy\n",
      "  bean[\"Class\"][i] = 5\n",
      "<ipython-input-212-b248f966eb29>:16: SettingWithCopyWarning: \n",
      "A value is trying to be set on a copy of a slice from a DataFrame\n",
      "\n",
      "See the caveats in the documentation: https://pandas.pydata.org/pandas-docs/stable/user_guide/indexing.html#returning-a-view-versus-a-copy\n",
      "  bean[\"Class\"][i] = 7\n",
      "<ipython-input-212-b248f966eb29>:10: SettingWithCopyWarning: \n",
      "A value is trying to be set on a copy of a slice from a DataFrame\n",
      "\n",
      "See the caveats in the documentation: https://pandas.pydata.org/pandas-docs/stable/user_guide/indexing.html#returning-a-view-versus-a-copy\n",
      "  bean[\"Class\"][i] = 4\n"
     ]
    }
   ],
   "source": [
    "bean_unique = np.unique(bean[\"Class\"])\n",
    "for i in range(len(bean[\"Class\"])):\n",
    "    if bean[\"Class\"][i] == bean_unique[0]:\n",
    "        bean[\"Class\"][i] = 1\n",
    "    elif bean[\"Class\"][i] == bean_unique[1]:\n",
    "        bean[\"Class\"][i] = 2\n",
    "    elif bean[\"Class\"][i] == bean_unique[2]:\n",
    "        bean[\"Class\"][i] = 3\n",
    "    elif bean[\"Class\"][i] == bean_unique[3]:\n",
    "        bean[\"Class\"][i] = 4\n",
    "    elif bean[\"Class\"][i] == bean_unique[4]:\n",
    "        bean[\"Class\"][i] = 5\n",
    "    elif bean[\"Class\"][i] == bean_unique[5]:\n",
    "        bean[\"Class\"][i] = 6\n",
    "    elif bean[\"Class\"][i] == bean_unique[6]:\n",
    "        bean[\"Class\"][i] = 7"
   ]
  },
  {
   "cell_type": "code",
   "execution_count": 213,
   "id": "f52210fc",
   "metadata": {
    "ExecuteTime": {
     "end_time": "2022-05-30T22:20:47.477393Z",
     "start_time": "2022-05-30T22:20:47.454422Z"
    }
   },
   "outputs": [
    {
     "data": {
      "text/html": [
       "<div>\n",
       "<style scoped>\n",
       "    .dataframe tbody tr th:only-of-type {\n",
       "        vertical-align: middle;\n",
       "    }\n",
       "\n",
       "    .dataframe tbody tr th {\n",
       "        vertical-align: top;\n",
       "    }\n",
       "\n",
       "    .dataframe thead th {\n",
       "        text-align: right;\n",
       "    }\n",
       "</style>\n",
       "<table border=\"1\" class=\"dataframe\">\n",
       "  <thead>\n",
       "    <tr style=\"text-align: right;\">\n",
       "      <th></th>\n",
       "      <th>Area</th>\n",
       "      <th>Perimeter</th>\n",
       "      <th>MajorAxisLength</th>\n",
       "      <th>MinorAxisLength</th>\n",
       "      <th>AspectRation</th>\n",
       "      <th>Eccentricity</th>\n",
       "      <th>ConvexArea</th>\n",
       "      <th>EquivDiameter</th>\n",
       "      <th>Extent</th>\n",
       "      <th>Solidity</th>\n",
       "      <th>roundness</th>\n",
       "      <th>Compactness</th>\n",
       "      <th>ShapeFactor1</th>\n",
       "      <th>ShapeFactor2</th>\n",
       "      <th>ShapeFactor3</th>\n",
       "      <th>ShapeFactor4</th>\n",
       "      <th>Class</th>\n",
       "    </tr>\n",
       "  </thead>\n",
       "  <tbody>\n",
       "    <tr>\n",
       "      <th>0</th>\n",
       "      <td>28395</td>\n",
       "      <td>610.291</td>\n",
       "      <td>208.178117</td>\n",
       "      <td>173.888747</td>\n",
       "      <td>1.197191</td>\n",
       "      <td>0.549812</td>\n",
       "      <td>28715</td>\n",
       "      <td>190.141097</td>\n",
       "      <td>0.763923</td>\n",
       "      <td>0.988856</td>\n",
       "      <td>0.958027</td>\n",
       "      <td>0.913358</td>\n",
       "      <td>0.007332</td>\n",
       "      <td>0.003147</td>\n",
       "      <td>0.834222</td>\n",
       "      <td>0.998724</td>\n",
       "      <td>6</td>\n",
       "    </tr>\n",
       "    <tr>\n",
       "      <th>1</th>\n",
       "      <td>28734</td>\n",
       "      <td>638.018</td>\n",
       "      <td>200.524796</td>\n",
       "      <td>182.734419</td>\n",
       "      <td>1.097356</td>\n",
       "      <td>0.411785</td>\n",
       "      <td>29172</td>\n",
       "      <td>191.272750</td>\n",
       "      <td>0.783968</td>\n",
       "      <td>0.984986</td>\n",
       "      <td>0.887034</td>\n",
       "      <td>0.953861</td>\n",
       "      <td>0.006979</td>\n",
       "      <td>0.003564</td>\n",
       "      <td>0.909851</td>\n",
       "      <td>0.998430</td>\n",
       "      <td>6</td>\n",
       "    </tr>\n",
       "    <tr>\n",
       "      <th>2</th>\n",
       "      <td>29380</td>\n",
       "      <td>624.110</td>\n",
       "      <td>212.826130</td>\n",
       "      <td>175.931143</td>\n",
       "      <td>1.209713</td>\n",
       "      <td>0.562727</td>\n",
       "      <td>29690</td>\n",
       "      <td>193.410904</td>\n",
       "      <td>0.778113</td>\n",
       "      <td>0.989559</td>\n",
       "      <td>0.947849</td>\n",
       "      <td>0.908774</td>\n",
       "      <td>0.007244</td>\n",
       "      <td>0.003048</td>\n",
       "      <td>0.825871</td>\n",
       "      <td>0.999066</td>\n",
       "      <td>6</td>\n",
       "    </tr>\n",
       "    <tr>\n",
       "      <th>3</th>\n",
       "      <td>30008</td>\n",
       "      <td>645.884</td>\n",
       "      <td>210.557999</td>\n",
       "      <td>182.516516</td>\n",
       "      <td>1.153638</td>\n",
       "      <td>0.498616</td>\n",
       "      <td>30724</td>\n",
       "      <td>195.467062</td>\n",
       "      <td>0.782681</td>\n",
       "      <td>0.976696</td>\n",
       "      <td>0.903936</td>\n",
       "      <td>0.928329</td>\n",
       "      <td>0.007017</td>\n",
       "      <td>0.003215</td>\n",
       "      <td>0.861794</td>\n",
       "      <td>0.994199</td>\n",
       "      <td>6</td>\n",
       "    </tr>\n",
       "    <tr>\n",
       "      <th>4</th>\n",
       "      <td>30140</td>\n",
       "      <td>620.134</td>\n",
       "      <td>201.847882</td>\n",
       "      <td>190.279279</td>\n",
       "      <td>1.060798</td>\n",
       "      <td>0.333680</td>\n",
       "      <td>30417</td>\n",
       "      <td>195.896503</td>\n",
       "      <td>0.773098</td>\n",
       "      <td>0.990893</td>\n",
       "      <td>0.984877</td>\n",
       "      <td>0.970516</td>\n",
       "      <td>0.006697</td>\n",
       "      <td>0.003665</td>\n",
       "      <td>0.941900</td>\n",
       "      <td>0.999166</td>\n",
       "      <td>6</td>\n",
       "    </tr>\n",
       "    <tr>\n",
       "      <th>...</th>\n",
       "      <td>...</td>\n",
       "      <td>...</td>\n",
       "      <td>...</td>\n",
       "      <td>...</td>\n",
       "      <td>...</td>\n",
       "      <td>...</td>\n",
       "      <td>...</td>\n",
       "      <td>...</td>\n",
       "      <td>...</td>\n",
       "      <td>...</td>\n",
       "      <td>...</td>\n",
       "      <td>...</td>\n",
       "      <td>...</td>\n",
       "      <td>...</td>\n",
       "      <td>...</td>\n",
       "      <td>...</td>\n",
       "      <td>...</td>\n",
       "    </tr>\n",
       "    <tr>\n",
       "      <th>13606</th>\n",
       "      <td>42097</td>\n",
       "      <td>759.696</td>\n",
       "      <td>288.721612</td>\n",
       "      <td>185.944705</td>\n",
       "      <td>1.552728</td>\n",
       "      <td>0.765002</td>\n",
       "      <td>42508</td>\n",
       "      <td>231.515799</td>\n",
       "      <td>0.714574</td>\n",
       "      <td>0.990331</td>\n",
       "      <td>0.916603</td>\n",
       "      <td>0.801865</td>\n",
       "      <td>0.006858</td>\n",
       "      <td>0.001749</td>\n",
       "      <td>0.642988</td>\n",
       "      <td>0.998385</td>\n",
       "      <td>4</td>\n",
       "    </tr>\n",
       "    <tr>\n",
       "      <th>13607</th>\n",
       "      <td>42101</td>\n",
       "      <td>757.499</td>\n",
       "      <td>281.576392</td>\n",
       "      <td>190.713136</td>\n",
       "      <td>1.476439</td>\n",
       "      <td>0.735702</td>\n",
       "      <td>42494</td>\n",
       "      <td>231.526798</td>\n",
       "      <td>0.799943</td>\n",
       "      <td>0.990752</td>\n",
       "      <td>0.922015</td>\n",
       "      <td>0.822252</td>\n",
       "      <td>0.006688</td>\n",
       "      <td>0.001886</td>\n",
       "      <td>0.676099</td>\n",
       "      <td>0.998219</td>\n",
       "      <td>4</td>\n",
       "    </tr>\n",
       "    <tr>\n",
       "      <th>13608</th>\n",
       "      <td>42139</td>\n",
       "      <td>759.321</td>\n",
       "      <td>281.539928</td>\n",
       "      <td>191.187979</td>\n",
       "      <td>1.472582</td>\n",
       "      <td>0.734065</td>\n",
       "      <td>42569</td>\n",
       "      <td>231.631261</td>\n",
       "      <td>0.729932</td>\n",
       "      <td>0.989899</td>\n",
       "      <td>0.918424</td>\n",
       "      <td>0.822730</td>\n",
       "      <td>0.006681</td>\n",
       "      <td>0.001888</td>\n",
       "      <td>0.676884</td>\n",
       "      <td>0.996767</td>\n",
       "      <td>4</td>\n",
       "    </tr>\n",
       "    <tr>\n",
       "      <th>13609</th>\n",
       "      <td>42147</td>\n",
       "      <td>763.779</td>\n",
       "      <td>283.382636</td>\n",
       "      <td>190.275731</td>\n",
       "      <td>1.489326</td>\n",
       "      <td>0.741055</td>\n",
       "      <td>42667</td>\n",
       "      <td>231.653248</td>\n",
       "      <td>0.705389</td>\n",
       "      <td>0.987813</td>\n",
       "      <td>0.907906</td>\n",
       "      <td>0.817457</td>\n",
       "      <td>0.006724</td>\n",
       "      <td>0.001852</td>\n",
       "      <td>0.668237</td>\n",
       "      <td>0.995222</td>\n",
       "      <td>4</td>\n",
       "    </tr>\n",
       "    <tr>\n",
       "      <th>13610</th>\n",
       "      <td>42159</td>\n",
       "      <td>772.237</td>\n",
       "      <td>295.142741</td>\n",
       "      <td>182.204716</td>\n",
       "      <td>1.619841</td>\n",
       "      <td>0.786693</td>\n",
       "      <td>42600</td>\n",
       "      <td>231.686223</td>\n",
       "      <td>0.788962</td>\n",
       "      <td>0.989648</td>\n",
       "      <td>0.888380</td>\n",
       "      <td>0.784997</td>\n",
       "      <td>0.007001</td>\n",
       "      <td>0.001640</td>\n",
       "      <td>0.616221</td>\n",
       "      <td>0.998180</td>\n",
       "      <td>4</td>\n",
       "    </tr>\n",
       "  </tbody>\n",
       "</table>\n",
       "<p>13611 rows × 17 columns</p>\n",
       "</div>"
      ],
      "text/plain": [
       "        Area  Perimeter  MajorAxisLength  MinorAxisLength  AspectRation  \\\n",
       "0      28395    610.291       208.178117       173.888747      1.197191   \n",
       "1      28734    638.018       200.524796       182.734419      1.097356   \n",
       "2      29380    624.110       212.826130       175.931143      1.209713   \n",
       "3      30008    645.884       210.557999       182.516516      1.153638   \n",
       "4      30140    620.134       201.847882       190.279279      1.060798   \n",
       "...      ...        ...              ...              ...           ...   \n",
       "13606  42097    759.696       288.721612       185.944705      1.552728   \n",
       "13607  42101    757.499       281.576392       190.713136      1.476439   \n",
       "13608  42139    759.321       281.539928       191.187979      1.472582   \n",
       "13609  42147    763.779       283.382636       190.275731      1.489326   \n",
       "13610  42159    772.237       295.142741       182.204716      1.619841   \n",
       "\n",
       "       Eccentricity  ConvexArea  EquivDiameter    Extent  Solidity  roundness  \\\n",
       "0          0.549812       28715     190.141097  0.763923  0.988856   0.958027   \n",
       "1          0.411785       29172     191.272750  0.783968  0.984986   0.887034   \n",
       "2          0.562727       29690     193.410904  0.778113  0.989559   0.947849   \n",
       "3          0.498616       30724     195.467062  0.782681  0.976696   0.903936   \n",
       "4          0.333680       30417     195.896503  0.773098  0.990893   0.984877   \n",
       "...             ...         ...            ...       ...       ...        ...   \n",
       "13606      0.765002       42508     231.515799  0.714574  0.990331   0.916603   \n",
       "13607      0.735702       42494     231.526798  0.799943  0.990752   0.922015   \n",
       "13608      0.734065       42569     231.631261  0.729932  0.989899   0.918424   \n",
       "13609      0.741055       42667     231.653248  0.705389  0.987813   0.907906   \n",
       "13610      0.786693       42600     231.686223  0.788962  0.989648   0.888380   \n",
       "\n",
       "       Compactness  ShapeFactor1  ShapeFactor2  ShapeFactor3  ShapeFactor4  \\\n",
       "0         0.913358      0.007332      0.003147      0.834222      0.998724   \n",
       "1         0.953861      0.006979      0.003564      0.909851      0.998430   \n",
       "2         0.908774      0.007244      0.003048      0.825871      0.999066   \n",
       "3         0.928329      0.007017      0.003215      0.861794      0.994199   \n",
       "4         0.970516      0.006697      0.003665      0.941900      0.999166   \n",
       "...            ...           ...           ...           ...           ...   \n",
       "13606     0.801865      0.006858      0.001749      0.642988      0.998385   \n",
       "13607     0.822252      0.006688      0.001886      0.676099      0.998219   \n",
       "13608     0.822730      0.006681      0.001888      0.676884      0.996767   \n",
       "13609     0.817457      0.006724      0.001852      0.668237      0.995222   \n",
       "13610     0.784997      0.007001      0.001640      0.616221      0.998180   \n",
       "\n",
       "      Class  \n",
       "0         6  \n",
       "1         6  \n",
       "2         6  \n",
       "3         6  \n",
       "4         6  \n",
       "...     ...  \n",
       "13606     4  \n",
       "13607     4  \n",
       "13608     4  \n",
       "13609     4  \n",
       "13610     4  \n",
       "\n",
       "[13611 rows x 17 columns]"
      ]
     },
     "execution_count": 213,
     "metadata": {},
     "output_type": "execute_result"
    }
   ],
   "source": [
    "bean"
   ]
  },
  {
   "cell_type": "code",
   "execution_count": 225,
   "id": "0e58619a",
   "metadata": {
    "ExecuteTime": {
     "end_time": "2022-05-30T22:31:06.674847Z",
     "start_time": "2022-05-30T22:31:06.652268Z"
    }
   },
   "outputs": [],
   "source": [
    "bean_x = bean.iloc[:,0:16]\n",
    "bean_y = bean[\"Class\"]\n",
    "bean_y = bean_y.astype(int)\n",
    "\n",
    "bean_x_train, bean_x_test, bean_y_train, bean_y_test = train_test_split(bean_x,bean_y,test_size=0.30)"
   ]
  },
  {
   "cell_type": "code",
   "execution_count": 226,
   "id": "a94bc0d0",
   "metadata": {
    "ExecuteTime": {
     "end_time": "2022-05-30T22:31:07.280561Z",
     "start_time": "2022-05-30T22:31:07.277569Z"
    }
   },
   "outputs": [],
   "source": [
    "from sklearn.preprocessing import StandardScaler"
   ]
  },
  {
   "cell_type": "code",
   "execution_count": 227,
   "id": "81fed3c1",
   "metadata": {
    "ExecuteTime": {
     "end_time": "2022-05-30T22:31:07.929403Z",
     "start_time": "2022-05-30T22:31:07.909456Z"
    }
   },
   "outputs": [],
   "source": [
    "sc = StandardScaler()\n",
    "sc.fit(bean_x_train)\n",
    "bean_x_train_std = sc.transform(bean_x_train)\n",
    "bean_x_test_std = sc.transform(bean_x_test)"
   ]
  },
  {
   "cell_type": "code",
   "execution_count": 242,
   "id": "e8e5e079",
   "metadata": {
    "ExecuteTime": {
     "end_time": "2022-05-30T22:36:20.403761Z",
     "start_time": "2022-05-30T22:36:15.605592Z"
    }
   },
   "outputs": [
    {
     "data": {
      "text/plain": [
       "LogisticRegression(C=50.0, max_iter=100000, multi_class='multinomial')"
      ]
     },
     "execution_count": 242,
     "metadata": {},
     "output_type": "execute_result"
    }
   ],
   "source": [
    "beanLR = LogisticRegression(C=50.0, solver='lbfgs', multi_class='multinomial', max_iter=100000)\n",
    "beanLR.fit(bean_x_train_std, bean_y_train)"
   ]
  },
  {
   "cell_type": "code",
   "execution_count": 243,
   "id": "167e9e46",
   "metadata": {
    "ExecuteTime": {
     "end_time": "2022-05-30T22:36:23.163095Z",
     "start_time": "2022-05-30T22:36:23.140157Z"
    }
   },
   "outputs": [
    {
     "name": "stdout",
     "output_type": "stream",
     "text": [
      "0.922869735553379\n",
      "[[382   0  14   0   3   2   1]\n",
      " [  0 161   0   0   0   0   0]\n",
      " [ 25   0 456   0  10   1   0]\n",
      " [  0   0   0 986   5   6  72]\n",
      " [  1   0  11   2 535   1  11]\n",
      " [  3   0   1  16   0 560  10]\n",
      " [ 12   0   7  74  13  14 689]]\n"
     ]
    },
    {
     "data": {
      "text/plain": [
       "Power_divergenceResult(statistic=25183.44564152791, pvalue=0.0)"
      ]
     },
     "execution_count": 243,
     "metadata": {},
     "output_type": "execute_result"
    }
   ],
   "source": [
    "beanpredLR = beanLR.predict(bean_x_test_std)\n",
    "print(accuracy_score(beanpredLR, bean_y_test))\n",
    "print(confusion_matrix(beanpredLR, bean_y_test))\n",
    "chisquare(confusion_matrix(beanpredLR, bean_y_test),axis=None)"
   ]
  },
  {
   "cell_type": "markdown",
   "id": "6f086b85",
   "metadata": {
    "ExecuteTime": {
     "end_time": "2022-05-30T22:38:36.747495Z",
     "start_time": "2022-05-30T22:38:36.733508Z"
    }
   },
   "source": [
    "### Görüldüğü üzere %92lik bir skor ile tahmin etti lojistik regresyon algoritması. Hatta Bombay cinsi fasülyeyi tamamen doğru tahmin etmiş gibi gözüküyor."
   ]
  },
  {
   "cell_type": "markdown",
   "id": "c7c92173",
   "metadata": {},
   "source": [
    "## SVM"
   ]
  },
  {
   "cell_type": "code",
   "execution_count": 255,
   "id": "5f1dc214",
   "metadata": {
    "ExecuteTime": {
     "end_time": "2022-05-30T22:42:40.580866Z",
     "start_time": "2022-05-30T22:42:40.053278Z"
    }
   },
   "outputs": [
    {
     "data": {
      "text/plain": [
       "SVC(C=5, max_iter=50000)"
      ]
     },
     "execution_count": 255,
     "metadata": {},
     "output_type": "execute_result"
    }
   ],
   "source": [
    "beanSVC = SVC(C=5,\n",
    "             kernel='rbf',\n",
    "             max_iter=50000)\n",
    "beanSVC.fit(bean_x_train_std, bean_y_train)"
   ]
  },
  {
   "cell_type": "code",
   "execution_count": 256,
   "id": "bb78f56e",
   "metadata": {
    "ExecuteTime": {
     "end_time": "2022-05-30T22:42:41.890635Z",
     "start_time": "2022-05-30T22:42:41.181727Z"
    }
   },
   "outputs": [
    {
     "name": "stdout",
     "output_type": "stream",
     "text": [
      "0.9287463271302644\n",
      "[[ 383    0   11    0    2    0    5]\n",
      " [   0  161    0    0    0    0    0]\n",
      " [  24    0  462    0    8    0    0]\n",
      " [   0    0    0 1008    5   10   75]\n",
      " [   1    0   12    2  534    1    9]\n",
      " [   5    0    1   13    0  556    5]\n",
      " [  10    0    3   55   17   17  689]]\n"
     ]
    },
    {
     "data": {
      "text/plain": [
       "Power_divergenceResult(statistic=25693.146425073453, pvalue=0.0)"
      ]
     },
     "execution_count": 256,
     "metadata": {},
     "output_type": "execute_result"
    }
   ],
   "source": [
    "beanpredSVC = beanSVC.predict(bean_x_test_std)\n",
    "print(accuracy_score(beanpredSVC, bean_y_test))\n",
    "print(confusion_matrix(beanpredSVC, bean_y_test))\n",
    "chisquare(confusion_matrix(beanpredSVC, bean_y_test),axis=None)"
   ]
  },
  {
   "cell_type": "markdown",
   "id": "87db608f",
   "metadata": {},
   "source": [
    "### Lojistik regresyon ile çok benzer bir sonuç geldi."
   ]
  },
  {
   "cell_type": "markdown",
   "id": "31df358c",
   "metadata": {
    "ExecuteTime": {
     "end_time": "2022-05-30T22:43:10.369465Z",
     "start_time": "2022-05-30T22:43:10.357530Z"
    }
   },
   "source": [
    "## KNN\n",
    "\n",
    "#### Toplamda 7 cins fasülye olduğu için, n=7 değeri için algoritmayı deneyeceğim. "
   ]
  },
  {
   "cell_type": "code",
   "execution_count": 275,
   "id": "bc09dc93",
   "metadata": {
    "ExecuteTime": {
     "end_time": "2022-05-30T22:50:38.983632Z",
     "start_time": "2022-05-30T22:50:38.174389Z"
    }
   },
   "outputs": [],
   "source": [
    "beanKNN = KNeighborsClassifier(n_neighbors=7)\n",
    "beanKNN.fit(bean_x_train_std, bean_y_train)\n",
    "\n",
    "beanpredKNN = beanKNN.predict(bean_x_test_std)"
   ]
  },
  {
   "cell_type": "code",
   "execution_count": 276,
   "id": "75f66f7d",
   "metadata": {
    "ExecuteTime": {
     "end_time": "2022-05-30T22:50:40.165804Z",
     "start_time": "2022-05-30T22:50:39.312481Z"
    }
   },
   "outputs": [
    {
     "name": "stdout",
     "output_type": "stream",
     "text": [
      "0.9172380019588638\n",
      "[[371   0   9   0   2   2   4]\n",
      " [  0 161   0   0   0   0   0]\n",
      " [ 38   0 463   0  10   0   1]\n",
      " [  0   0   0 990   5  13  83]\n",
      " [  0   0  10   2 535   1  14]\n",
      " [  5   0   0  16   0 551   6]\n",
      " [  9   0   7  70  14  17 675]]\n"
     ]
    },
    {
     "data": {
      "text/plain": [
       "Power_divergenceResult(statistic=24931.4387855044, pvalue=0.0)"
      ]
     },
     "execution_count": 276,
     "metadata": {},
     "output_type": "execute_result"
    }
   ],
   "source": [
    "print(beanKNN.score(bean_x_test_std, bean_y_test))\n",
    "\n",
    "print(confusion_matrix(beanpredKNN,bean_y_test))\n",
    "chisquare(confusion_matrix(beanpredKNN,bean_y_test), axis=None)"
   ]
  },
  {
   "cell_type": "markdown",
   "id": "4786d223",
   "metadata": {},
   "source": [
    "### KNN algoritması için yine %90'ın üzerinde bir tahminde bulunuldu. "
   ]
  },
  {
   "cell_type": "markdown",
   "id": "a6bc9b76",
   "metadata": {},
   "source": [
    "# Q3\n",
    "\n",
    "For this question we are going to use the [Japanese MNIST](https://github.com/rois-codh/kmnist) dataset.\n",
    "\n",
    "Construct a convolutional neural network model for the dataset and cross-validate your model."
   ]
  },
  {
   "cell_type": "code",
   "execution_count": 29,
   "id": "7f98d401",
   "metadata": {
    "ExecuteTime": {
     "end_time": "2022-05-31T17:05:27.767981Z",
     "start_time": "2022-05-31T17:03:21.434421Z"
    }
   },
   "outputs": [
    {
     "name": "stdout",
     "output_type": "stream",
     "text": [
      "Please select a download option:\n",
      "1) Kuzushiji-MNIST (10 classes, 28x28, 70k examples)\n",
      "2) Kuzushiji-49 (49 classes, 28x28, 270k examples)\n",
      "3) Kuzushiji-Kanji (3832 classes, 64x64, 140k examples)\n",
      "> 1\n",
      "Please select a download option:\n",
      "1) MNIST data format (ubyte.gz)\n",
      "2) NumPy data format (.npz)\n",
      "> 2\n"
     ]
    },
    {
     "name": "stderr",
     "output_type": "stream",
     "text": [
      "\r",
      "  0%|                                                                                        | 0/17954 [00:00<?, ?KB/s]"
     ]
    },
    {
     "name": "stdout",
     "output_type": "stream",
     "text": [
      "Downloading kmnist-train-imgs.npz - 18.0 MB\n"
     ]
    },
    {
     "name": "stderr",
     "output_type": "stream",
     "text": [
      "100%|███████████████████████████████████████████████████████████████████████████| 17954/17954 [01:13<00:00, 243.42KB/s]\n",
      "  0%|                                                                                           | 0/30 [00:00<?, ?KB/s]"
     ]
    },
    {
     "name": "stdout",
     "output_type": "stream",
     "text": [
      "Downloading kmnist-train-labels.npz - 0.0 MB\n"
     ]
    },
    {
     "name": "stderr",
     "output_type": "stream",
     "text": [
      "100%|██████████████████████████████████████████████████████████████████████████████████| 30/30 [00:00<00:00, 92.40KB/s]\n",
      "  0%|                                                                                         | 0/3008 [00:00<?, ?KB/s]"
     ]
    },
    {
     "name": "stdout",
     "output_type": "stream",
     "text": [
      "Downloading kmnist-test-imgs.npz - 3.0 MB\n"
     ]
    },
    {
     "name": "stderr",
     "output_type": "stream",
     "text": [
      "100%|█████████████████████████████████████████████████████████████████████████████| 3008/3008 [00:19<00:00, 152.08KB/s]\n",
      "100%|████████████████████████████████████████████████████████████████████████████████████████████| 6/6 [00:00<?, ?KB/s]"
     ]
    },
    {
     "name": "stdout",
     "output_type": "stream",
     "text": [
      "Downloading kmnist-test-labels.npz - 0.0 MB\n",
      "All dataset files downloaded!\n"
     ]
    },
    {
     "name": "stderr",
     "output_type": "stream",
     "text": [
      "\n"
     ]
    }
   ],
   "source": [
    "import requests\n",
    "\n",
    "try:\n",
    "    from tqdm import tqdm\n",
    "except ImportError:\n",
    "    tqdm = lambda x, total, unit: x  # If tqdm doesn't exist, replace it with a function that does nothing\n",
    "    print('**** Could not import tqdm. Please install tqdm for download progressbars! (pip install tqdm) ****')\n",
    "\n",
    "# Python2 compatibility\n",
    "try:\n",
    "    input = raw_input\n",
    "except NameError:\n",
    "    pass\n",
    "\n",
    "download_dict = {\n",
    "    '1) Kuzushiji-MNIST (10 classes, 28x28, 70k examples)': {\n",
    "        '1) MNIST data format (ubyte.gz)':\n",
    "            ['http://codh.rois.ac.jp/kmnist/dataset/kmnist/train-images-idx3-ubyte.gz',\n",
    "            'http://codh.rois.ac.jp/kmnist/dataset/kmnist/train-labels-idx1-ubyte.gz',\n",
    "            'http://codh.rois.ac.jp/kmnist/dataset/kmnist/t10k-images-idx3-ubyte.gz',\n",
    "            'http://codh.rois.ac.jp/kmnist/dataset/kmnist/t10k-labels-idx1-ubyte.gz'],\n",
    "        '2) NumPy data format (.npz)':\n",
    "            ['http://codh.rois.ac.jp/kmnist/dataset/kmnist/kmnist-train-imgs.npz',\n",
    "            'http://codh.rois.ac.jp/kmnist/dataset/kmnist/kmnist-train-labels.npz',\n",
    "            'http://codh.rois.ac.jp/kmnist/dataset/kmnist/kmnist-test-imgs.npz',\n",
    "            'http://codh.rois.ac.jp/kmnist/dataset/kmnist/kmnist-test-labels.npz'],\n",
    "    },\n",
    "    '2) Kuzushiji-49 (49 classes, 28x28, 270k examples)': {\n",
    "        '1) NumPy data format (.npz)':\n",
    "            ['http://codh.rois.ac.jp/kmnist/dataset/k49/k49-train-imgs.npz',\n",
    "            'http://codh.rois.ac.jp/kmnist/dataset/k49/k49-train-labels.npz',\n",
    "            'http://codh.rois.ac.jp/kmnist/dataset/k49/k49-test-imgs.npz',\n",
    "            'http://codh.rois.ac.jp/kmnist/dataset/k49/k49-test-labels.npz'],\n",
    "    },\n",
    "    '3) Kuzushiji-Kanji (3832 classes, 64x64, 140k examples)': {\n",
    "        '1) Folders of images (.tar)':\n",
    "            ['http://codh.rois.ac.jp/kmnist/dataset/kkanji/kkanji.tar'],\n",
    "    }\n",
    "\n",
    "}\n",
    "\n",
    "# Download a list of files\n",
    "def download_list(url_list):\n",
    "    for url in url_list:\n",
    "        path = url.split('/')[-1]\n",
    "        r = requests.get(url, stream=True)\n",
    "        with open(path, 'wb') as f:\n",
    "            total_length = int(r.headers.get('content-length'))\n",
    "            print('Downloading {} - {:.1f} MB'.format(path, (total_length / 1024000)))\n",
    "\n",
    "            for chunk in tqdm(r.iter_content(chunk_size=1024), total=int(total_length / 1024) + 1, unit=\"KB\"):\n",
    "                if chunk:\n",
    "                    f.write(chunk)\n",
    "    print('All dataset files downloaded!')\n",
    "\n",
    "# Ask the user about which path to take down the dict\n",
    "def traverse_dict(d):\n",
    "    print('Please select a download option:')\n",
    "    keys = sorted(d.keys())  # Print download options\n",
    "    for key in keys:\n",
    "        print(key)\n",
    "\n",
    "    userinput = input('> ').strip()\n",
    "\n",
    "    try:\n",
    "        selection = int(userinput) - 1\n",
    "    except ValueError:\n",
    "        print('Your selection was not valid')\n",
    "        traverse_dict(d)  # Try again if input was not valid\n",
    "        return\n",
    "\n",
    "    selected = keys[selection]\n",
    "\n",
    "    next_level = d[selected]\n",
    "    if isinstance(next_level, list):  # If we've hit a list of downloads, download that list\n",
    "        download_list(next_level)\n",
    "    else:\n",
    "        traverse_dict(next_level)     # Otherwise, repeat with the next level\n",
    "\n",
    "traverse_dict(download_dict)"
   ]
  },
  {
   "cell_type": "code",
   "execution_count": 30,
   "id": "b76db3a7",
   "metadata": {
    "ExecuteTime": {
     "end_time": "2022-05-31T17:42:07.572650Z",
     "start_time": "2022-05-31T17:42:07.562652Z"
    }
   },
   "outputs": [],
   "source": [
    "from numpy import load"
   ]
  },
  {
   "cell_type": "code",
   "execution_count": 49,
   "id": "2dcfd35a",
   "metadata": {
    "ExecuteTime": {
     "end_time": "2022-05-31T17:45:38.499986Z",
     "start_time": "2022-05-31T17:45:38.484372Z"
    }
   },
   "outputs": [
    {
     "name": "stdout",
     "output_type": "stream",
     "text": [
      "arr_0\n",
      "[2 9 3 ... 9 4 2]\n"
     ]
    }
   ],
   "source": [
    "minst_ = load('kmnist-train-labels.npz')\n",
    "lst = minst.files\n",
    "for item in lst:\n",
    "    print(item)\n",
    "    print(minst[item])"
   ]
  },
  {
   "cell_type": "code",
   "execution_count": 50,
   "id": "da5eea7c",
   "metadata": {
    "ExecuteTime": {
     "end_time": "2022-05-31T17:45:38.838145Z",
     "start_time": "2022-05-31T17:45:38.822553Z"
    }
   },
   "outputs": [
    {
     "data": {
      "text/plain": [
       "10000"
      ]
     },
     "execution_count": 50,
     "metadata": {},
     "output_type": "execute_result"
    }
   ],
   "source": [
    "minst[item].size"
   ]
  },
  {
   "cell_type": "code",
   "execution_count": null,
   "id": "690b91a5",
   "metadata": {},
   "outputs": [],
   "source": []
  },
  {
   "cell_type": "code",
   "execution_count": null,
   "id": "48f22093",
   "metadata": {},
   "outputs": [],
   "source": []
  },
  {
   "cell_type": "code",
   "execution_count": null,
   "id": "b80647de",
   "metadata": {},
   "outputs": [],
   "source": []
  },
  {
   "cell_type": "code",
   "execution_count": null,
   "id": "4888d8e4",
   "metadata": {},
   "outputs": [],
   "source": []
  },
  {
   "cell_type": "code",
   "execution_count": null,
   "id": "d5bf43a7",
   "metadata": {},
   "outputs": [],
   "source": []
  },
  {
   "cell_type": "code",
   "execution_count": null,
   "id": "2e822b34",
   "metadata": {},
   "outputs": [],
   "source": []
  },
  {
   "cell_type": "code",
   "execution_count": null,
   "id": "81501816",
   "metadata": {},
   "outputs": [],
   "source": []
  },
  {
   "cell_type": "code",
   "execution_count": null,
   "id": "067ea50c",
   "metadata": {},
   "outputs": [],
   "source": []
  },
  {
   "cell_type": "code",
   "execution_count": null,
   "id": "703b1199",
   "metadata": {},
   "outputs": [],
   "source": []
  },
  {
   "cell_type": "markdown",
   "id": "bb380447",
   "metadata": {},
   "source": [
    "# Q4\n",
    "\n",
    "For this question we are going to use Box and Jenkins Airline Passenger Dataset. For this dataset, please install the `rdatasets` library:"
   ]
  },
  {
   "cell_type": "code",
   "execution_count": 38,
   "id": "7b92762a",
   "metadata": {},
   "outputs": [],
   "source": [
    "#!pip install rdatasets\n",
    "from rdatasets import data"
   ]
  },
  {
   "cell_type": "code",
   "execution_count": 44,
   "id": "2b6b19a0",
   "metadata": {},
   "outputs": [
    {
     "data": {
      "text/plain": [
       "<AxesSubplot:>"
      ]
     },
     "execution_count": 44,
     "metadata": {},
     "output_type": "execute_result"
    },
    {
     "data": {
      "image/png": "[encoded data removed]",
      "text/plain": [
       "<Figure size 864x288 with 1 Axes>"
      ]
     },
     "metadata": {
      "needs_background": "light"
     },
     "output_type": "display_data"
    }
   ],
   "source": [
    "airline = data('AirPassengers')\n",
    "\n",
    "plt.figure(figsize=(12,4))\n",
    "airline['value'].plot()"
   ]
  },
  {
   "cell_type": "code",
   "execution_count": 46,
   "id": "a773d44d",
   "metadata": {},
   "outputs": [],
   "source": [
    "train = airline['value'][:123]\n",
    "test = airline['value'][123:]"
   ]
  },
  {
   "cell_type": "markdown",
   "id": "d9534c73",
   "metadata": {},
   "source": [
    "Construct\n",
    "\n",
    "- recurrent \n",
    "- LSTM\n",
    "\n",
    "netural network models on the train set (the first 122 values), and then test it on the last 24 values."
   ]
  },
  {
   "cell_type": "code",
   "execution_count": null,
   "id": "bec6529f",
   "metadata": {},
   "outputs": [],
   "source": []
  }
 ],
 "metadata": {
  "kernelspec": {
   "display_name": "Python 3",
   "language": "python",
   "name": "python3"
  },
  "language_info": {
   "codemirror_mode": {
    "name": "ipython",
    "version": 3
   },
   "file_extension": ".py",
   "mimetype": "text/x-python",
   "name": "python",
   "nbconvert_exporter": "python",
   "pygments_lexer": "ipython3",
   "version": "3.8.8"
  }
 },
 "nbformat": 4,
 "nbformat_minor": 5
}
